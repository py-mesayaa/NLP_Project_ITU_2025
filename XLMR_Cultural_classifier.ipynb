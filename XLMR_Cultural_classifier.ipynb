{
 "cells": [
  {
   "cell_type": "code",
   "execution_count": 1,
   "id": "01c6ac9b",
   "metadata": {},
   "outputs": [
    {
     "name": "stderr",
     "output_type": "stream",
     "text": [
      "c:\\coding\\.venv\\lib\\site-packages\\tqdm\\auto.py:22: TqdmWarning: IProgress not found. Please update jupyter and ipywidgets. See https://ipywidgets.readthedocs.io/en/stable/user_install.html\n",
      "  from .autonotebook import tqdm as notebook_tqdm\n"
     ]
    }
   ],
   "source": [
    "import torch\n",
    "import pandas as pd\n",
    "import numpy as np\n",
    "import pandas as pd\n",
    "import matplotlib.pyplot as plt\n",
    "import json\n",
    "from xlmr_culture_classification import XLMRCultureClassifier, XLMRCultureClassifier_2\n",
    "from transformers import  XLMRobertaTokenizerFast\n",
    "from datasets import Dataset\n",
    "from transformers import AdamW\n",
    "from transformers import XLMRobertaTokenizerFast, XLMRobertaForTokenClassification, DataCollatorForTokenClassification, Trainer, TrainingArguments, EarlyStoppingCallback\n",
    "from datasets import Dataset\n",
    "import numpy as np\n",
    "from seqeval.metrics import classification_report, precision_score, recall_score, f1_score\n",
    "import json\n",
    "\n",
    "from transformers import  DataCollatorForTokenClassification\n",
    "from sklearn.metrics import confusion_matrix, ConfusionMatrixDisplay\n",
    "from sklearn.utils.class_weight import compute_class_weight\n",
    "import warnings\n",
    "import pandas as pd\n",
    "import csv\n"
   ]
  },
  {
   "cell_type": "code",
   "execution_count": 2,
   "id": "95dd1b48",
   "metadata": {},
   "outputs": [],
   "source": [
    "warnings.filterwarnings(\"ignore\")"
   ]
  },
  {
   "cell_type": "markdown",
   "id": "a266fb55",
   "metadata": {},
   "source": [
    "##### General set up"
   ]
  },
  {
   "cell_type": "code",
   "execution_count": 3,
   "id": "e95a121a",
   "metadata": {},
   "outputs": [],
   "source": [
    "tokenizer = XLMRobertaTokenizerFast.from_pretrained(\"xlm-roberta-base\")"
   ]
  },
  {
   "cell_type": "code",
   "execution_count": 4,
   "id": "a22e0dd6",
   "metadata": {},
   "outputs": [],
   "source": [
    "# cultural_train = \"data/train_merged_output.conll\"\n",
    "cultural_train = \"annotation/test/fully_annotated_span_test_lyrics.conll\"\n",
    "# cultural_test = \"data/test_merged_output.conll\"\n",
    "cultural_test = \"annotation/train/fully_annotated_lyrics_span.conll\""
   ]
  },
  {
   "cell_type": "code",
   "execution_count": null,
   "id": "15423a61",
   "metadata": {},
   "outputs": [],
   "source": [
    "def extract_refs(json_path):\n",
    "    cultural_refs_tag = []\n",
    "    cultural_refs_IDs = {}\n",
    "\n",
    "    with open(json_path, \"r\") as f:\n",
    "        cultural_data = json.load(f)\n",
    "        cultural_refs_tag.extend([entry['tag'] for entry in cultural_data])\n",
    "        cultural_refs_IDs.update({entry['tag']: entry['id'] for entry in cultural_data})\n",
    "\n",
    "    return cultural_refs_tag, cultural_refs_IDs\n",
    "\n",
    "ner_tags_path = \"data/ner_tags.json\"\n",
    "cultural_ref_tags_path = \"data/cultural_tags.json\"\n",
    "\n",
    "ner_tags, tag2id_ner = extract_refs(ner_tags_path)\n",
    "cultural_tags, tag2id_cultural = extract_refs(cultural_ref_tags_path)\n",
    "\n",
    "num_labels_culture = len(tag2id_cultural)\n",
    "num_labels_ner = len(tag2id_ner)"
   ]
  },
  {
   "cell_type": "code",
   "execution_count": 6,
   "id": "3aded868",
   "metadata": {},
   "outputs": [],
   "source": [
    "ner_tags_path = \"data/ner_tags.json\"\n",
    "cultural_ref_tags_path = \"data/cultural_tags.json\"\n",
    "\n",
    "ner_tags, tag2id_ner = extract_refs(ner_tags_path)\n",
    "cultural_tags, tag2id_cultural = extract_refs(cultural_ref_tags_path)\n",
    "\n",
    "id2tag_ner = {v: k for k, v in tag2id_ner.items()}\n",
    "id2tag_cultural = {v: k for k, v in tag2id_cultural.items()}"
   ]
  },
  {
   "cell_type": "code",
   "execution_count": 7,
   "id": "c3e8055d",
   "metadata": {},
   "outputs": [],
   "source": [
    "# if torch.cuda.is_available():\n",
    "#     device = torch.device(\"cuda\")    \n",
    "#     print('There are %d GPU(s) available.' % torch.cuda.device_count())\n",
    "#     print('GPU is:', torch.cuda.get_device_name(0))\n",
    "# else:\n",
    "#     print('No GPU available, using the CPU instead.')\n",
    "#     device = torch.device(\"cpu\")"
   ]
  },
  {
   "cell_type": "code",
   "execution_count": 8,
   "id": "fd807e45",
   "metadata": {},
   "outputs": [
    {
     "data": {
      "text/plain": [
       "{'-': 0,\n",
       " 'African': 1,\n",
       " 'North American': 2,\n",
       " 'Eastern Asian': 3,\n",
       " 'European': 4,\n",
       " 'Latin': 5,\n",
       " 'Middle Asian': 6,\n",
       " 'Middle Eastern': 7,\n",
       " 'Oceanian': 8,\n",
       " 'Non cultural': 9}"
      ]
     },
     "execution_count": 8,
     "metadata": {},
     "output_type": "execute_result"
    }
   ],
   "source": [
    "tag2id_cultural"
   ]
  },
  {
   "cell_type": "code",
   "execution_count": 9,
   "id": "04dd9803",
   "metadata": {},
   "outputs": [
    {
     "data": {
      "text/plain": [
       "{0: '-',\n",
       " 1: 'African',\n",
       " 2: 'North American',\n",
       " 3: 'Eastern Asian',\n",
       " 4: 'European',\n",
       " 5: 'Latin',\n",
       " 6: 'Middle Asian',\n",
       " 7: 'Middle Eastern',\n",
       " 8: 'Oceanian',\n",
       " 9: 'Non cultural'}"
      ]
     },
     "execution_count": 9,
     "metadata": {},
     "output_type": "execute_result"
    }
   ],
   "source": [
    "id2tag_cultural"
   ]
  },
  {
   "cell_type": "markdown",
   "id": "70d32a89",
   "metadata": {},
   "source": [
    "##### Vizualizations"
   ]
  },
  {
   "cell_type": "code",
   "execution_count": 10,
   "id": "acb507c5",
   "metadata": {},
   "outputs": [],
   "source": [
    "header = {0:'token', 1:'ner_tag', 2:'cultural_tag'}\n",
    "\n",
    "chunksize = 100000\n",
    "chunks = []  # List to store chunks"
   ]
  },
  {
   "cell_type": "code",
   "execution_count": 11,
   "id": "a78ccd64",
   "metadata": {},
   "outputs": [],
   "source": [
    "chunks = pd.read_csv(cultural_train, encoding='utf-8', sep='\\t', engine='python', on_bad_lines='skip', header=None, low_memory=True,chunksize=chunksize)"
   ]
  },
  {
   "cell_type": "code",
   "execution_count": 12,
   "id": "9eaa4446",
   "metadata": {},
   "outputs": [],
   "source": [
    "chunks = pd.read_csv(\n",
    "    cultural_train,\n",
    "    encoding='utf-8',\n",
    "    sep='\\t',\n",
    "    engine='python',\n",
    "    on_bad_lines='skip',\n",
    "    header=None,\n",
    "    quoting=csv.QUOTE_NONE,\n",
    "    chunksize=100000,\n",
    "    low_memory=True\n",
    ")\n"
   ]
  },
  {
   "cell_type": "code",
   "execution_count": 13,
   "id": "f42e7d3e",
   "metadata": {},
   "outputs": [],
   "source": [
    "df = pd.concat(chunks, ignore_index=True)"
   ]
  },
  {
   "cell_type": "code",
   "execution_count": 14,
   "id": "4cfb967f",
   "metadata": {},
   "outputs": [
    {
     "data": {
      "text/html": [
       "<div>\n",
       "<style scoped>\n",
       "    .dataframe tbody tr th:only-of-type {\n",
       "        vertical-align: middle;\n",
       "    }\n",
       "\n",
       "    .dataframe tbody tr th {\n",
       "        vertical-align: top;\n",
       "    }\n",
       "\n",
       "    .dataframe thead th {\n",
       "        text-align: right;\n",
       "    }\n",
       "</style>\n",
       "<table border=\"1\" class=\"dataframe\">\n",
       "  <thead>\n",
       "    <tr style=\"text-align: right;\">\n",
       "      <th></th>\n",
       "      <th>token</th>\n",
       "      <th>ner_tag</th>\n",
       "      <th>cultural_tag</th>\n",
       "    </tr>\n",
       "  </thead>\n",
       "  <tbody>\n",
       "    <tr>\n",
       "      <th>0</th>\n",
       "      <td>Desfilaba</td>\n",
       "      <td>O</td>\n",
       "      <td>-</td>\n",
       "    </tr>\n",
       "    <tr>\n",
       "      <th>1</th>\n",
       "      <td>en</td>\n",
       "      <td>O</td>\n",
       "      <td>-</td>\n",
       "    </tr>\n",
       "    <tr>\n",
       "      <th>2</th>\n",
       "      <td>Milán</td>\n",
       "      <td>B-LOC</td>\n",
       "      <td>European</td>\n",
       "    </tr>\n",
       "    <tr>\n",
       "      <th>3</th>\n",
       "      <td>Con</td>\n",
       "      <td>O</td>\n",
       "      <td>-</td>\n",
       "    </tr>\n",
       "    <tr>\n",
       "      <th>4</th>\n",
       "      <td>21</td>\n",
       "      <td>B-MISC</td>\n",
       "      <td>European</td>\n",
       "    </tr>\n",
       "    <tr>\n",
       "      <th>...</th>\n",
       "      <td>...</td>\n",
       "      <td>...</td>\n",
       "      <td>...</td>\n",
       "    </tr>\n",
       "    <tr>\n",
       "      <th>3082</th>\n",
       "      <td>religión</td>\n",
       "      <td>O</td>\n",
       "      <td>-</td>\n",
       "    </tr>\n",
       "    <tr>\n",
       "      <th>3083</th>\n",
       "      <td>Real</td>\n",
       "      <td>O</td>\n",
       "      <td>-</td>\n",
       "    </tr>\n",
       "    <tr>\n",
       "      <th>3084</th>\n",
       "      <td>hasta</td>\n",
       "      <td>O</td>\n",
       "      <td>-</td>\n",
       "    </tr>\n",
       "    <tr>\n",
       "      <th>3085</th>\n",
       "      <td>la</td>\n",
       "      <td>O</td>\n",
       "      <td>-</td>\n",
       "    </tr>\n",
       "    <tr>\n",
       "      <th>3086</th>\n",
       "      <td>muerte</td>\n",
       "      <td>O</td>\n",
       "      <td>-</td>\n",
       "    </tr>\n",
       "  </tbody>\n",
       "</table>\n",
       "<p>3087 rows × 3 columns</p>\n",
       "</div>"
      ],
      "text/plain": [
       "          token ner_tag cultural_tag\n",
       "0     Desfilaba       O            -\n",
       "1            en       O            -\n",
       "2         Milán   B-LOC     European\n",
       "3           Con       O            -\n",
       "4            21  B-MISC     European\n",
       "...         ...     ...          ...\n",
       "3082   religión       O            -\n",
       "3083       Real       O            -\n",
       "3084      hasta       O            -\n",
       "3085         la       O            -\n",
       "3086     muerte       O            -\n",
       "\n",
       "[3087 rows x 3 columns]"
      ]
     },
     "execution_count": 14,
     "metadata": {},
     "output_type": "execute_result"
    }
   ],
   "source": [
    "df.rename(columns=header)"
   ]
  },
  {
   "cell_type": "code",
   "execution_count": 15,
   "id": "0e6313dd",
   "metadata": {},
   "outputs": [],
   "source": [
    "exclude = ['-']\n",
    "filtered_cult = df[~df[2].isin(exclude)]"
   ]
  },
  {
   "cell_type": "code",
   "execution_count": 16,
   "id": "052381cb",
   "metadata": {},
   "outputs": [
    {
     "data": {
      "text/html": [
       "<div>\n",
       "<style scoped>\n",
       "    .dataframe tbody tr th:only-of-type {\n",
       "        vertical-align: middle;\n",
       "    }\n",
       "\n",
       "    .dataframe tbody tr th {\n",
       "        vertical-align: top;\n",
       "    }\n",
       "\n",
       "    .dataframe thead th {\n",
       "        text-align: right;\n",
       "    }\n",
       "</style>\n",
       "<table border=\"1\" class=\"dataframe\">\n",
       "  <thead>\n",
       "    <tr style=\"text-align: right;\">\n",
       "      <th></th>\n",
       "      <th>0</th>\n",
       "      <th>1</th>\n",
       "      <th>2</th>\n",
       "    </tr>\n",
       "  </thead>\n",
       "  <tbody>\n",
       "    <tr>\n",
       "      <th>2</th>\n",
       "      <td>Milán</td>\n",
       "      <td>B-LOC</td>\n",
       "      <td>European</td>\n",
       "    </tr>\n",
       "    <tr>\n",
       "      <th>4</th>\n",
       "      <td>21</td>\n",
       "      <td>B-MISC</td>\n",
       "      <td>European</td>\n",
       "    </tr>\n",
       "    <tr>\n",
       "      <th>8</th>\n",
       "      <td>Prada</td>\n",
       "      <td>B-ORG</td>\n",
       "      <td>European</td>\n",
       "    </tr>\n",
       "    <tr>\n",
       "      <th>59</th>\n",
       "      <td>Berlín</td>\n",
       "      <td>B-LOC</td>\n",
       "      <td>European</td>\n",
       "    </tr>\n",
       "    <tr>\n",
       "      <th>62</th>\n",
       "      <td>techno</td>\n",
       "      <td>B-MISC</td>\n",
       "      <td>Non-cultural</td>\n",
       "    </tr>\n",
       "    <tr>\n",
       "      <th>...</th>\n",
       "      <td>...</td>\n",
       "      <td>...</td>\n",
       "      <td>...</td>\n",
       "    </tr>\n",
       "    <tr>\n",
       "      <th>3055</th>\n",
       "      <td>Que</td>\n",
       "      <td>I-MISC</td>\n",
       "      <td>Latin</td>\n",
       "    </tr>\n",
       "    <tr>\n",
       "      <th>3056</th>\n",
       "      <td>Me</td>\n",
       "      <td>I-MISC</td>\n",
       "      <td>Latin</td>\n",
       "    </tr>\n",
       "    <tr>\n",
       "      <th>3057</th>\n",
       "      <td>De</td>\n",
       "      <td>I-MISC</td>\n",
       "      <td>Latin</td>\n",
       "    </tr>\n",
       "    <tr>\n",
       "      <th>3058</th>\n",
       "      <td>La</td>\n",
       "      <td>I-MISC</td>\n",
       "      <td>Latin</td>\n",
       "    </tr>\n",
       "    <tr>\n",
       "      <th>3059</th>\n",
       "      <td>Gana</td>\n",
       "      <td>I-MISC</td>\n",
       "      <td>Latin</td>\n",
       "    </tr>\n",
       "  </tbody>\n",
       "</table>\n",
       "<p>185 rows × 3 columns</p>\n",
       "</div>"
      ],
      "text/plain": [
       "           0       1             2\n",
       "2      Milán   B-LOC      European\n",
       "4         21  B-MISC      European\n",
       "8      Prada   B-ORG      European\n",
       "59    Berlín   B-LOC      European\n",
       "62    techno  B-MISC  Non-cultural\n",
       "...      ...     ...           ...\n",
       "3055     Que  I-MISC         Latin\n",
       "3056      Me  I-MISC         Latin\n",
       "3057      De  I-MISC         Latin\n",
       "3058      La  I-MISC         Latin\n",
       "3059    Gana  I-MISC         Latin\n",
       "\n",
       "[185 rows x 3 columns]"
      ]
     },
     "execution_count": 16,
     "metadata": {},
     "output_type": "execute_result"
    }
   ],
   "source": [
    "filtered_cult"
   ]
  },
  {
   "cell_type": "code",
   "execution_count": 17,
   "id": "1508a0bc",
   "metadata": {},
   "outputs": [
    {
     "data": {
      "text/plain": [
       "<AxesSubplot: xlabel='2'>"
      ]
     },
     "execution_count": 17,
     "metadata": {},
     "output_type": "execute_result"
    },
    {
     "data": {
      "image/png": "[encoded data removed]",
      "text/plain": [
       "<Figure size 640x480 with 1 Axes>"
      ]
     },
     "metadata": {},
     "output_type": "display_data"
    }
   ],
   "source": [
    "filtered_cult[2].value_counts().plot.bar()\n",
    "# plt.xticks(fontsize=8, rotation=90)\n",
    "# plt.yticks(fontsize=8)\n",
    "#imbalanced data for training\n"
   ]
  },
  {
   "cell_type": "code",
   "execution_count": 18,
   "id": "b82f0d5a",
   "metadata": {},
   "outputs": [],
   "source": [
    "exclude = ['O']\n",
    "filtered_ner = df[~df[1].isin(exclude)]"
   ]
  },
  {
   "cell_type": "code",
   "execution_count": 19,
   "id": "ecdd3152",
   "metadata": {},
   "outputs": [
    {
     "data": {
      "text/plain": [
       "<AxesSubplot: xlabel='1'>"
      ]
     },
     "execution_count": 19,
     "metadata": {},
     "output_type": "execute_result"
    },
    {
     "data": {
      "image/png": "[encoded data removed]",
      "text/plain": [
       "<Figure size 640x480 with 1 Axes>"
      ]
     },
     "metadata": {},
     "output_type": "display_data"
    }
   ],
   "source": [
    "filtered_ner[1].value_counts().plot.bar()"
   ]
  },
  {
   "cell_type": "markdown",
   "id": "52da09ac",
   "metadata": {},
   "source": [
    "#### Data aligment"
   ]
  },
  {
   "cell_type": "code",
   "execution_count": 20,
   "id": "72583f90",
   "metadata": {},
   "outputs": [],
   "source": [
    "def parse_conllu(file_path):\n",
    "    \" This function create a usable dataset of the sparse .conllu file with the NER tags and cultural refferences\"\n",
    "    sentences = []\n",
    "    tags = []\n",
    "    cultural_references = []\n",
    "    \n",
    "    with open(file_path, \"r\",encoding=\"utf-8\") as file:\n",
    "        tokens = []\n",
    "        ner_tags = []\n",
    "        cultural_ref = []\n",
    "        \n",
    "        for line in file:\n",
    "            line = line.strip()\n",
    "                       \n",
    "            if not line:\n",
    "                if tokens:  \n",
    "                    sentences.append(tokens)\n",
    "                    tags.append(ner_tags)\n",
    "                    cultural_references.append(cultural_ref)\n",
    "              \n",
    "                tokens = []\n",
    "                ner_tags = []\n",
    "                cultural_ref = []\n",
    "                continue\n",
    "\n",
    "            parts = line.split(\"\\t\")\n",
    "            \n",
    "            if len(parts) >= 3:\n",
    "                token = parts[0]  \n",
    "                ner_tag = parts[1] \n",
    "                cultural_ref_val = parts[2]\n",
    "                \n",
    "                tokens.append(token)\n",
    "                ner_tags.append(ner_tag)\n",
    "                cultural_ref.append(cultural_ref_val)\n",
    "        \n",
    "       \n",
    "        if tokens:\n",
    "            sentences.append(tokens)\n",
    "            tags.append(ner_tags)\n",
    "            cultural_references.append(cultural_ref)\n",
    "    \n",
    "    return sentences, tags, cultural_references"
   ]
  },
  {
   "cell_type": "code",
   "execution_count": 21,
   "id": "38b9264c",
   "metadata": {},
   "outputs": [],
   "source": [
    "sentences, tags, cultural_refs = parse_conllu(cultural_train)\n",
    "train_data = [{\"tokens\": s, \"ner_tags\": t, \"cultural_ref\": c} for s, t, c in zip(sentences, tags, cultural_refs)]\n",
    "dataset_train = Dataset.from_list(train_data)"
   ]
  },
  {
   "cell_type": "code",
   "execution_count": 22,
   "id": "eb89cc85",
   "metadata": {},
   "outputs": [],
   "source": [
    "#load test data for later use:\n",
    "sentences_test, tags_test, cultural_refs_test = parse_conllu(cultural_test)\n",
    "test_data = [{\"tokens\": s, \"ner_tags\": t, \"cultural_ref\": c} for s, t, c in zip(sentences_test, tags_test, cultural_refs_test)]\n",
    "dataset_test = Dataset.from_list(test_data)"
   ]
  },
  {
   "cell_type": "code",
   "execution_count": 23,
   "id": "df64caa5",
   "metadata": {},
   "outputs": [],
   "source": [
    "dataset = dataset_train.train_test_split(test_size=0.1, seed=42)\n",
    "train_dataset = dataset[\"train\"]\n",
    "val_dataset = dataset[\"test\"]"
   ]
  },
  {
   "cell_type": "code",
   "execution_count": 24,
   "id": "aba4b1f9",
   "metadata": {},
   "outputs": [
    {
     "data": {
      "text/plain": [
       "Dataset({\n",
       "    features: ['tokens', 'ner_tags', 'cultural_ref'],\n",
       "    num_rows: 317\n",
       "})"
      ]
     },
     "execution_count": 24,
     "metadata": {},
     "output_type": "execute_result"
    }
   ],
   "source": [
    "train_dataset"
   ]
  },
  {
   "cell_type": "code",
   "execution_count": 25,
   "id": "a2a4b475",
   "metadata": {},
   "outputs": [],
   "source": [
    "def tokenize_and_align_labels_with_cultural(example):\n",
    "    tokenized = tokenizer(\n",
    "        example['tokens'], \n",
    "        truncation=True, \n",
    "        padding=True,\n",
    "        is_split_into_words=True\n",
    "    )\n",
    "\n",
    "    labels = []\n",
    "    cultural_ref = []\n",
    "\n",
    "    for i, word in enumerate(example['tokens']):\n",
    "        if example['ner_tags'][i] != \"O\":\n",
    "            \n",
    "            labels.append(tag2id_ner.get(example['ner_tags'][i], -100))\n",
    "            \n",
    "            cultural_ref.append(tag2id_cultural.get(example['cultural_ref'][i], -100))\n",
    "        else:\n",
    "            labels.append(-100)\n",
    "            cultural_ref.append(-100)\n",
    "\n",
    "    tokenized['labels'] = labels\n",
    "    tokenized['cultural_ref'] = cultural_ref\n",
    "    return tokenized\n"
   ]
  },
  {
   "cell_type": "code",
   "execution_count": 26,
   "id": "cacadc6b",
   "metadata": {},
   "outputs": [
    {
     "name": "stderr",
     "output_type": "stream",
     "text": [
      "                                                               \r"
     ]
    }
   ],
   "source": [
    "tokenized_cultural_train = train_dataset.map(tokenize_and_align_labels_with_cultural)\n",
    "tokenized_cultural_val = val_dataset.map(tokenize_and_align_labels_with_cultural)\n"
   ]
  },
  {
   "cell_type": "code",
   "execution_count": 27,
   "id": "bd16f1a2",
   "metadata": {},
   "outputs": [
    {
     "name": "stderr",
     "output_type": "stream",
     "text": [
      "                                                               \r"
     ]
    }
   ],
   "source": [
    "tokenized_cultural_test = dataset_test.map(tokenize_and_align_labels_with_cultural)"
   ]
  },
  {
   "cell_type": "code",
   "execution_count": 28,
   "id": "d7736518",
   "metadata": {},
   "outputs": [
    {
     "name": "stdout",
     "output_type": "stream",
     "text": [
      "[0, 1208, 151250, 11, 163, 479, 6967, 5627, 41, 10, 13042, 163, 36268, 402, 2]\n",
      "[-100, -100, -100, -100, -100, -100, -100, -100, -100]\n"
     ]
    }
   ],
   "source": [
    "print(tokenized_cultural_train[7]['input_ids'])\n",
    "print(tokenized_cultural_train[7]['labels'])\n"
   ]
  },
  {
   "cell_type": "code",
   "execution_count": 29,
   "id": "d47d39c2",
   "metadata": {},
   "outputs": [],
   "source": [
    "# tokenized_cultural_train[7]"
   ]
  },
  {
   "cell_type": "code",
   "execution_count": 30,
   "id": "109a1138",
   "metadata": {},
   "outputs": [
    {
     "name": "stdout",
     "output_type": "stream",
     "text": [
      "[('<s>', 'IGN'), ('▁Extra', 'IGN'), ('▁', 'IGN'), (',', 'IGN'), ('▁extra', 'IGN'), ('▁', 'IGN'), (',', 'IGN'), ('▁mi', 'IGN')]\n",
      "[('<s>', 'IGN'), ('▁¿', 'IGN'), ('▁Te', 'IGN'), ('▁cree', 'European'), ('s', 'Oceanian'), ('▁Brad', 'IGN'), ('▁Pitt', 'IGN'), ('▁?', 'IGN'), ('▁¿', 'IGN'), ('▁Ah', 'IGN'), ('▁', 'IGN')]\n",
      "[('<s>', 'IGN'), ('▁De', 'IGN'), ('mu', 'IGN'), ('e', 'IGN'), ('stra', 'IGN'), ('▁má', 'IGN'), (\"'\", 'IGN'), ('▁respeto', 'IGN'), ('▁', 'IGN'), (',', 'IGN')]\n"
     ]
    }
   ],
   "source": [
    "for i in range(3):\n",
    "    tokens = tokenizer.convert_ids_to_tokens(tokenized_cultural_train[i]['input_ids'])\n",
    "    labels = [id2tag_cultural.get(id, \"IGN\") for id in tokenized_cultural_train[i]['labels']]\n",
    "    print(list(zip(tokens, labels)))"
   ]
  },
  {
   "cell_type": "markdown",
   "id": "f8368810",
   "metadata": {},
   "source": [
    "#### Model set up"
   ]
  },
  {
   "cell_type": "code",
   "execution_count": 31,
   "id": "b0b60dec",
   "metadata": {},
   "outputs": [],
   "source": [
    "data_collator = DataCollatorForTokenClassification(tokenizer)"
   ]
  },
  {
   "cell_type": "code",
   "execution_count": 32,
   "id": "1f379f7d",
   "metadata": {},
   "outputs": [],
   "source": [
    "def compute_metrics(p):\n",
    "    predictions, labels = p\n",
    "    predictions = np.argmax(predictions, axis=2)\n",
    "\n",
    "    true_predictions = [\n",
    "        [id2tag_cultural[p] for (p, l) in zip(pred, label) if l != -100]\n",
    "        for pred, label in zip(predictions, labels)\n",
    "    ]\n",
    "    true_labels = [\n",
    "        [id2tag_cultural[l] for (p, l) in zip(pred, label) if l != -100]\n",
    "        for pred, label in zip(predictions, labels)\n",
    "    ]\n",
    "\n",
    "    return {\n",
    "        \"precision\": precision_score(true_labels, true_predictions),\n",
    "        \"recall\": recall_score(true_labels, true_predictions),\n",
    "        \"f1\": f1_score(true_labels, true_predictions),\n",
    "    }"
   ]
  },
  {
   "cell_type": "markdown",
   "id": "4fef72b5",
   "metadata": {},
   "source": [
    "##### Model version 1"
   ]
  },
  {
   "cell_type": "code",
   "execution_count": 33,
   "id": "783380cf",
   "metadata": {},
   "outputs": [],
   "source": [
    "# #addign class weights\n",
    "# all_labels = [\n",
    "#     label for seq in tokenized_cultural_train['labels']\n",
    "#     for label in seq if label != -100]\n",
    "\n",
    "# train_labels_present = np.unique(all_labels)\n",
    "\n",
    "# class_weights_raw = compute_class_weight(class_weight=\"balanced\", classes=train_labels_present, y=all_labels)\n",
    "\n",
    "# full_class_weights = torch.ones(len(id2tag_cultural), dtype=torch.float)\n",
    "\n",
    "# # Add all class weights, as some of them are not present in the training set\n",
    "# for i, label in enumerate(train_labels_present):\n",
    "#     full_class_weights[label] = class_weights_raw[i]\n"
   ]
  },
  {
   "cell_type": "code",
   "execution_count": 34,
   "id": "fb72e7c3",
   "metadata": {},
   "outputs": [],
   "source": [
    "# culture_model = XLMRCultureClassifier(num_labels_culture,class_weights=full_class_weights)\n",
    "# optimizer = AdamW(culture_model.parameters(), lr=5e-5)"
   ]
  },
  {
   "cell_type": "code",
   "execution_count": 35,
   "id": "7cb9aecc",
   "metadata": {},
   "outputs": [],
   "source": [
    "# #cult model 1\n",
    "# training_args = TrainingArguments(\n",
    "#     output_dir=\"./xlmr-cultural-model\",\n",
    "#     save_strategy=\"steps\",\n",
    "#     save_steps=50,\n",
    "#     evaluation_strategy=\"steps\",\n",
    "#     eval_steps=25,\n",
    "#     load_best_model_at_end=True,\n",
    "#     metric_for_best_model=\"eval_loss\",\n",
    "#     greater_is_better=False,\n",
    "#     logging_dir=\"./logs\",\n",
    "#     logging_steps=10,\n",
    "#     learning_rate=3e-5,\n",
    "#     per_device_train_batch_size=64,\n",
    "#     per_device_eval_batch_size=64,\n",
    "#     num_train_epochs=10,\n",
    "#     weight_decay=0.01,\n",
    "#     max_grad_norm=1.0,\n",
    "#     save_total_limit=2,\n",
    "#     remove_unused_columns=True,\n",
    "#     fp16=False,\n",
    "# )\n",
    "\n",
    "# trainer = Trainer(\n",
    "#     model=culture_model,\n",
    "#     args=training_args,\n",
    "#     train_dataset=tokenized_cultural_train,\n",
    "#     eval_dataset=tokenized_cultural_val,\n",
    "#     tokenizer=tokenizer,\n",
    "#     compute_metrics=compute_metrics,\n",
    "#     data_collator=data_collator,\n",
    "#     callbacks=[EarlyStoppingCallback(early_stopping_patience=3)],\n",
    "# )\n"
   ]
  },
  {
   "cell_type": "markdown",
   "id": "7f9cd2e5",
   "metadata": {},
   "source": [
    "##### Model version 2"
   ]
  },
  {
   "cell_type": "code",
   "execution_count": 36,
   "id": "b6070c62",
   "metadata": {},
   "outputs": [],
   "source": [
    "# culture_model_2 = XLMRCultureClassifier_2(num_labels_culture,class_weights=full_class_weights)\n",
    "# optimizer = AdamW(culture_model_2.parameters(), lr=5e-5)"
   ]
  },
  {
   "cell_type": "code",
   "execution_count": 37,
   "id": "594ddc47",
   "metadata": {},
   "outputs": [],
   "source": [
    "# #Alternative classifier\n",
    "# training_args_2 = TrainingArguments(\n",
    "#     output_dir=\"./xlmr-cultural-model_2\",\n",
    "#     save_strategy=\"steps\",\n",
    "#     save_steps=50,\n",
    "#     evaluation_strategy=\"steps\",\n",
    "#     eval_steps=25,\n",
    "#     load_best_model_at_end=True,\n",
    "#     metric_for_best_model=\"eval_loss\",\n",
    "#     greater_is_better=False,\n",
    "#     logging_dir=\"./logs\",\n",
    "#     logging_steps=10,\n",
    "#     learning_rate=3e-5,\n",
    "#     per_device_train_batch_size=64,\n",
    "#     per_device_eval_batch_size=64,\n",
    "#     num_train_epochs=10,\n",
    "#     weight_decay=0.01,\n",
    "#     max_grad_norm=1.0,\n",
    "#     save_total_limit=2,\n",
    "#     remove_unused_columns=True,\n",
    "#     fp16=False,\n",
    "# )\n",
    "\n",
    "# trainer_2 = Trainer(\n",
    "#     model=culture_model_2,\n",
    "#     args=training_args_2,\n",
    "#     train_dataset=tokenized_cultural_train,\n",
    "#     eval_dataset=tokenized_cultural_val,\n",
    "#     tokenizer=tokenizer,\n",
    "#     compute_metrics=compute_metrics,\n",
    "#     data_collator=data_collator,\n",
    "#     callbacks=[EarlyStoppingCallback(early_stopping_patience=3)],)"
   ]
  },
  {
   "cell_type": "markdown",
   "id": "ce0f3258",
   "metadata": {},
   "source": [
    "##### Final model (ver3.)"
   ]
  },
  {
   "cell_type": "code",
   "execution_count": 38,
   "id": "e8e7caf8",
   "metadata": {},
   "outputs": [
    {
     "data": {
      "text/plain": [
       "10"
      ]
     },
     "execution_count": 38,
     "metadata": {},
     "output_type": "execute_result"
    }
   ],
   "source": [
    "num_labels_culture"
   ]
  },
  {
   "cell_type": "code",
   "execution_count": 39,
   "id": "ac77259e",
   "metadata": {},
   "outputs": [
    {
     "name": "stderr",
     "output_type": "stream",
     "text": [
      "Some weights of the model checkpoint at xlm-roberta-base were not used when initializing XLMRobertaForTokenClassification: ['lm_head.layer_norm.weight', 'lm_head.dense.bias', 'lm_head.dense.weight', 'lm_head.bias', 'lm_head.layer_norm.bias']\n",
      "- This IS expected if you are initializing XLMRobertaForTokenClassification from the checkpoint of a model trained on another task or with another architecture (e.g. initializing a BertForSequenceClassification model from a BertForPreTraining model).\n",
      "- This IS NOT expected if you are initializing XLMRobertaForTokenClassification from the checkpoint of a model that you expect to be exactly identical (initializing a BertForSequenceClassification model from a BertForSequenceClassification model).\n",
      "Some weights of XLMRobertaForTokenClassification were not initialized from the model checkpoint at xlm-roberta-base and are newly initialized: ['classifier.weight', 'classifier.bias']\n",
      "You should probably TRAIN this model on a down-stream task to be able to use it for predictions and inference.\n"
     ]
    }
   ],
   "source": [
    "model_funziez = XLMRobertaForTokenClassification.from_pretrained(\n",
    "    \"xlm-roberta-base\",\n",
    "    num_labels=num_labels_culture,\n",
    "    id2label=id2tag_cultural,\n",
    "    label2id=tag2id_cultural)\n",
    "\n",
    "optimizer = AdamW(model_funziez.parameters(), lr=5e-5)\n"
   ]
  },
  {
   "cell_type": "code",
   "execution_count": 40,
   "id": "804ea887",
   "metadata": {},
   "outputs": [],
   "source": [
    "training_args_fun = TrainingArguments(\n",
    "    output_dir=\"./xlmr-cultural-funziez\",\n",
    "    save_strategy=\"steps\",\n",
    "    save_steps=50,\n",
    "    evaluation_strategy=\"steps\",\n",
    "    eval_steps=25,\n",
    "    load_best_model_at_end=True,\n",
    "    metric_for_best_model=\"eval_loss\",\n",
    "    greater_is_better=False,\n",
    "    logging_dir=\"./logs\",\n",
    "    logging_steps=25,\n",
    "    learning_rate=3e-5,\n",
    "    per_device_train_batch_size=64,\n",
    "    per_device_eval_batch_size=64,\n",
    "    num_train_epochs=10,\n",
    "    weight_decay=0.01,\n",
    "    max_grad_norm=1.0,\n",
    "    save_total_limit=2,\n",
    "    remove_unused_columns=True,\n",
    "    fp16=False,\n",
    ")\n",
    "\n",
    "trainer_fun = Trainer(\n",
    "    model=model_funziez,\n",
    "    args=training_args_fun,\n",
    "    train_dataset=tokenized_cultural_train,\n",
    "    eval_dataset=tokenized_cultural_val,\n",
    "    tokenizer=tokenizer,\n",
    "    compute_metrics=compute_metrics,\n",
    "    data_collator=data_collator,\n",
    "    callbacks=[EarlyStoppingCallback(early_stopping_patience=3)],)"
   ]
  },
  {
   "cell_type": "code",
   "execution_count": 41,
   "id": "1445ec73",
   "metadata": {},
   "outputs": [
    {
     "name": "stderr",
     "output_type": "stream",
     "text": [
      "  0%|          | 0/50 [00:00<?, ?it/s]You're using a XLMRobertaTokenizerFast tokenizer. Please note that with a fast tokenizer, using the `__call__` method is faster than using a method to encode the text followed by a call to the `pad` method to get a padded encoding.\n",
      "  4%|▍         | 2/50 [00:18<07:41,  9.61s/it]"
     ]
    },
    {
     "ename": "KeyboardInterrupt",
     "evalue": "",
     "output_type": "error",
     "traceback": [
      "\u001b[1;31m---------------------------------------------------------------------------\u001b[0m",
      "\u001b[1;31mKeyboardInterrupt\u001b[0m                         Traceback (most recent call last)",
      "Cell \u001b[1;32mIn[41], line 1\u001b[0m\n\u001b[1;32m----> 1\u001b[0m \u001b[43mtrainer_fun\u001b[49m\u001b[38;5;241;43m.\u001b[39;49m\u001b[43mtrain\u001b[49m\u001b[43m(\u001b[49m\u001b[43m)\u001b[49m\n",
      "File \u001b[1;32mc:\\coding\\.venv\\lib\\site-packages\\transformers\\trainer.py:1645\u001b[0m, in \u001b[0;36mTrainer.train\u001b[1;34m(self, resume_from_checkpoint, trial, ignore_keys_for_eval, **kwargs)\u001b[0m\n\u001b[0;32m   1640\u001b[0m     \u001b[38;5;28mself\u001b[39m\u001b[38;5;241m.\u001b[39mmodel_wrapped \u001b[38;5;241m=\u001b[39m \u001b[38;5;28mself\u001b[39m\u001b[38;5;241m.\u001b[39mmodel\n\u001b[0;32m   1642\u001b[0m inner_training_loop \u001b[38;5;241m=\u001b[39m find_executable_batch_size(\n\u001b[0;32m   1643\u001b[0m     \u001b[38;5;28mself\u001b[39m\u001b[38;5;241m.\u001b[39m_inner_training_loop, \u001b[38;5;28mself\u001b[39m\u001b[38;5;241m.\u001b[39m_train_batch_size, args\u001b[38;5;241m.\u001b[39mauto_find_batch_size\n\u001b[0;32m   1644\u001b[0m )\n\u001b[1;32m-> 1645\u001b[0m \u001b[38;5;28;01mreturn\u001b[39;00m \u001b[43minner_training_loop\u001b[49m\u001b[43m(\u001b[49m\n\u001b[0;32m   1646\u001b[0m \u001b[43m    \u001b[49m\u001b[43margs\u001b[49m\u001b[38;5;241;43m=\u001b[39;49m\u001b[43margs\u001b[49m\u001b[43m,\u001b[49m\n\u001b[0;32m   1647\u001b[0m \u001b[43m    \u001b[49m\u001b[43mresume_from_checkpoint\u001b[49m\u001b[38;5;241;43m=\u001b[39;49m\u001b[43mresume_from_checkpoint\u001b[49m\u001b[43m,\u001b[49m\n\u001b[0;32m   1648\u001b[0m \u001b[43m    \u001b[49m\u001b[43mtrial\u001b[49m\u001b[38;5;241;43m=\u001b[39;49m\u001b[43mtrial\u001b[49m\u001b[43m,\u001b[49m\n\u001b[0;32m   1649\u001b[0m \u001b[43m    \u001b[49m\u001b[43mignore_keys_for_eval\u001b[49m\u001b[38;5;241;43m=\u001b[39;49m\u001b[43mignore_keys_for_eval\u001b[49m\u001b[43m,\u001b[49m\n\u001b[0;32m   1650\u001b[0m \u001b[43m\u001b[49m\u001b[43m)\u001b[49m\n",
      "File \u001b[1;32mc:\\coding\\.venv\\lib\\site-packages\\transformers\\trainer.py:1998\u001b[0m, in \u001b[0;36mTrainer._inner_training_loop\u001b[1;34m(self, batch_size, args, resume_from_checkpoint, trial, ignore_keys_for_eval)\u001b[0m\n\u001b[0;32m   1996\u001b[0m     optimizer_was_run \u001b[38;5;241m=\u001b[39m scale_before \u001b[38;5;241m<\u001b[39m\u001b[38;5;241m=\u001b[39m scale_after\n\u001b[0;32m   1997\u001b[0m \u001b[38;5;28;01melse\u001b[39;00m:\n\u001b[1;32m-> 1998\u001b[0m     \u001b[38;5;28;43mself\u001b[39;49m\u001b[38;5;241;43m.\u001b[39;49m\u001b[43moptimizer\u001b[49m\u001b[38;5;241;43m.\u001b[39;49m\u001b[43mstep\u001b[49m\u001b[43m(\u001b[49m\u001b[43m)\u001b[49m\n\u001b[0;32m   1999\u001b[0m     optimizer_was_run \u001b[38;5;241m=\u001b[39m \u001b[38;5;129;01mnot\u001b[39;00m \u001b[38;5;28mself\u001b[39m\u001b[38;5;241m.\u001b[39maccelerator\u001b[38;5;241m.\u001b[39moptimizer_step_was_skipped\n\u001b[0;32m   2001\u001b[0m \u001b[38;5;28;01mif\u001b[39;00m optimizer_was_run:\n\u001b[0;32m   2002\u001b[0m     \u001b[38;5;66;03m# Delay optimizer scheduling until metrics are generated\u001b[39;00m\n",
      "File \u001b[1;32mc:\\coding\\.venv\\lib\\site-packages\\accelerate\\optimizer.py:178\u001b[0m, in \u001b[0;36mAcceleratedOptimizer.step\u001b[1;34m(self, closure)\u001b[0m\n\u001b[0;32m    176\u001b[0m         \u001b[38;5;28mself\u001b[39m\u001b[38;5;241m.\u001b[39m_accelerate_step_called \u001b[38;5;241m=\u001b[39m \u001b[38;5;28;01mFalse\u001b[39;00m\n\u001b[0;32m    177\u001b[0m     \u001b[38;5;28;01melse\u001b[39;00m:\n\u001b[1;32m--> 178\u001b[0m         \u001b[38;5;28;43mself\u001b[39;49m\u001b[38;5;241;43m.\u001b[39;49m\u001b[43moptimizer\u001b[49m\u001b[38;5;241;43m.\u001b[39;49m\u001b[43mstep\u001b[49m\u001b[43m(\u001b[49m\u001b[43mclosure\u001b[49m\u001b[43m)\u001b[49m\n\u001b[0;32m    179\u001b[0m \u001b[38;5;28;01mif\u001b[39;00m \u001b[38;5;28mself\u001b[39m\u001b[38;5;241m.\u001b[39maccelerator_state\u001b[38;5;241m.\u001b[39mdistributed_type \u001b[38;5;241m==\u001b[39m DistributedType\u001b[38;5;241m.\u001b[39mXLA:\n\u001b[0;32m    180\u001b[0m     \u001b[38;5;28mself\u001b[39m\u001b[38;5;241m.\u001b[39mgradient_state\u001b[38;5;241m.\u001b[39mis_xla_gradients_synced \u001b[38;5;241m=\u001b[39m \u001b[38;5;28;01mFalse\u001b[39;00m\n",
      "File \u001b[1;32mc:\\coding\\.venv\\lib\\site-packages\\torch\\optim\\lr_scheduler.py:124\u001b[0m, in \u001b[0;36mLRScheduler.__init__.<locals>.patch_track_step_called.<locals>.wrap_step.<locals>.wrapper\u001b[1;34m(*args, **kwargs)\u001b[0m\n\u001b[0;32m    122\u001b[0m opt \u001b[38;5;241m=\u001b[39m opt_ref()\n\u001b[0;32m    123\u001b[0m opt\u001b[38;5;241m.\u001b[39m_opt_called \u001b[38;5;241m=\u001b[39m \u001b[38;5;28;01mTrue\u001b[39;00m  \u001b[38;5;66;03m# type: ignore[union-attr]\u001b[39;00m\n\u001b[1;32m--> 124\u001b[0m \u001b[38;5;28;01mreturn\u001b[39;00m func\u001b[38;5;241m.\u001b[39m\u001b[38;5;21m__get__\u001b[39m(opt, opt\u001b[38;5;241m.\u001b[39m\u001b[38;5;18m__class__\u001b[39m)(\u001b[38;5;241m*\u001b[39margs, \u001b[38;5;241m*\u001b[39m\u001b[38;5;241m*\u001b[39mkwargs)\n",
      "File \u001b[1;32mc:\\coding\\.venv\\lib\\site-packages\\torch\\optim\\optimizer.py:485\u001b[0m, in \u001b[0;36mOptimizer.profile_hook_step.<locals>.wrapper\u001b[1;34m(*args, **kwargs)\u001b[0m\n\u001b[0;32m    480\u001b[0m         \u001b[38;5;28;01melse\u001b[39;00m:\n\u001b[0;32m    481\u001b[0m             \u001b[38;5;28;01mraise\u001b[39;00m \u001b[38;5;167;01mRuntimeError\u001b[39;00m(\n\u001b[0;32m    482\u001b[0m                 \u001b[38;5;124mf\u001b[39m\u001b[38;5;124m\"\u001b[39m\u001b[38;5;132;01m{\u001b[39;00mfunc\u001b[38;5;132;01m}\u001b[39;00m\u001b[38;5;124m must return None or a tuple of (new_args, new_kwargs), but got \u001b[39m\u001b[38;5;132;01m{\u001b[39;00mresult\u001b[38;5;132;01m}\u001b[39;00m\u001b[38;5;124m.\u001b[39m\u001b[38;5;124m\"\u001b[39m\n\u001b[0;32m    483\u001b[0m             )\n\u001b[1;32m--> 485\u001b[0m out \u001b[38;5;241m=\u001b[39m func(\u001b[38;5;241m*\u001b[39margs, \u001b[38;5;241m*\u001b[39m\u001b[38;5;241m*\u001b[39mkwargs)\n\u001b[0;32m    486\u001b[0m \u001b[38;5;28mself\u001b[39m\u001b[38;5;241m.\u001b[39m_optimizer_step_code()\n\u001b[0;32m    488\u001b[0m \u001b[38;5;66;03m# call optimizer step post hooks\u001b[39;00m\n",
      "File \u001b[1;32mc:\\coding\\.venv\\lib\\site-packages\\torch\\utils\\_contextlib.py:116\u001b[0m, in \u001b[0;36mcontext_decorator.<locals>.decorate_context\u001b[1;34m(*args, **kwargs)\u001b[0m\n\u001b[0;32m    113\u001b[0m \u001b[38;5;129m@functools\u001b[39m\u001b[38;5;241m.\u001b[39mwraps(func)\n\u001b[0;32m    114\u001b[0m \u001b[38;5;28;01mdef\u001b[39;00m\u001b[38;5;250m \u001b[39m\u001b[38;5;21mdecorate_context\u001b[39m(\u001b[38;5;241m*\u001b[39margs, \u001b[38;5;241m*\u001b[39m\u001b[38;5;241m*\u001b[39mkwargs):\n\u001b[0;32m    115\u001b[0m     \u001b[38;5;28;01mwith\u001b[39;00m ctx_factory():\n\u001b[1;32m--> 116\u001b[0m         \u001b[38;5;28;01mreturn\u001b[39;00m func(\u001b[38;5;241m*\u001b[39margs, \u001b[38;5;241m*\u001b[39m\u001b[38;5;241m*\u001b[39mkwargs)\n",
      "File \u001b[1;32mc:\\coding\\.venv\\lib\\site-packages\\transformers\\optimization.py:476\u001b[0m, in \u001b[0;36mAdamW.step\u001b[1;34m(self, closure)\u001b[0m\n\u001b[0;32m    473\u001b[0m     bias_correction2 \u001b[38;5;241m=\u001b[39m \u001b[38;5;241m1.0\u001b[39m \u001b[38;5;241m-\u001b[39m beta2 \u001b[38;5;241m*\u001b[39m\u001b[38;5;241m*\u001b[39m state[\u001b[38;5;124m\"\u001b[39m\u001b[38;5;124mstep\u001b[39m\u001b[38;5;124m\"\u001b[39m]\n\u001b[0;32m    474\u001b[0m     step_size \u001b[38;5;241m=\u001b[39m step_size \u001b[38;5;241m*\u001b[39m math\u001b[38;5;241m.\u001b[39msqrt(bias_correction2) \u001b[38;5;241m/\u001b[39m bias_correction1\n\u001b[1;32m--> 476\u001b[0m \u001b[43mp\u001b[49m\u001b[38;5;241;43m.\u001b[39;49m\u001b[43maddcdiv_\u001b[49m\u001b[43m(\u001b[49m\u001b[43mexp_avg\u001b[49m\u001b[43m,\u001b[49m\u001b[43m \u001b[49m\u001b[43mdenom\u001b[49m\u001b[43m,\u001b[49m\u001b[43m \u001b[49m\u001b[43mvalue\u001b[49m\u001b[38;5;241;43m=\u001b[39;49m\u001b[38;5;241;43m-\u001b[39;49m\u001b[43mstep_size\u001b[49m\u001b[43m)\u001b[49m\n\u001b[0;32m    478\u001b[0m \u001b[38;5;66;03m# Just adding the square of the weights to the loss function is *not*\u001b[39;00m\n\u001b[0;32m    479\u001b[0m \u001b[38;5;66;03m# the correct way of using L2 regularization/weight decay with Adam,\u001b[39;00m\n\u001b[0;32m    480\u001b[0m \u001b[38;5;66;03m# since that will interact with the m and v parameters in strange ways.\u001b[39;00m\n\u001b[1;32m   (...)\u001b[0m\n\u001b[0;32m    484\u001b[0m \u001b[38;5;66;03m# of the weights to the loss with plain (non-momentum) SGD.\u001b[39;00m\n\u001b[0;32m    485\u001b[0m \u001b[38;5;66;03m# Add weight decay at the end (fixed version)\u001b[39;00m\n\u001b[0;32m    486\u001b[0m \u001b[38;5;28;01mif\u001b[39;00m group[\u001b[38;5;124m\"\u001b[39m\u001b[38;5;124mweight_decay\u001b[39m\u001b[38;5;124m\"\u001b[39m] \u001b[38;5;241m>\u001b[39m \u001b[38;5;241m0.0\u001b[39m:\n",
      "\u001b[1;31mKeyboardInterrupt\u001b[0m: "
     ]
    }
   ],
   "source": [
    "trainer_fun.train()"
   ]
  },
  {
   "cell_type": "markdown",
   "id": "5953b56e",
   "metadata": {},
   "source": [
    "##### Model training and evaluation"
   ]
  },
  {
   "cell_type": "markdown",
   "id": "5e56d4f5",
   "metadata": {},
   "source": [
    "##### 1."
   ]
  },
  {
   "cell_type": "code",
   "execution_count": null,
   "id": "dcfa50a8",
   "metadata": {},
   "outputs": [
    {
     "name": "stderr",
     "output_type": "stream",
     "text": [
      "                                                  \n",
      "\n",
      "  1%|          | 10/820 [01:21<2:00:04,  8.89s/it]\n",
      "\u001b[A"
     ]
    },
    {
     "name": "stdout",
     "output_type": "stream",
     "text": [
      "{'loss': 2.3073, 'learning_rate': 2.9634146341463413e-05, 'epoch': 0.12}\n"
     ]
    },
    {
     "name": "stderr",
     "output_type": "stream",
     "text": [
      "                                                  \n",
      "\n",
      "  2%|▏         | 20/820 [02:46<1:55:21,  8.65s/it]\n",
      "\u001b[A"
     ]
    },
    {
     "name": "stdout",
     "output_type": "stream",
     "text": [
      "{'loss': 2.1902, 'learning_rate': 2.926829268292683e-05, 'epoch': 0.24}\n"
     ]
    },
    {
     "name": "stderr",
     "output_type": "stream",
     "text": [
      "  3%|▎         | 25/820 [03:27<1:50:03,  8.31s/it]\n",
      "                                                  \n",
      "\n",
      "  3%|▎         | 25/820 [03:48<1:50:03,  8.31s/it]\n",
      "\u001b[A"
     ]
    },
    {
     "name": "stdout",
     "output_type": "stream",
     "text": [
      "{'eval_loss': 2.0956010818481445, 'eval_precision': 0.16748768472906403, 'eval_recall': 0.19318181818181818, 'eval_f1': 0.17941952506596306, 'eval_runtime': 21.5287, 'eval_samples_per_second': 26.941, 'eval_steps_per_second': 0.464, 'epoch': 0.3}\n"
     ]
    },
    {
     "name": "stderr",
     "output_type": "stream",
     "text": [
      "                                                  \n",
      "\n",
      "  4%|▎         | 30/820 [04:25<1:56:16,  8.83s/it]\n",
      "\u001b[A"
     ]
    },
    {
     "name": "stdout",
     "output_type": "stream",
     "text": [
      "{'loss': 2.153, 'learning_rate': 2.8902439024390242e-05, 'epoch': 0.37}\n"
     ]
    },
    {
     "name": "stderr",
     "output_type": "stream",
     "text": [
      "                                                  \n",
      "\n",
      "  5%|▍         | 40/820 [05:43<1:41:48,  7.83s/it]\n",
      "\u001b[A"
     ]
    },
    {
     "name": "stdout",
     "output_type": "stream",
     "text": [
      "{'loss': 1.9614, 'learning_rate': 2.8536585365853658e-05, 'epoch': 0.49}\n"
     ]
    },
    {
     "name": "stderr",
     "output_type": "stream",
     "text": [
      "                                                  \n",
      "\n",
      "  6%|▌         | 50/820 [07:27<2:54:57, 13.63s/it]\n",
      "\u001b[A"
     ]
    },
    {
     "name": "stdout",
     "output_type": "stream",
     "text": [
      "{'loss': 2.0341, 'learning_rate': 2.817073170731707e-05, 'epoch': 0.61}\n"
     ]
    },
    {
     "name": "stderr",
     "output_type": "stream",
     "text": [
      "\n",
      "                                                  \n",
      "\n",
      "  6%|▌         | 50/820 [07:48<2:54:57, 13.63s/it]\n",
      "\u001b[A"
     ]
    },
    {
     "name": "stdout",
     "output_type": "stream",
     "text": [
      "{'eval_loss': 1.7043747901916504, 'eval_precision': 0.2949640287769784, 'eval_recall': 0.23295454545454544, 'eval_f1': 0.2603174603174603, 'eval_runtime': 21.1508, 'eval_samples_per_second': 27.422, 'eval_steps_per_second': 0.473, 'epoch': 0.61}\n"
     ]
    },
    {
     "name": "stderr",
     "output_type": "stream",
     "text": [
      "                                                  \n",
      "\n",
      "  7%|▋         | 60/820 [09:12<1:43:12,  8.15s/it]\n",
      "\u001b[A"
     ]
    },
    {
     "name": "stdout",
     "output_type": "stream",
     "text": [
      "{'loss': 1.8709, 'learning_rate': 2.780487804878049e-05, 'epoch': 0.73}\n"
     ]
    },
    {
     "name": "stderr",
     "output_type": "stream",
     "text": [
      "                                                  \n",
      "\n",
      "  9%|▊         | 70/820 [10:33<1:39:59,  8.00s/it]\n",
      "\u001b[A"
     ]
    },
    {
     "name": "stdout",
     "output_type": "stream",
     "text": [
      "{'loss': 1.773, 'learning_rate': 2.7439024390243903e-05, 'epoch': 0.85}\n"
     ]
    },
    {
     "name": "stderr",
     "output_type": "stream",
     "text": [
      "  9%|▉         | 75/820 [11:13<1:40:13,  8.07s/it]\n",
      "                                                  \n",
      "\n",
      "  9%|▉         | 75/820 [11:33<1:40:13,  8.07s/it]\n",
      "\u001b[A"
     ]
    },
    {
     "name": "stdout",
     "output_type": "stream",
     "text": [
      "{'eval_loss': 1.5018389225006104, 'eval_precision': 0.48026315789473684, 'eval_recall': 0.4147727272727273, 'eval_f1': 0.4451219512195122, 'eval_runtime': 20.8263, 'eval_samples_per_second': 27.849, 'eval_steps_per_second': 0.48, 'epoch': 0.91}\n"
     ]
    },
    {
     "name": "stderr",
     "output_type": "stream",
     "text": [
      "                                                  \n",
      "\n",
      " 10%|▉         | 80/820 [12:15<1:58:38,  9.62s/it]\n",
      "\u001b[A"
     ]
    },
    {
     "name": "stdout",
     "output_type": "stream",
     "text": [
      "{'loss': 1.6891, 'learning_rate': 2.707317073170732e-05, 'epoch': 0.98}\n"
     ]
    },
    {
     "name": "stderr",
     "output_type": "stream",
     "text": [
      "                                                  \n",
      "\n",
      " 11%|█         | 90/820 [13:38<1:54:15,  9.39s/it]\n",
      "\u001b[A"
     ]
    },
    {
     "name": "stdout",
     "output_type": "stream",
     "text": [
      "{'loss': 1.613, 'learning_rate': 2.6707317073170732e-05, 'epoch': 1.1}\n"
     ]
    },
    {
     "name": "stderr",
     "output_type": "stream",
     "text": [
      "                                                   \n",
      "\n",
      " 12%|█▏        | 100/820 [14:55<1:32:34,  7.71s/it]\n",
      "\u001b[A"
     ]
    },
    {
     "name": "stdout",
     "output_type": "stream",
     "text": [
      "{'loss': 1.5083, 'learning_rate': 2.6341463414634148e-05, 'epoch': 1.22}\n"
     ]
    },
    {
     "name": "stderr",
     "output_type": "stream",
     "text": [
      "\n",
      "                                                   \n",
      "\n",
      " 12%|█▏        | 100/820 [15:16<1:32:34,  7.71s/it]\n",
      "\u001b[A"
     ]
    },
    {
     "name": "stdout",
     "output_type": "stream",
     "text": [
      "{'eval_loss': 1.5170347690582275, 'eval_precision': 0.39473684210526316, 'eval_recall': 0.3409090909090909, 'eval_f1': 0.36585365853658536, 'eval_runtime': 21.4859, 'eval_samples_per_second': 26.994, 'eval_steps_per_second': 0.465, 'epoch': 1.22}\n"
     ]
    },
    {
     "name": "stderr",
     "output_type": "stream",
     "text": [
      "                                                   \n",
      "\n",
      " 13%|█▎        | 110/820 [16:47<1:33:01,  7.86s/it]\n",
      "\u001b[A"
     ]
    },
    {
     "name": "stdout",
     "output_type": "stream",
     "text": [
      "{'loss': 1.4688, 'learning_rate': 2.597560975609756e-05, 'epoch': 1.34}\n"
     ]
    },
    {
     "name": "stderr",
     "output_type": "stream",
     "text": [
      "                                                   \n",
      "\n",
      " 15%|█▍        | 120/820 [18:03<1:28:19,  7.57s/it]\n",
      "\u001b[A"
     ]
    },
    {
     "name": "stdout",
     "output_type": "stream",
     "text": [
      "{'loss': 1.3801, 'learning_rate': 2.5609756097560977e-05, 'epoch': 1.46}\n"
     ]
    },
    {
     "name": "stderr",
     "output_type": "stream",
     "text": [
      " 15%|█▌        | 125/820 [18:48<1:47:24,  9.27s/it]\n",
      "                                                   \n",
      "\n",
      " 15%|█▌        | 125/820 [19:09<1:47:24,  9.27s/it]\n",
      "\u001b[A"
     ]
    },
    {
     "name": "stdout",
     "output_type": "stream",
     "text": [
      "{'eval_loss': 1.3019108772277832, 'eval_precision': 0.6012658227848101, 'eval_recall': 0.5397727272727273, 'eval_f1': 0.5688622754491018, 'eval_runtime': 21.2401, 'eval_samples_per_second': 27.307, 'eval_steps_per_second': 0.471, 'epoch': 1.52}\n"
     ]
    },
    {
     "name": "stderr",
     "output_type": "stream",
     "text": [
      "                                                   \n",
      "\n",
      " 16%|█▌        | 130/820 [19:47<1:48:08,  9.40s/it]\n",
      "\u001b[A"
     ]
    },
    {
     "name": "stdout",
     "output_type": "stream",
     "text": [
      "{'loss': 1.136, 'learning_rate': 2.524390243902439e-05, 'epoch': 1.59}\n"
     ]
    },
    {
     "name": "stderr",
     "output_type": "stream",
     "text": [
      "                                                   \n",
      "\n",
      " 17%|█▋        | 140/820 [21:07<1:34:39,  8.35s/it]\n",
      "\u001b[A"
     ]
    },
    {
     "name": "stdout",
     "output_type": "stream",
     "text": [
      "{'loss': 1.0874, 'learning_rate': 2.4878048780487805e-05, 'epoch': 1.71}\n"
     ]
    },
    {
     "name": "stderr",
     "output_type": "stream",
     "text": [
      "                                                   \n",
      "\n",
      " 18%|█▊        | 150/820 [22:29<1:34:38,  8.48s/it]\n",
      "\u001b[A"
     ]
    },
    {
     "name": "stdout",
     "output_type": "stream",
     "text": [
      "{'loss': 1.2792, 'learning_rate': 2.4512195121951218e-05, 'epoch': 1.83}\n"
     ]
    },
    {
     "name": "stderr",
     "output_type": "stream",
     "text": [
      "\n",
      "                                                   \n",
      "\n",
      " 18%|█▊        | 150/820 [22:51<1:34:38,  8.48s/it]\n",
      "\u001b[A"
     ]
    },
    {
     "name": "stdout",
     "output_type": "stream",
     "text": [
      "{'eval_loss': 1.107533574104309, 'eval_precision': 0.6433566433566433, 'eval_recall': 0.5227272727272727, 'eval_f1': 0.5768025078369905, 'eval_runtime': 22.2294, 'eval_samples_per_second': 26.092, 'eval_steps_per_second': 0.45, 'epoch': 1.83}\n"
     ]
    },
    {
     "name": "stderr",
     "output_type": "stream",
     "text": [
      "                                                   \n",
      "\n",
      " 20%|█▉        | 160/820 [24:19<1:29:48,  8.16s/it]\n",
      "\u001b[A"
     ]
    },
    {
     "name": "stdout",
     "output_type": "stream",
     "text": [
      "{'loss': 1.1622, 'learning_rate': 2.4146341463414638e-05, 'epoch': 1.95}\n"
     ]
    },
    {
     "name": "stderr",
     "output_type": "stream",
     "text": [
      "                                                   \n",
      "\n",
      " 21%|██        | 170/820 [26:14<1:48:16,  9.99s/it]\n",
      "\u001b[A"
     ]
    },
    {
     "name": "stdout",
     "output_type": "stream",
     "text": [
      "{'loss': 1.2122, 'learning_rate': 2.378048780487805e-05, 'epoch': 2.07}\n"
     ]
    },
    {
     "name": "stderr",
     "output_type": "stream",
     "text": [
      " 21%|██▏       | 175/820 [26:52<1:28:37,  8.24s/it]\n",
      "                                                   \n",
      "\n",
      " 21%|██▏       | 175/820 [27:13<1:28:37,  8.24s/it]\n",
      "\u001b[A"
     ]
    },
    {
     "name": "stdout",
     "output_type": "stream",
     "text": [
      "{'eval_loss': 1.1049326658248901, 'eval_precision': 0.6463414634146342, 'eval_recall': 0.6022727272727273, 'eval_f1': 0.6235294117647059, 'eval_runtime': 21.2386, 'eval_samples_per_second': 27.309, 'eval_steps_per_second': 0.471, 'epoch': 2.13}\n"
     ]
    },
    {
     "name": "stderr",
     "output_type": "stream",
     "text": [
      "                                                   \n",
      "\n",
      " 22%|██▏       | 180/820 [27:52<1:39:24,  9.32s/it]\n",
      "\u001b[A"
     ]
    },
    {
     "name": "stdout",
     "output_type": "stream",
     "text": [
      "{'loss': 0.9894, 'learning_rate': 2.3414634146341466e-05, 'epoch': 2.2}\n"
     ]
    },
    {
     "name": "stderr",
     "output_type": "stream",
     "text": [
      "                                                   \n",
      "\n",
      " 23%|██▎       | 190/820 [29:12<1:25:44,  8.17s/it]\n",
      "\u001b[A"
     ]
    },
    {
     "name": "stdout",
     "output_type": "stream",
     "text": [
      "{'loss': 1.0245, 'learning_rate': 2.304878048780488e-05, 'epoch': 2.32}\n"
     ]
    },
    {
     "name": "stderr",
     "output_type": "stream",
     "text": [
      "                                                   \n",
      "\n",
      " 24%|██▍       | 200/820 [30:29<1:27:49,  8.50s/it]\n",
      "\u001b[A"
     ]
    },
    {
     "name": "stdout",
     "output_type": "stream",
     "text": [
      "{'loss': 1.036, 'learning_rate': 2.2682926829268295e-05, 'epoch': 2.44}\n"
     ]
    },
    {
     "name": "stderr",
     "output_type": "stream",
     "text": [
      "\n",
      "                                                   \n",
      "\n",
      " 24%|██▍       | 200/820 [30:50<1:27:49,  8.50s/it]\n",
      "\u001b[A"
     ]
    },
    {
     "name": "stdout",
     "output_type": "stream",
     "text": [
      "{'eval_loss': 1.0629382133483887, 'eval_precision': 0.6357615894039735, 'eval_recall': 0.5454545454545454, 'eval_f1': 0.5871559633027522, 'eval_runtime': 21.4033, 'eval_samples_per_second': 27.099, 'eval_steps_per_second': 0.467, 'epoch': 2.44}\n"
     ]
    },
    {
     "name": "stderr",
     "output_type": "stream",
     "text": [
      "                                                   \n",
      "\n",
      " 26%|██▌       | 210/820 [32:19<1:22:34,  8.12s/it]\n",
      "\u001b[A"
     ]
    },
    {
     "name": "stdout",
     "output_type": "stream",
     "text": [
      "{'loss': 0.9233, 'learning_rate': 2.2317073170731708e-05, 'epoch': 2.56}\n"
     ]
    },
    {
     "name": "stderr",
     "output_type": "stream",
     "text": [
      "                                                   \n",
      "\n",
      " 27%|██▋       | 220/820 [33:35<1:19:52,  7.99s/it]\n",
      "\u001b[A"
     ]
    },
    {
     "name": "stdout",
     "output_type": "stream",
     "text": [
      "{'loss': 0.9033, 'learning_rate': 2.195121951219512e-05, 'epoch': 2.68}\n"
     ]
    },
    {
     "name": "stderr",
     "output_type": "stream",
     "text": [
      " 27%|██▋       | 225/820 [34:40<2:28:49, 15.01s/it]\n",
      "                                                   \n",
      "\n",
      " 27%|██▋       | 225/820 [35:02<2:28:49, 15.01s/it]\n",
      "\u001b[A"
     ]
    },
    {
     "name": "stdout",
     "output_type": "stream",
     "text": [
      "{'eval_loss': 0.9210220575332642, 'eval_precision': 0.6866666666666666, 'eval_recall': 0.5852272727272727, 'eval_f1': 0.6319018404907976, 'eval_runtime': 22.0734, 'eval_samples_per_second': 26.276, 'eval_steps_per_second': 0.453, 'epoch': 2.74}\n"
     ]
    },
    {
     "name": "stderr",
     "output_type": "stream",
     "text": [
      "                                                   \n",
      "\n",
      " 28%|██▊       | 230/820 [35:43<1:43:36, 10.54s/it]\n",
      "\u001b[A"
     ]
    },
    {
     "name": "stdout",
     "output_type": "stream",
     "text": [
      "{'loss': 1.0125, 'learning_rate': 2.1585365853658537e-05, 'epoch': 2.8}\n"
     ]
    },
    {
     "name": "stderr",
     "output_type": "stream",
     "text": [
      "                                                   \n",
      "\n",
      " 29%|██▉       | 240/820 [37:01<1:09:57,  7.24s/it]\n",
      "\u001b[A"
     ]
    },
    {
     "name": "stdout",
     "output_type": "stream",
     "text": [
      "{'loss': 0.8462, 'learning_rate': 2.121951219512195e-05, 'epoch': 2.93}\n"
     ]
    },
    {
     "name": "stderr",
     "output_type": "stream",
     "text": [
      "                                                   \n",
      "\n",
      " 30%|███       | 250/820 [38:21<1:14:38,  7.86s/it]\n",
      "\u001b[A"
     ]
    },
    {
     "name": "stdout",
     "output_type": "stream",
     "text": [
      "{'loss': 0.8485, 'learning_rate': 2.0853658536585365e-05, 'epoch': 3.05}\n"
     ]
    },
    {
     "name": "stderr",
     "output_type": "stream",
     "text": [
      "\n",
      "                                                   \n",
      "\n",
      " 30%|███       | 250/820 [38:42<1:14:38,  7.86s/it]\n",
      "\u001b[A"
     ]
    },
    {
     "name": "stdout",
     "output_type": "stream",
     "text": [
      "{'eval_loss': 0.887202799320221, 'eval_precision': 0.725609756097561, 'eval_recall': 0.6761363636363636, 'eval_f1': 0.7, 'eval_runtime': 21.2553, 'eval_samples_per_second': 27.287, 'eval_steps_per_second': 0.47, 'epoch': 3.05}\n"
     ]
    },
    {
     "name": "stderr",
     "output_type": "stream",
     "text": [
      "                                                   \n",
      "\n",
      " 32%|███▏      | 260/820 [40:15<1:17:40,  8.32s/it]\n",
      "\u001b[A"
     ]
    },
    {
     "name": "stdout",
     "output_type": "stream",
     "text": [
      "{'loss': 0.7637, 'learning_rate': 2.048780487804878e-05, 'epoch': 3.17}\n"
     ]
    },
    {
     "name": "stderr",
     "output_type": "stream",
     "text": [
      "                                                   \n",
      "\n",
      " 33%|███▎      | 270/820 [41:41<1:21:10,  8.86s/it]\n",
      "\u001b[A"
     ]
    },
    {
     "name": "stdout",
     "output_type": "stream",
     "text": [
      "{'loss': 0.6272, 'learning_rate': 2.0121951219512197e-05, 'epoch': 3.29}\n"
     ]
    },
    {
     "name": "stderr",
     "output_type": "stream",
     "text": [
      " 34%|███▎      | 275/820 [42:19<1:10:45,  7.79s/it]\n",
      "                                                   \n",
      "\n",
      " 34%|███▎      | 275/820 [42:40<1:10:45,  7.79s/it]\n",
      "\u001b[A"
     ]
    },
    {
     "name": "stdout",
     "output_type": "stream",
     "text": [
      "{'eval_loss': 1.0586938858032227, 'eval_precision': 0.7409638554216867, 'eval_recall': 0.6988636363636364, 'eval_f1': 0.7192982456140351, 'eval_runtime': 21.1736, 'eval_samples_per_second': 27.393, 'eval_steps_per_second': 0.472, 'epoch': 3.35}\n"
     ]
    },
    {
     "name": "stderr",
     "output_type": "stream",
     "text": [
      "                                                   \n",
      "\n",
      " 34%|███▍      | 280/820 [43:20<1:28:46,  9.86s/it]\n",
      "\u001b[A"
     ]
    },
    {
     "name": "stdout",
     "output_type": "stream",
     "text": [
      "{'loss': 0.4816, 'learning_rate': 1.975609756097561e-05, 'epoch': 3.41}\n"
     ]
    },
    {
     "name": "stderr",
     "output_type": "stream",
     "text": [
      "                                                   \n",
      "\n",
      " 35%|███▌      | 290/820 [44:37<1:07:13,  7.61s/it]\n",
      "\u001b[A"
     ]
    },
    {
     "name": "stdout",
     "output_type": "stream",
     "text": [
      "{'loss': 0.6566, 'learning_rate': 1.9390243902439026e-05, 'epoch': 3.54}\n"
     ]
    },
    {
     "name": "stderr",
     "output_type": "stream",
     "text": [
      "                                                   \n",
      "\n",
      " 37%|███▋      | 300/820 [46:17<1:43:30, 11.94s/it]\n",
      "\u001b[A"
     ]
    },
    {
     "name": "stdout",
     "output_type": "stream",
     "text": [
      "{'loss': 0.7149, 'learning_rate': 1.902439024390244e-05, 'epoch': 3.66}\n"
     ]
    },
    {
     "name": "stderr",
     "output_type": "stream",
     "text": [
      "\n",
      "                                                   \n",
      "\n",
      " 37%|███▋      | 300/820 [46:38<1:43:30, 11.94s/it]\n",
      "\u001b[A"
     ]
    },
    {
     "name": "stdout",
     "output_type": "stream",
     "text": [
      "{'eval_loss': 1.0093684196472168, 'eval_precision': 0.7692307692307693, 'eval_recall': 0.6818181818181818, 'eval_f1': 0.7228915662650602, 'eval_runtime': 21.4231, 'eval_samples_per_second': 27.074, 'eval_steps_per_second': 0.467, 'epoch': 3.66}\n"
     ]
    },
    {
     "name": "stderr",
     "output_type": "stream",
     "text": [
      "                                                   \n",
      "\n",
      " 38%|███▊      | 310/820 [48:07<1:12:47,  8.56s/it]\n",
      "\u001b[A"
     ]
    },
    {
     "name": "stdout",
     "output_type": "stream",
     "text": [
      "{'loss': 0.5693, 'learning_rate': 1.8658536585365855e-05, 'epoch': 3.78}\n"
     ]
    },
    {
     "name": "stderr",
     "output_type": "stream",
     "text": [
      "                                                   \n",
      "\n",
      " 39%|███▉      | 320/820 [49:23<1:01:40,  7.40s/it]\n",
      "\u001b[A"
     ]
    },
    {
     "name": "stdout",
     "output_type": "stream",
     "text": [
      "{'loss': 0.5748, 'learning_rate': 1.8292682926829268e-05, 'epoch': 3.9}\n"
     ]
    },
    {
     "name": "stderr",
     "output_type": "stream",
     "text": [
      " 40%|███▉      | 325/820 [50:06<1:05:54,  7.99s/it]\n",
      "                                                   \n",
      "\n",
      " 40%|███▉      | 325/820 [50:27<1:05:54,  7.99s/it]\n",
      "\u001b[A"
     ]
    },
    {
     "name": "stdout",
     "output_type": "stream",
     "text": [
      "{'eval_loss': 1.0071289539337158, 'eval_precision': 0.738562091503268, 'eval_recall': 0.6420454545454546, 'eval_f1': 0.6869300911854104, 'eval_runtime': 21.5677, 'eval_samples_per_second': 26.892, 'eval_steps_per_second': 0.464, 'epoch': 3.96}\n"
     ]
    },
    {
     "name": "stderr",
     "output_type": "stream",
     "text": [
      "                                                   \n",
      "\n",
      " 40%|███▉      | 325/820 [50:28<1:05:54,  7.99s/it]\n",
      " 40%|███▉      | 325/820 [50:28<1:16:53,  9.32s/it]"
     ]
    },
    {
     "name": "stdout",
     "output_type": "stream",
     "text": [
      "{'train_runtime': 3028.852, 'train_samples_per_second': 17.208, 'train_steps_per_second': 0.271, 'train_loss': 1.2356011368678166, 'epoch': 3.96}\n"
     ]
    },
    {
     "name": "stderr",
     "output_type": "stream",
     "text": [
      "\n"
     ]
    },
    {
     "data": {
      "text/plain": [
       "TrainOutput(global_step=325, training_loss=1.2356011368678166, metrics={'train_runtime': 3028.852, 'train_samples_per_second': 17.208, 'train_steps_per_second': 0.271, 'train_loss': 1.2356011368678166, 'epoch': 3.96})"
      ]
     },
     "execution_count": 43,
     "metadata": {},
     "output_type": "execute_result"
    }
   ],
   "source": [
    "# trainer.train()"
   ]
  },
  {
   "cell_type": "code",
   "execution_count": null,
   "id": "ab6846a0",
   "metadata": {},
   "outputs": [],
   "source": [
    "# # model 1\n",
    "# outputs = trainer.predict(tokenized_cultural_test)\n",
    "\n",
    "# preds = np.argmax(outputs.predictions, axis=2)\n",
    "# labels = outputs.label_ids"
   ]
  },
  {
   "cell_type": "code",
   "execution_count": null,
   "id": "34b80793",
   "metadata": {},
   "outputs": [
    {
     "name": "stderr",
     "output_type": "stream",
     "text": [
      "100%|██████████| 10/10 [00:20<00:00,  2.05s/it]"
     ]
    },
    {
     "name": "stdout",
     "output_type": "stream",
     "text": [
      "{'eval_loss': 0.887202799320221, 'eval_precision': 0.725609756097561, 'eval_recall': 0.6761363636363636, 'eval_f1': 0.7, 'eval_runtime': 22.2691, 'eval_samples_per_second': 26.045, 'eval_steps_per_second': 0.449, 'epoch': 3.96}\n"
     ]
    },
    {
     "name": "stderr",
     "output_type": "stream",
     "text": [
      "\n"
     ]
    }
   ],
   "source": [
    "# eval_results = trainer.evaluate()\n",
    "\n",
    "# print(eval_results)"
   ]
  },
  {
   "cell_type": "code",
   "execution_count": null,
   "id": "18abae1b",
   "metadata": {},
   "outputs": [
    {
     "name": "stderr",
     "output_type": "stream",
     "text": [
      "100%|██████████| 50/50 [01:18<00:00,  1.57s/it]\n"
     ]
    },
    {
     "data": {
      "text/plain": [
       "{'eval_loss': nan,\n",
       " 'eval_precision': 0.5006031363088058,\n",
       " 'eval_recall': 0.45755237045203967,\n",
       " 'eval_f1': 0.47811059907834097,\n",
       " 'eval_runtime': 80.0257,\n",
       " 'eval_samples_per_second': 39.7,\n",
       " 'eval_steps_per_second': 0.625,\n",
       " 'epoch': 3.96}"
      ]
     },
     "execution_count": 47,
     "metadata": {},
     "output_type": "execute_result"
    }
   ],
   "source": [
    "# trainer.evaluate(tokenized_cultural_test)"
   ]
  },
  {
   "cell_type": "markdown",
   "id": "d1dd9df9",
   "metadata": {},
   "source": [
    "##### 2."
   ]
  },
  {
   "cell_type": "code",
   "execution_count": null,
   "id": "7fcd036e",
   "metadata": {},
   "outputs": [
    {
     "name": "stderr",
     "output_type": "stream",
     "text": [
      "                                                  \n",
      "\n",
      "  1%|          | 10/820 [01:45<1:59:43,  8.87s/it]\n",
      "\u001b[A"
     ]
    },
    {
     "name": "stdout",
     "output_type": "stream",
     "text": [
      "{'loss': 1.8845, 'learning_rate': 2.9634146341463413e-05, 'epoch': 0.12}\n"
     ]
    },
    {
     "name": "stderr",
     "output_type": "stream",
     "text": [
      "                                                  \n",
      "\n",
      "  2%|▏         | 20/820 [03:09<1:42:15,  7.67s/it]\n",
      "\u001b[A"
     ]
    },
    {
     "name": "stdout",
     "output_type": "stream",
     "text": [
      "{'loss': 1.8192, 'learning_rate': 2.926829268292683e-05, 'epoch': 0.24}\n"
     ]
    },
    {
     "name": "stderr",
     "output_type": "stream",
     "text": [
      "  3%|▎         | 25/820 [03:50<1:51:22,  8.41s/it]\n",
      "                                                  \n",
      "\n",
      "  3%|▎         | 25/820 [04:13<1:51:22,  8.41s/it]\n",
      "\u001b[A"
     ]
    },
    {
     "name": "stdout",
     "output_type": "stream",
     "text": [
      "{'eval_loss': 1.6193300485610962, 'eval_precision': 0.4385026737967914, 'eval_recall': 0.4659090909090909, 'eval_f1': 0.45179063360881544, 'eval_runtime': 22.9695, 'eval_samples_per_second': 25.251, 'eval_steps_per_second': 0.435, 'epoch': 0.3}\n"
     ]
    },
    {
     "name": "stderr",
     "output_type": "stream",
     "text": [
      "                                                  \n",
      "\n",
      "  4%|▎         | 30/820 [04:53<2:09:01,  9.80s/it]\n",
      "\u001b[A"
     ]
    },
    {
     "name": "stdout",
     "output_type": "stream",
     "text": [
      "{'loss': 1.7529, 'learning_rate': 2.8902439024390242e-05, 'epoch': 0.37}\n"
     ]
    },
    {
     "name": "stderr",
     "output_type": "stream",
     "text": [
      "                                                  \n",
      "\n",
      "  5%|▍         | 40/820 [06:10<1:45:53,  8.15s/it]\n",
      "\u001b[A"
     ]
    },
    {
     "name": "stdout",
     "output_type": "stream",
     "text": [
      "{'loss': 1.8201, 'learning_rate': 2.8536585365853658e-05, 'epoch': 0.49}\n"
     ]
    },
    {
     "name": "stderr",
     "output_type": "stream",
     "text": [
      "                                                  \n",
      "\n",
      "  6%|▌         | 50/820 [07:27<1:35:37,  7.45s/it]\n",
      "\u001b[A"
     ]
    },
    {
     "name": "stdout",
     "output_type": "stream",
     "text": [
      "{'loss': 1.4578, 'learning_rate': 2.817073170731707e-05, 'epoch': 0.61}\n"
     ]
    },
    {
     "name": "stderr",
     "output_type": "stream",
     "text": [
      "\n",
      "                                                  \n",
      "\n",
      "  6%|▌         | 50/820 [07:48<1:35:37,  7.45s/it]\n",
      "\u001b[A"
     ]
    },
    {
     "name": "stdout",
     "output_type": "stream",
     "text": [
      "{'eval_loss': 1.5869405269622803, 'eval_precision': 0.48186528497409326, 'eval_recall': 0.5284090909090909, 'eval_f1': 0.5040650406504066, 'eval_runtime': 20.9571, 'eval_samples_per_second': 27.676, 'eval_steps_per_second': 0.477, 'epoch': 0.61}\n"
     ]
    },
    {
     "name": "stderr",
     "output_type": "stream",
     "text": [
      "                                                  \n",
      "\n",
      "  7%|▋         | 60/820 [09:30<1:47:17,  8.47s/it]\n",
      "\u001b[A"
     ]
    },
    {
     "name": "stdout",
     "output_type": "stream",
     "text": [
      "{'loss': 1.6424, 'learning_rate': 2.780487804878049e-05, 'epoch': 0.73}\n"
     ]
    },
    {
     "name": "stderr",
     "output_type": "stream",
     "text": [
      "                                                  \n",
      "\n",
      "  9%|▊         | 70/820 [10:51<1:36:38,  7.73s/it] \n",
      "\u001b[A"
     ]
    },
    {
     "name": "stdout",
     "output_type": "stream",
     "text": [
      "{'loss': 1.2649, 'learning_rate': 2.7439024390243903e-05, 'epoch': 0.85}\n"
     ]
    },
    {
     "name": "stderr",
     "output_type": "stream",
     "text": [
      "  9%|▉         | 75/820 [11:28<1:33:21,  7.52s/it]\n",
      "                                                  \n",
      "\n",
      "  9%|▉         | 75/820 [11:49<1:33:21,  7.52s/it] \n",
      "\u001b[A"
     ]
    },
    {
     "name": "stdout",
     "output_type": "stream",
     "text": [
      "{'eval_loss': 1.7729898691177368, 'eval_precision': 0.5460122699386503, 'eval_recall': 0.5056818181818182, 'eval_f1': 0.5250737463126843, 'eval_runtime': 21.3317, 'eval_samples_per_second': 27.19, 'eval_steps_per_second': 0.469, 'epoch': 0.91}\n"
     ]
    },
    {
     "name": "stderr",
     "output_type": "stream",
     "text": [
      "                                                  \n",
      "\n",
      " 10%|▉         | 80/820 [12:30<1:53:11,  9.18s/it] \n",
      "\u001b[A"
     ]
    },
    {
     "name": "stdout",
     "output_type": "stream",
     "text": [
      "{'loss': 1.643, 'learning_rate': 2.707317073170732e-05, 'epoch': 0.98}\n"
     ]
    },
    {
     "name": "stderr",
     "output_type": "stream",
     "text": [
      "                                                  \n",
      "\n",
      " 11%|█         | 90/820 [13:46<1:39:39,  8.19s/it] \n",
      "\u001b[A"
     ]
    },
    {
     "name": "stdout",
     "output_type": "stream",
     "text": [
      "{'loss': 1.1514, 'learning_rate': 2.6707317073170732e-05, 'epoch': 1.1}\n"
     ]
    },
    {
     "name": "stderr",
     "output_type": "stream",
     "text": [
      "                                                   \n",
      "\n",
      " 12%|█▏        | 100/820 [15:05<1:30:14,  7.52s/it]\n",
      "\u001b[A"
     ]
    },
    {
     "name": "stdout",
     "output_type": "stream",
     "text": [
      "{'loss': 1.2778, 'learning_rate': 2.6341463414634148e-05, 'epoch': 1.22}\n"
     ]
    },
    {
     "name": "stderr",
     "output_type": "stream",
     "text": [
      "\n",
      "                                                   \n",
      "\n",
      " 12%|█▏        | 100/820 [15:26<1:30:14,  7.52s/it]\n",
      "\u001b[A"
     ]
    },
    {
     "name": "stdout",
     "output_type": "stream",
     "text": [
      "{'eval_loss': 1.5557398796081543, 'eval_precision': 0.4269005847953216, 'eval_recall': 0.4147727272727273, 'eval_f1': 0.42074927953890495, 'eval_runtime': 21.3863, 'eval_samples_per_second': 27.12, 'eval_steps_per_second': 0.468, 'epoch': 1.22}\n"
     ]
    },
    {
     "name": "stderr",
     "output_type": "stream",
     "text": [
      "                                                   \n",
      "\n",
      " 13%|█▎        | 110/820 [17:09<1:40:28,  8.49s/it]\n",
      "\u001b[A"
     ]
    },
    {
     "name": "stdout",
     "output_type": "stream",
     "text": [
      "{'loss': 1.0816, 'learning_rate': 2.597560975609756e-05, 'epoch': 1.34}\n"
     ]
    },
    {
     "name": "stderr",
     "output_type": "stream",
     "text": [
      "                                                   \n",
      "\n",
      " 15%|█▍        | 120/820 [18:31<1:32:09,  7.90s/it]\n",
      "\u001b[A"
     ]
    },
    {
     "name": "stdout",
     "output_type": "stream",
     "text": [
      "{'loss': 1.0203, 'learning_rate': 2.5609756097560977e-05, 'epoch': 1.46}\n"
     ]
    },
    {
     "name": "stderr",
     "output_type": "stream",
     "text": [
      " 15%|█▌        | 125/820 [19:10<1:28:20,  7.63s/it]\n",
      "                                                   \n",
      "\n",
      " 15%|█▌        | 125/820 [19:31<1:28:20,  7.63s/it]\n",
      "\u001b[A"
     ]
    },
    {
     "name": "stdout",
     "output_type": "stream",
     "text": [
      "{'eval_loss': 1.4977682828903198, 'eval_precision': 0.5284090909090909, 'eval_recall': 0.5284090909090909, 'eval_f1': 0.5284090909090909, 'eval_runtime': 21.187, 'eval_samples_per_second': 27.375, 'eval_steps_per_second': 0.472, 'epoch': 1.52}\n"
     ]
    },
    {
     "name": "stderr",
     "output_type": "stream",
     "text": [
      "                                                   \n",
      "\n",
      " 16%|█▌        | 130/820 [20:08<1:42:39,  8.93s/it]\n",
      "\u001b[A"
     ]
    },
    {
     "name": "stdout",
     "output_type": "stream",
     "text": [
      "{'loss': 1.2991, 'learning_rate': 2.524390243902439e-05, 'epoch': 1.59}\n"
     ]
    },
    {
     "name": "stderr",
     "output_type": "stream",
     "text": [
      "                                                   \n",
      "\n",
      " 17%|█▋        | 140/820 [21:24<1:24:23,  7.45s/it]\n",
      "\u001b[A"
     ]
    },
    {
     "name": "stdout",
     "output_type": "stream",
     "text": [
      "{'loss': 1.0951, 'learning_rate': 2.4878048780487805e-05, 'epoch': 1.71}\n"
     ]
    },
    {
     "name": "stderr",
     "output_type": "stream",
     "text": [
      "                                                   \n",
      "\n",
      " 18%|█▊        | 150/820 [23:04<1:33:26,  8.37s/it]\n",
      "\u001b[A"
     ]
    },
    {
     "name": "stdout",
     "output_type": "stream",
     "text": [
      "{'loss': 0.9884, 'learning_rate': 2.4512195121951218e-05, 'epoch': 1.83}\n"
     ]
    },
    {
     "name": "stderr",
     "output_type": "stream",
     "text": [
      "\n",
      "                                                   \n",
      "\n",
      " 18%|█▊        | 150/820 [23:25<1:33:26,  8.37s/it]\n",
      "\u001b[A"
     ]
    },
    {
     "name": "stdout",
     "output_type": "stream",
     "text": [
      "{'eval_loss': 1.6861621141433716, 'eval_precision': 0.5536723163841808, 'eval_recall': 0.5568181818181818, 'eval_f1': 0.5552407932011332, 'eval_runtime': 21.0223, 'eval_samples_per_second': 27.59, 'eval_steps_per_second': 0.476, 'epoch': 1.83}\n"
     ]
    },
    {
     "name": "stderr",
     "output_type": "stream",
     "text": [
      "                                                   \n",
      "\n",
      " 20%|█▉        | 160/820 [24:51<1:31:19,  8.30s/it]\n",
      "\u001b[A"
     ]
    },
    {
     "name": "stdout",
     "output_type": "stream",
     "text": [
      "{'loss': 1.361, 'learning_rate': 2.4146341463414638e-05, 'epoch': 1.95}\n"
     ]
    },
    {
     "name": "stderr",
     "output_type": "stream",
     "text": [
      "                                                   \n",
      "\n",
      " 21%|██        | 170/820 [26:04<1:27:53,  8.11s/it]\n",
      "\u001b[A"
     ]
    },
    {
     "name": "stdout",
     "output_type": "stream",
     "text": [
      "{'loss': 0.8996, 'learning_rate': 2.378048780487805e-05, 'epoch': 2.07}\n"
     ]
    },
    {
     "name": "stderr",
     "output_type": "stream",
     "text": [
      " 21%|██▏       | 175/820 [26:43<1:24:06,  7.82s/it]\n",
      "                                                   \n",
      "\n",
      " 21%|██▏       | 175/820 [27:04<1:24:06,  7.82s/it]\n",
      "\u001b[A"
     ]
    },
    {
     "name": "stdout",
     "output_type": "stream",
     "text": [
      "{'eval_loss': 1.3107378482818604, 'eval_precision': 0.6497175141242938, 'eval_recall': 0.6534090909090909, 'eval_f1': 0.651558073654391, 'eval_runtime': 21.1089, 'eval_samples_per_second': 27.477, 'eval_steps_per_second': 0.474, 'epoch': 2.13}\n"
     ]
    },
    {
     "name": "stderr",
     "output_type": "stream",
     "text": [
      "                                                   \n",
      "\n",
      " 22%|██▏       | 180/820 [27:41<1:37:37,  9.15s/it]\n",
      "\u001b[A"
     ]
    },
    {
     "name": "stdout",
     "output_type": "stream",
     "text": [
      "{'loss': 0.7833, 'learning_rate': 2.3414634146341466e-05, 'epoch': 2.2}\n"
     ]
    },
    {
     "name": "stderr",
     "output_type": "stream",
     "text": [
      "                                                   \n",
      "\n",
      " 23%|██▎       | 190/820 [29:08<1:35:28,  9.09s/it]\n",
      "\u001b[A"
     ]
    },
    {
     "name": "stdout",
     "output_type": "stream",
     "text": [
      "{'loss': 0.6966, 'learning_rate': 2.304878048780488e-05, 'epoch': 2.32}\n"
     ]
    },
    {
     "name": "stderr",
     "output_type": "stream",
     "text": [
      "                                                   \n",
      "\n",
      " 24%|██▍       | 200/820 [30:27<1:18:29,  7.60s/it]\n",
      "\u001b[A"
     ]
    },
    {
     "name": "stdout",
     "output_type": "stream",
     "text": [
      "{'loss': 0.9435, 'learning_rate': 2.2682926829268295e-05, 'epoch': 2.44}\n"
     ]
    },
    {
     "name": "stderr",
     "output_type": "stream",
     "text": [
      "\n",
      "                                                   \n",
      "\n",
      " 24%|██▍       | 200/820 [30:48<1:18:29,  7.60s/it]\n",
      "\u001b[A"
     ]
    },
    {
     "name": "stdout",
     "output_type": "stream",
     "text": [
      "{'eval_loss': 1.4913442134857178, 'eval_precision': 0.6043956043956044, 'eval_recall': 0.625, 'eval_f1': 0.6145251396648044, 'eval_runtime': 21.0491, 'eval_samples_per_second': 27.555, 'eval_steps_per_second': 0.475, 'epoch': 2.44}\n"
     ]
    },
    {
     "name": "stderr",
     "output_type": "stream",
     "text": [
      "                                                   \n",
      "\n",
      " 26%|██▌       | 210/820 [32:15<1:22:04,  8.07s/it]\n",
      "\u001b[A"
     ]
    },
    {
     "name": "stdout",
     "output_type": "stream",
     "text": [
      "{'loss': 0.772, 'learning_rate': 2.2317073170731708e-05, 'epoch': 2.56}\n"
     ]
    },
    {
     "name": "stderr",
     "output_type": "stream",
     "text": [
      "                                                   \n",
      "\n",
      " 27%|██▋       | 220/820 [33:55<2:11:16, 13.13s/it]\n",
      "\u001b[A"
     ]
    },
    {
     "name": "stdout",
     "output_type": "stream",
     "text": [
      "{'loss': 0.7951, 'learning_rate': 2.195121951219512e-05, 'epoch': 2.68}\n"
     ]
    },
    {
     "name": "stderr",
     "output_type": "stream",
     "text": [
      " 27%|██▋       | 225/820 [34:32<1:21:54,  8.26s/it]\n",
      "                                                   \n",
      "\n",
      " 27%|██▋       | 225/820 [34:53<1:21:54,  8.26s/it]\n",
      "\u001b[A"
     ]
    },
    {
     "name": "stdout",
     "output_type": "stream",
     "text": [
      "{'eval_loss': 1.2411545515060425, 'eval_precision': 0.6666666666666666, 'eval_recall': 0.6363636363636364, 'eval_f1': 0.6511627906976744, 'eval_runtime': 21.1114, 'eval_samples_per_second': 27.473, 'eval_steps_per_second': 0.474, 'epoch': 2.74}\n"
     ]
    },
    {
     "name": "stderr",
     "output_type": "stream",
     "text": [
      "                                                   \n",
      "\n",
      " 28%|██▊       | 230/820 [35:34<1:28:47,  9.03s/it]\n",
      "\u001b[A"
     ]
    },
    {
     "name": "stdout",
     "output_type": "stream",
     "text": [
      "{'loss': 0.6399, 'learning_rate': 2.1585365853658537e-05, 'epoch': 2.8}\n"
     ]
    },
    {
     "name": "stderr",
     "output_type": "stream",
     "text": [
      "                                                   \n",
      "\n",
      " 29%|██▉       | 240/820 [36:55<1:30:41,  9.38s/it]\n",
      "\u001b[A"
     ]
    },
    {
     "name": "stdout",
     "output_type": "stream",
     "text": [
      "{'loss': 0.7508, 'learning_rate': 2.121951219512195e-05, 'epoch': 2.93}\n"
     ]
    },
    {
     "name": "stderr",
     "output_type": "stream",
     "text": [
      "                                                   \n",
      "\n",
      " 30%|███       | 250/820 [38:17<1:15:26,  7.94s/it]\n",
      "\u001b[A"
     ]
    },
    {
     "name": "stdout",
     "output_type": "stream",
     "text": [
      "{'loss': 0.7128, 'learning_rate': 2.0853658536585365e-05, 'epoch': 3.05}\n"
     ]
    },
    {
     "name": "stderr",
     "output_type": "stream",
     "text": [
      "\n",
      "                                                   \n",
      "\n",
      " 30%|███       | 250/820 [38:38<1:15:26,  7.94s/it]\n",
      "\u001b[A"
     ]
    },
    {
     "name": "stdout",
     "output_type": "stream",
     "text": [
      "{'eval_loss': 1.1215060949325562, 'eval_precision': 0.7455621301775148, 'eval_recall': 0.7159090909090909, 'eval_f1': 0.7304347826086957, 'eval_runtime': 21.0497, 'eval_samples_per_second': 27.554, 'eval_steps_per_second': 0.475, 'epoch': 3.05}\n"
     ]
    },
    {
     "name": "stderr",
     "output_type": "stream",
     "text": [
      "                                                   \n",
      "\n",
      " 32%|███▏      | 260/820 [40:15<1:18:43,  8.43s/it]\n",
      "\u001b[A"
     ]
    },
    {
     "name": "stdout",
     "output_type": "stream",
     "text": [
      "{'loss': 0.4304, 'learning_rate': 2.048780487804878e-05, 'epoch': 3.17}\n"
     ]
    },
    {
     "name": "stderr",
     "output_type": "stream",
     "text": [
      "                                                   \n",
      "\n",
      " 33%|███▎      | 270/820 [41:35<1:10:59,  7.74s/it]\n",
      "\u001b[A"
     ]
    },
    {
     "name": "stdout",
     "output_type": "stream",
     "text": [
      "{'loss': 0.7027, 'learning_rate': 2.0121951219512197e-05, 'epoch': 3.29}\n"
     ]
    },
    {
     "name": "stderr",
     "output_type": "stream",
     "text": [
      " 34%|███▎      | 275/820 [42:11<1:06:27,  7.32s/it]\n",
      "                                                   \n",
      "\n",
      " 34%|███▎      | 275/820 [42:33<1:06:27,  7.32s/it]\n",
      "\u001b[A"
     ]
    },
    {
     "name": "stdout",
     "output_type": "stream",
     "text": [
      "{'eval_loss': 1.1212154626846313, 'eval_precision': 0.7087912087912088, 'eval_recall': 0.7329545454545454, 'eval_f1': 0.7206703910614525, 'eval_runtime': 21.8273, 'eval_samples_per_second': 26.572, 'eval_steps_per_second': 0.458, 'epoch': 3.35}\n"
     ]
    },
    {
     "name": "stderr",
     "output_type": "stream",
     "text": [
      "                                                   \n",
      "\n",
      " 34%|███▍      | 280/820 [43:11<1:21:46,  9.09s/it]\n",
      "\u001b[A"
     ]
    },
    {
     "name": "stdout",
     "output_type": "stream",
     "text": [
      "{'loss': 0.4814, 'learning_rate': 1.975609756097561e-05, 'epoch': 3.41}\n"
     ]
    },
    {
     "name": "stderr",
     "output_type": "stream",
     "text": [
      "                                                   \n",
      "\n",
      " 35%|███▌      | 290/820 [44:47<1:41:19, 11.47s/it]\n",
      "\u001b[A"
     ]
    },
    {
     "name": "stdout",
     "output_type": "stream",
     "text": [
      "{'loss': 0.3787, 'learning_rate': 1.9390243902439026e-05, 'epoch': 3.54}\n"
     ]
    },
    {
     "name": "stderr",
     "output_type": "stream",
     "text": [
      "                                                   \n",
      "\n",
      " 37%|███▋      | 300/820 [45:59<1:06:45,  7.70s/it]\n",
      "\u001b[A"
     ]
    },
    {
     "name": "stdout",
     "output_type": "stream",
     "text": [
      "{'loss': 0.4293, 'learning_rate': 1.902439024390244e-05, 'epoch': 3.66}\n"
     ]
    },
    {
     "name": "stderr",
     "output_type": "stream",
     "text": [
      "\n",
      "                                                   \n",
      "\n",
      " 37%|███▋      | 300/820 [46:20<1:06:45,  7.70s/it]\n",
      "\u001b[A"
     ]
    },
    {
     "name": "stdout",
     "output_type": "stream",
     "text": [
      "{'eval_loss': 1.2557510137557983, 'eval_precision': 0.7386363636363636, 'eval_recall': 0.7386363636363636, 'eval_f1': 0.7386363636363636, 'eval_runtime': 20.8948, 'eval_samples_per_second': 27.758, 'eval_steps_per_second': 0.479, 'epoch': 3.66}\n"
     ]
    },
    {
     "name": "stderr",
     "output_type": "stream",
     "text": [
      "                                                   \n",
      "\n",
      " 38%|███▊      | 310/820 [47:55<1:13:39,  8.66s/it]\n",
      "\u001b[A"
     ]
    },
    {
     "name": "stdout",
     "output_type": "stream",
     "text": [
      "{'loss': 0.5814, 'learning_rate': 1.8658536585365855e-05, 'epoch': 3.78}\n"
     ]
    },
    {
     "name": "stderr",
     "output_type": "stream",
     "text": [
      "                                                   \n",
      "\n",
      " 39%|███▉      | 320/820 [49:20<1:11:32,  8.58s/it]\n",
      "\u001b[A"
     ]
    },
    {
     "name": "stdout",
     "output_type": "stream",
     "text": [
      "{'loss': 0.3741, 'learning_rate': 1.8292682926829268e-05, 'epoch': 3.9}\n"
     ]
    },
    {
     "name": "stderr",
     "output_type": "stream",
     "text": [
      " 40%|███▉      | 325/820 [50:01<1:07:45,  8.21s/it]\n",
      "                                                   \n",
      "\n",
      " 40%|███▉      | 325/820 [50:22<1:07:45,  8.21s/it]\n",
      "\u001b[A"
     ]
    },
    {
     "name": "stdout",
     "output_type": "stream",
     "text": [
      "{'eval_loss': 1.2370688915252686, 'eval_precision': 0.7341040462427746, 'eval_recall': 0.7215909090909091, 'eval_f1': 0.7277936962750717, 'eval_runtime': 21.0003, 'eval_samples_per_second': 27.619, 'eval_steps_per_second': 0.476, 'epoch': 3.96}\n"
     ]
    },
    {
     "name": "stderr",
     "output_type": "stream",
     "text": [
      "                                                   \n",
      "\n",
      " 40%|████      | 330/820 [50:56<1:11:53,  8.80s/it]\n",
      "\u001b[A"
     ]
    },
    {
     "name": "stdout",
     "output_type": "stream",
     "text": [
      "{'loss': 0.3959, 'learning_rate': 1.7926829268292684e-05, 'epoch': 4.02}\n"
     ]
    },
    {
     "name": "stderr",
     "output_type": "stream",
     "text": [
      "                                                   \n",
      "\n",
      " 41%|████▏     | 340/820 [52:18<1:02:28,  7.81s/it]\n",
      "\u001b[A"
     ]
    },
    {
     "name": "stdout",
     "output_type": "stream",
     "text": [
      "{'loss': 0.2755, 'learning_rate': 1.7560975609756096e-05, 'epoch': 4.15}\n"
     ]
    },
    {
     "name": "stderr",
     "output_type": "stream",
     "text": [
      "                                                   \n",
      "\n",
      " 43%|████▎     | 350/820 [53:39<1:03:15,  8.08s/it]\n",
      "\u001b[A"
     ]
    },
    {
     "name": "stdout",
     "output_type": "stream",
     "text": [
      "{'loss': 0.3384, 'learning_rate': 1.7195121951219512e-05, 'epoch': 4.27}\n"
     ]
    },
    {
     "name": "stderr",
     "output_type": "stream",
     "text": [
      "\n",
      "                                                   \n",
      "\n",
      " 43%|████▎     | 350/820 [54:00<1:03:15,  8.08s/it]\n",
      "\u001b[A"
     ]
    },
    {
     "name": "stdout",
     "output_type": "stream",
     "text": [
      "{'eval_loss': 1.261083722114563, 'eval_precision': 0.7430167597765364, 'eval_recall': 0.7556818181818182, 'eval_f1': 0.7492957746478874, 'eval_runtime': 21.2516, 'eval_samples_per_second': 27.292, 'eval_steps_per_second': 0.471, 'epoch': 4.27}\n"
     ]
    },
    {
     "name": "stderr",
     "output_type": "stream",
     "text": [
      "                                                   \n",
      "\n",
      " 43%|████▎     | 350/820 [54:10<1:03:15,  8.08s/it]\n",
      " 43%|████▎     | 350/820 [54:10<1:12:44,  9.29s/it]"
     ]
    },
    {
     "name": "stdout",
     "output_type": "stream",
     "text": [
      "{'train_runtime': 3250.1584, 'train_samples_per_second': 16.036, 'train_steps_per_second': 0.252, 'train_loss': 0.9697421278272357, 'epoch': 4.27}\n"
     ]
    },
    {
     "name": "stderr",
     "output_type": "stream",
     "text": [
      "\n"
     ]
    },
    {
     "data": {
      "text/plain": [
       "TrainOutput(global_step=350, training_loss=0.9697421278272357, metrics={'train_runtime': 3250.1584, 'train_samples_per_second': 16.036, 'train_steps_per_second': 0.252, 'train_loss': 0.9697421278272357, 'epoch': 4.27})"
      ]
     },
     "execution_count": 44,
     "metadata": {},
     "output_type": "execute_result"
    }
   ],
   "source": [
    "# trainer_2.train()"
   ]
  },
  {
   "cell_type": "code",
   "execution_count": null,
   "id": "d14af159",
   "metadata": {},
   "outputs": [
    {
     "name": "stderr",
     "output_type": "stream",
     "text": [
      "100%|██████████| 50/50 [01:18<00:00,  1.56s/it]\n"
     ]
    }
   ],
   "source": [
    "# #model 2\n",
    "# outputs_2 = trainer_2.predict(tokenized_cultural_test)\n",
    "\n",
    "# preds_2 = np.argmax(outputs_2.predictions, axis=2)\n",
    "# labels_2 = outputs_2.label_ids"
   ]
  },
  {
   "cell_type": "code",
   "execution_count": null,
   "id": "359acc76",
   "metadata": {},
   "outputs": [
    {
     "name": "stderr",
     "output_type": "stream",
     "text": [
      "100%|██████████| 10/10 [00:20<00:00,  2.02s/it]"
     ]
    },
    {
     "name": "stdout",
     "output_type": "stream",
     "text": [
      "{'eval_loss': 1.1215060949325562, 'eval_precision': 0.7455621301775148, 'eval_recall': 0.7159090909090909, 'eval_f1': 0.7304347826086957, 'eval_runtime': 21.8242, 'eval_samples_per_second': 26.576, 'eval_steps_per_second': 0.458, 'epoch': 4.27}\n"
     ]
    },
    {
     "name": "stderr",
     "output_type": "stream",
     "text": [
      "\n"
     ]
    }
   ],
   "source": [
    "# eval_results_2 = trainer_2.evaluate()\n",
    "\n",
    "# print(eval_results_2)"
   ]
  },
  {
   "cell_type": "code",
   "execution_count": null,
   "id": "1d12d058",
   "metadata": {},
   "outputs": [
    {
     "name": "stderr",
     "output_type": "stream",
     "text": [
      "100%|██████████| 50/50 [01:17<00:00,  1.55s/it]\n"
     ]
    },
    {
     "data": {
      "text/plain": [
       "{'eval_loss': nan,\n",
       " 'eval_precision': 0.2896551724137931,\n",
       " 'eval_recall': 0.27783902976846747,\n",
       " 'eval_f1': 0.28362408553742263,\n",
       " 'eval_runtime': 79.4896,\n",
       " 'eval_samples_per_second': 39.968,\n",
       " 'eval_steps_per_second': 0.629,\n",
       " 'epoch': 4.27}"
      ]
     },
     "execution_count": 51,
     "metadata": {},
     "output_type": "execute_result"
    }
   ],
   "source": [
    "# trainer_2.evaluate(tokenized_cultural_test)"
   ]
  },
  {
   "cell_type": "markdown",
   "id": "8cc41ff4",
   "metadata": {},
   "source": [
    "##### 3."
   ]
  },
  {
   "cell_type": "code",
   "execution_count": null,
   "id": "2cc01dab",
   "metadata": {},
   "outputs": [
    {
     "name": "stderr",
     "output_type": "stream",
     "text": [
      "100%|██████████| 50/50 [01:19<00:00,  1.60s/it]\n"
     ]
    }
   ],
   "source": [
    "# model funziez\n",
    "outputs_fun = trainer_fun.predict(tokenized_cultural_test)\n",
    "\n",
    "preds_fun = np.argmax(outputs_fun.predictions, axis=2)\n",
    "labels_fun = outputs_fun.label_ids"
   ]
  },
  {
   "cell_type": "code",
   "execution_count": null,
   "id": "2f881381",
   "metadata": {},
   "outputs": [
    {
     "name": "stderr",
     "output_type": "stream",
     "text": [
      "100%|██████████| 10/10 [00:28<00:00,  2.89s/it]"
     ]
    },
    {
     "name": "stdout",
     "output_type": "stream",
     "text": [
      "{'eval_loss': 0.5285700559616089, 'eval_precision': 0.8295454545454546, 'eval_recall': 0.8295454545454546, 'eval_f1': 0.8295454545454547, 'eval_runtime': 31.9174, 'eval_samples_per_second': 18.172, 'eval_steps_per_second': 0.313, 'epoch': 8.84}\n"
     ]
    },
    {
     "name": "stderr",
     "output_type": "stream",
     "text": [
      "\n"
     ]
    }
   ],
   "source": [
    "eval_results_fun = trainer_fun.evaluate()\n",
    "\n",
    "print(eval_results_fun)"
   ]
  },
  {
   "cell_type": "code",
   "execution_count": null,
   "id": "52168276",
   "metadata": {},
   "outputs": [
    {
     "name": "stderr",
     "output_type": "stream",
     "text": [
      "100%|██████████| 50/50 [01:35<00:00,  1.91s/it]\n"
     ]
    },
    {
     "data": {
      "text/plain": [
       "{'eval_loss': nan,\n",
       " 'eval_precision': 0.5498812351543944,\n",
       " 'eval_recall': 0.5104740904079382,\n",
       " 'eval_f1': 0.5294453973699257,\n",
       " 'eval_runtime': 97.4118,\n",
       " 'eval_samples_per_second': 32.614,\n",
       " 'eval_steps_per_second': 0.513,\n",
       " 'epoch': 8.84}"
      ]
     },
     "execution_count": 76,
     "metadata": {},
     "output_type": "execute_result"
    }
   ],
   "source": [
    "trainer_fun.evaluate(tokenized_cultural_test)"
   ]
  },
  {
   "cell_type": "markdown",
   "id": "ece3e6f3",
   "metadata": {},
   "source": [
    "#### Training loss and learning rate"
   ]
  },
  {
   "cell_type": "markdown",
   "id": "943bec8e",
   "metadata": {},
   "source": [
    "##### 1."
   ]
  },
  {
   "cell_type": "code",
   "execution_count": null,
   "id": "9d39191d",
   "metadata": {},
   "outputs": [],
   "source": [
    "# #add path for model's LATEST checkpoint trainer_state.json\n",
    "# trainer_state_path = \"xlmr-cultural-model/checkpoint-300/trainer_state.json\""
   ]
  },
  {
   "cell_type": "code",
   "execution_count": null,
   "id": "e1044474",
   "metadata": {},
   "outputs": [],
   "source": [
    "# trainer_state_path_2 = \"xlmr-cultural-model_2/checkpoint-350/trainer_state.json\""
   ]
  },
  {
   "cell_type": "code",
   "execution_count": null,
   "id": "214eeb81",
   "metadata": {},
   "outputs": [],
   "source": [
    "def plot_training_logs(logs):\n",
    "\n",
    "    steps = [log[\"step\"] for log in logs if \"loss\" in log]\n",
    "    train_loss = [log[\"loss\"] for log in logs if \"loss\" in log]\n",
    "    lr = [log[\"learning_rate\"] for log in logs if \"loss\" in log]\n",
    "\n",
    "    fig, axs = plt.subplots(2, 1, figsize=(10, 8), sharex=True)\n",
    "\n",
    "    axs[0].plot(steps, train_loss, color='blue', label='Training Loss')\n",
    "    axs[0].set_ylabel(\"Loss\")\n",
    "    axs[0].legend()\n",
    "    axs[0].grid(True)\n",
    "\n",
    "    axs[1].plot(steps, lr, color='green', linestyle='--', label='Learning Rate')\n",
    "    axs[1].set_xlabel(\"Step\")\n",
    "    axs[1].set_ylabel(\"LR\")\n",
    "    axs[1].legend()\n",
    "    axs[1].grid(True)\n",
    "\n",
    "    plt.tight_layout()\n",
    "    plt.show()"
   ]
  },
  {
   "cell_type": "code",
   "execution_count": null,
   "id": "5235afbf",
   "metadata": {},
   "outputs": [
    {
     "data": {
      "image/png": "[encoded data removed]",
      "text/plain": [
       "<Figure size 1000x800 with 2 Axes>"
      ]
     },
     "metadata": {},
     "output_type": "display_data"
    }
   ],
   "source": [
    "# with open(trainer_state_path, \"r\") as f:\n",
    "#     state = json.load(f)\n",
    "\n",
    "# # Pass only the log history to the plotting function\n",
    "# plot_training_logs(state[\"log_history\"])\n",
    "# # "
   ]
  },
  {
   "cell_type": "markdown",
   "id": "82d746ba",
   "metadata": {},
   "source": [
    "##### 2. "
   ]
  },
  {
   "cell_type": "code",
   "execution_count": null,
   "id": "f1eff61c",
   "metadata": {},
   "outputs": [
    {
     "data": {
      "image/png": "[encoded data removed]",
      "text/plain": [
       "<Figure size 1000x800 with 2 Axes>"
      ]
     },
     "metadata": {},
     "output_type": "display_data"
    }
   ],
   "source": [
    "# with open(trainer_state_path_2, \"r\") as f:\n",
    "#     state_2 = json.load(f)\n",
    "\n",
    "# # Pass only the log history to the plotting function\n",
    "# plot_training_logs(state_2[\"log_history\"])\n"
   ]
  },
  {
   "cell_type": "markdown",
   "id": "57856f66",
   "metadata": {},
   "source": [
    "##### 3."
   ]
  },
  {
   "cell_type": "code",
   "execution_count": null,
   "id": "237a0290",
   "metadata": {},
   "outputs": [],
   "source": [
    "trainer_state_path_3 = \"xlmr-cultural-funziez/checkpoint-700/trainer_state.json\""
   ]
  },
  {
   "cell_type": "code",
   "execution_count": null,
   "id": "b4bba4cb",
   "metadata": {},
   "outputs": [
    {
     "data": {
      "image/png": "[encoded data removed]",
      "text/plain": [
       "<Figure size 1000x800 with 2 Axes>"
      ]
     },
     "metadata": {},
     "output_type": "display_data"
    }
   ],
   "source": [
    "with open(trainer_state_path_2, \"r\") as f:\n",
    "    state_2 = json.load(f)\n",
    "\n",
    "# Pass only the log history to the plotting function\n",
    "plot_training_logs(state_2[\"log_history\"])\n"
   ]
  },
  {
   "cell_type": "markdown",
   "id": "1c424e77",
   "metadata": {},
   "source": [
    "#### Confusion matrix"
   ]
  },
  {
   "cell_type": "markdown",
   "id": "60811af1",
   "metadata": {},
   "source": [
    "##### 1."
   ]
  },
  {
   "cell_type": "code",
   "execution_count": null,
   "id": "3ce35a9e",
   "metadata": {},
   "outputs": [
    {
     "data": {
      "image/png": "[encoded data removed]",
      "text/plain": [
       "<Figure size 640x480 with 2 Axes>"
      ]
     },
     "metadata": {},
     "output_type": "display_data"
    }
   ],
   "source": [
    "# filtered = [(p, l) for pred, label in zip(preds_2, labels_2) for p, l in zip(pred, label) if l != -100]\n",
    "# pred_labels, true_labels = zip(*filtered)\n",
    "# pred_labels = list(pred_labels)\n",
    "# true_labels = list(true_labels)\n",
    "\n",
    "\n",
    "# # Confusion Matrix Calculation\n",
    "# cm = confusion_matrix(true_labels, pred_labels, labels=list(range(len(id2tag_cultural))))\n",
    "\n",
    "# # Mapping labels\n",
    "# all_labels = list(id2tag_cultural.values())\n",
    "\n",
    "# # Plotting the confusion matrix\n",
    "# disp = ConfusionMatrixDisplay(confusion_matrix=cm, display_labels=all_labels)\n",
    "# disp.plot(cmap=\"Blues\")\n",
    "# plt.title(\"Confusion Matrix - Token Classification\")\n",
    "# plt.xticks(fontsize=8, rotation=90)\n",
    "# plt.yticks(fontsize=8)\n",
    "# plt.show()"
   ]
  },
  {
   "cell_type": "markdown",
   "id": "1c28f88c",
   "metadata": {},
   "source": [
    "##### 2."
   ]
  },
  {
   "cell_type": "code",
   "execution_count": null,
   "id": "8190c33e",
   "metadata": {},
   "outputs": [
    {
     "data": {
      "image/png": "[encoded data removed]",
      "text/plain": [
       "<Figure size 640x480 with 2 Axes>"
      ]
     },
     "metadata": {},
     "output_type": "display_data"
    }
   ],
   "source": [
    "# # Use list comprehension for better performance\n",
    "# true_labels = [l for pred, label in zip(preds, labels) for p, l in zip(pred, label) if l != -100]\n",
    "# pred_labels = [p for pred, label in zip(preds, labels) for p, l in zip(pred, label) if l != -100]\n",
    "\n",
    "# # Confusion Matrix Calculation\n",
    "# cm = confusion_matrix(true_labels, pred_labels, labels=list(range(len(id2tag_cultural))))\n",
    "\n",
    "# # Mapping labels\n",
    "# all_labels = list(id2tag_cultural.values())\n",
    "\n",
    "# # Plotting the confusion matrix\n",
    "# disp = ConfusionMatrixDisplay(confusion_matrix=cm, display_labels=all_labels)\n",
    "# disp.plot(cmap=\"Blues\")\n",
    "# plt.title(\"Confusion Matrix - Token Classification\")\n",
    "# plt.xticks(fontsize=8, rotation=90)\n",
    "# plt.yticks(fontsize=8)\n",
    "# plt.show()"
   ]
  },
  {
   "cell_type": "markdown",
   "id": "01831827",
   "metadata": {},
   "source": [
    "##### 3. "
   ]
  },
  {
   "cell_type": "code",
   "execution_count": null,
   "id": "60be62b7",
   "metadata": {},
   "outputs": [
    {
     "data": {
      "image/png": "[encoded data removed]",
      "text/plain": [
       "<Figure size 640x480 with 2 Axes>"
      ]
     },
     "metadata": {},
     "output_type": "display_data"
    }
   ],
   "source": [
    "# # Use list comprehension for better performance\n",
    "# true_labels = [l for pred, label in zip(preds_fun, labels_fun) for p, l in zip(pred, label) if l != -100]\n",
    "# pred_labels = [p for pred, label in zip(preds_fun, labels_fun) for p, l in zip(pred, label) if l != -100]\n",
    "\n",
    "# # Confusion Matrix Calculation\n",
    "# cm = confusion_matrix(true_labels, pred_labels, labels=list(range(len(id2tag_cultural))))\n",
    "\n",
    "# # Mapping labels\n",
    "# all_labels = list(id2tag_cultural.values())\n",
    "\n",
    "# # Plotting the confusion matrix\n",
    "# disp = ConfusionMatrixDisplay(confusion_matrix=cm, display_labels=all_labels)\n",
    "# disp.plot(cmap=\"Blues\")\n",
    "# plt.title(\"Confusion Matrix - Token Classification\")\n",
    "# plt.xticks(fontsize=8, rotation=90)\n",
    "# plt.yticks(fontsize=8)\n",
    "# plt.show()"
   ]
  }
 ],
 "metadata": {
  "kernelspec": {
   "display_name": ".venv",
   "language": "python",
   "name": "python3"
  },
  "language_info": {
   "codemirror_mode": {
    "name": "ipython",
    "version": 3
   },
   "file_extension": ".py",
   "mimetype": "text/x-python",
   "name": "python",
   "nbconvert_exporter": "python",
   "pygments_lexer": "ipython3",
   "version": "3.10.11"
  }
 },
 "nbformat": 4,
 "nbformat_minor": 5
}
