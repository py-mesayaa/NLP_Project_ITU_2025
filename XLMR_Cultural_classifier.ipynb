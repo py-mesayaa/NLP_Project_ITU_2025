{
 "cells": [
  {
   "cell_type": "code",
   "execution_count": 20,
   "id": "01c6ac9b",
   "metadata": {},
   "outputs": [],
   "source": [
    "import warnings\n",
    "import csv\n",
    "import pandas as pd\n",
    "import numpy as np\n",
    "import matplotlib.pyplot as plt\n",
    "import json\n",
    "import torch\n",
    "from xlmr_culture_classification import XLMRCultureClassifier, XLMRCultureClassifier_2\n",
    "from datasets import Dataset\n",
    "from transformers import AdamW, XLMRobertaTokenizerFast, XLMRobertaForTokenClassification, DataCollatorForTokenClassification, Trainer, TrainingArguments, EarlyStoppingCallback\n",
    "from seqeval.metrics import precision_score, recall_score, f1_score\n",
    "from sklearn.metrics import confusion_matrix, ConfusionMatrixDisplay\n",
    "from sklearn.utils.class_weight import compute_class_weight"
   ]
  },
  {
   "cell_type": "code",
   "execution_count": 21,
   "id": "95dd1b48",
   "metadata": {},
   "outputs": [],
   "source": [
    "warnings.filterwarnings(\"ignore\")"
   ]
  },
  {
   "cell_type": "markdown",
   "id": "a266fb55",
   "metadata": {},
   "source": [
    "##### General set up"
   ]
  },
  {
   "cell_type": "code",
   "execution_count": 22,
   "id": "e95a121a",
   "metadata": {},
   "outputs": [],
   "source": [
    "tokenizer = XLMRobertaTokenizerFast.from_pretrained(\"xlm-roberta-base\")"
   ]
  },
  {
   "cell_type": "code",
   "execution_count": 23,
   "id": "a22e0dd6",
   "metadata": {},
   "outputs": [],
   "source": [
    "cultural_train = \"data/train_merged_output_cultural1.conll\"\n",
    "# cultural_train = \"annotation/test/fully_annotated_span_test_lyrics.conll\"\n",
    "cultural_test = \"data/test_merged_output.conll\"\n",
    "# cultural_test = \"annotation/train/fully_annotated_lyrics_span.conll\""
   ]
  },
  {
   "cell_type": "code",
   "execution_count": 24,
   "id": "15423a61",
   "metadata": {},
   "outputs": [],
   "source": [
    "def extract_refs(json_path):\n",
    "    cultural_refs_tag = []\n",
    "    cultural_refs_IDs = {}\n",
    "\n",
    "    with open(json_path, \"r\") as f:\n",
    "        cultural_data = json.load(f)\n",
    "        cultural_refs_tag.extend([entry['tag'] for entry in cultural_data])\n",
    "        cultural_refs_IDs.update({entry['tag']: entry['id'] for entry in cultural_data})\n",
    "\n",
    "    return cultural_refs_tag, cultural_refs_IDs\n",
    "\n",
    "ner_tags_path = \"data/ner_tags.json\"\n",
    "cultural_ref_tags_path = \"data/cultural_tags.json\"\n",
    "\n",
    "ner_tags, tag2id_ner = extract_refs(ner_tags_path)\n",
    "cultural_tags, tag2id_cultural = extract_refs(cultural_ref_tags_path)\n",
    "\n",
    "num_labels_culture = len(tag2id_cultural)\n",
    "num_labels_ner = len(tag2id_ner)\n",
    "\n",
    "id2tag_ner = {v: k for k, v in tag2id_ner.items()}\n",
    "id2tag_cultural = {v: k for k, v in tag2id_cultural.items()}"
   ]
  },
  {
   "cell_type": "code",
   "execution_count": 25,
   "id": "c3e8055d",
   "metadata": {},
   "outputs": [],
   "source": [
    "# if torch.cuda.is_available():\n",
    "#     device = torch.device(\"cuda\")    \n",
    "#     print('There are %d GPU(s) available.' % torch.cuda.device_count())\n",
    "#     print('GPU is:', torch.cuda.get_device_name(0))\n",
    "# else:\n",
    "#     print('No GPU available, using the CPU instead.')\n",
    "#     device = torch.device(\"cpu\")"
   ]
  },
  {
   "cell_type": "markdown",
   "id": "70d32a89",
   "metadata": {},
   "source": [
    "##### Vizualizations"
   ]
  },
  {
   "cell_type": "code",
   "execution_count": 26,
   "id": "acb507c5",
   "metadata": {},
   "outputs": [],
   "source": [
    "header = {0:'token', 1:'ner_tag', 2:'cultural_tag'}\n",
    "\n",
    "chunksize = 100000\n",
    "chunks = []  # List to store chunks"
   ]
  },
  {
   "cell_type": "code",
   "execution_count": 27,
   "id": "a78ccd64",
   "metadata": {},
   "outputs": [],
   "source": [
    "# chunks = pd.read_csv(cultural_train, encoding='utf-8', sep='\\t', engine='python', on_bad_lines='skip', header=None, low_memory=True,chunksize=chunksize)"
   ]
  },
  {
   "cell_type": "code",
   "execution_count": 28,
   "id": "9eaa4446",
   "metadata": {},
   "outputs": [],
   "source": [
    "chunks = pd.read_csv(\n",
    "    cultural_train,\n",
    "    encoding='utf-8',\n",
    "    sep='\\t',\n",
    "    engine='python',\n",
    "    on_bad_lines='skip',\n",
    "    header=None,\n",
    "    quoting=csv.QUOTE_NONE,\n",
    "    chunksize=100000,\n",
    "    low_memory=True\n",
    ")\n"
   ]
  },
  {
   "cell_type": "code",
   "execution_count": 29,
   "id": "f42e7d3e",
   "metadata": {},
   "outputs": [],
   "source": [
    "df = pd.concat(chunks, ignore_index=True)"
   ]
  },
  {
   "cell_type": "code",
   "execution_count": 30,
   "id": "4cfb967f",
   "metadata": {},
   "outputs": [
    {
     "data": {
      "text/html": [
       "<div>\n",
       "<style scoped>\n",
       "    .dataframe tbody tr th:only-of-type {\n",
       "        vertical-align: middle;\n",
       "    }\n",
       "\n",
       "    .dataframe tbody tr th {\n",
       "        vertical-align: top;\n",
       "    }\n",
       "\n",
       "    .dataframe thead th {\n",
       "        text-align: right;\n",
       "    }\n",
       "</style>\n",
       "<table border=\"1\" class=\"dataframe\">\n",
       "  <thead>\n",
       "    <tr style=\"text-align: right;\">\n",
       "      <th></th>\n",
       "      <th>token</th>\n",
       "      <th>ner_tag</th>\n",
       "      <th>cultural_tag</th>\n",
       "    </tr>\n",
       "  </thead>\n",
       "  <tbody>\n",
       "    <tr>\n",
       "      <th>0</th>\n",
       "      <td>1-6</td>\n",
       "      <td>O</td>\n",
       "      <td>-</td>\n",
       "    </tr>\n",
       "    <tr>\n",
       "      <th>1</th>\n",
       "      <td>-</td>\n",
       "      <td>O</td>\n",
       "      <td>-</td>\n",
       "    </tr>\n",
       "    <tr>\n",
       "      <th>2</th>\n",
       "      <td>6</td>\n",
       "      <td>O</td>\n",
       "      <td>-</td>\n",
       "    </tr>\n",
       "    <tr>\n",
       "      <th>3</th>\n",
       "      <td>Santan</td>\n",
       "      <td>B-PER</td>\n",
       "      <td>European</td>\n",
       "    </tr>\n",
       "    <tr>\n",
       "      <th>4</th>\n",
       "      <td>from</td>\n",
       "      <td>O</td>\n",
       "      <td>-</td>\n",
       "    </tr>\n",
       "    <tr>\n",
       "      <th>...</th>\n",
       "      <td>...</td>\n",
       "      <td>...</td>\n",
       "      <td>...</td>\n",
       "    </tr>\n",
       "    <tr>\n",
       "      <th>47095</th>\n",
       "      <td>subir</td>\n",
       "      <td>O</td>\n",
       "      <td>-</td>\n",
       "    </tr>\n",
       "    <tr>\n",
       "      <th>47096</th>\n",
       "      <td>y</td>\n",
       "      <td>O</td>\n",
       "      <td>-</td>\n",
       "    </tr>\n",
       "    <tr>\n",
       "      <th>47097</th>\n",
       "      <td>bajar</td>\n",
       "      <td>O</td>\n",
       "      <td>-</td>\n",
       "    </tr>\n",
       "    <tr>\n",
       "      <th>47098</th>\n",
       "      <td>,</td>\n",
       "      <td>O</td>\n",
       "      <td>-</td>\n",
       "    </tr>\n",
       "    <tr>\n",
       "      <th>47099</th>\n",
       "      <td>yo</td>\n",
       "      <td>O</td>\n",
       "      <td>-</td>\n",
       "    </tr>\n",
       "  </tbody>\n",
       "</table>\n",
       "<p>47100 rows × 3 columns</p>\n",
       "</div>"
      ],
      "text/plain": [
       "        token ner_tag cultural_tag\n",
       "0         1-6       O            -\n",
       "1           -       O            -\n",
       "2           6       O            -\n",
       "3      Santan   B-PER     European\n",
       "4        from       O            -\n",
       "...       ...     ...          ...\n",
       "47095   subir       O            -\n",
       "47096       y       O            -\n",
       "47097   bajar       O            -\n",
       "47098       ,       O            -\n",
       "47099      yo       O            -\n",
       "\n",
       "[47100 rows x 3 columns]"
      ]
     },
     "execution_count": 30,
     "metadata": {},
     "output_type": "execute_result"
    }
   ],
   "source": [
    "df.rename(columns=header)"
   ]
  },
  {
   "cell_type": "code",
   "execution_count": 31,
   "id": "0e6313dd",
   "metadata": {},
   "outputs": [],
   "source": [
    "exclude = ['-']\n",
    "filtered_cult = df[~df[2].isin(exclude)]"
   ]
  },
  {
   "cell_type": "code",
   "execution_count": 32,
   "id": "052381cb",
   "metadata": {},
   "outputs": [],
   "source": [
    "# filtered_cult"
   ]
  },
  {
   "cell_type": "code",
   "execution_count": 33,
   "id": "1508a0bc",
   "metadata": {},
   "outputs": [
    {
     "data": {
      "text/plain": [
       "<AxesSubplot: xlabel='2'>"
      ]
     },
     "execution_count": 33,
     "metadata": {},
     "output_type": "execute_result"
    },
    {
     "data": {
      "image/png": "[encoded data removed]",
      "text/plain": [
       "<Figure size 640x480 with 1 Axes>"
      ]
     },
     "metadata": {},
     "output_type": "display_data"
    }
   ],
   "source": [
    "filtered_cult[2].value_counts().plot.bar()\n",
    "#imbalanced data for training\n"
   ]
  },
  {
   "cell_type": "code",
   "execution_count": 34,
   "id": "b82f0d5a",
   "metadata": {},
   "outputs": [],
   "source": [
    "exclude = ['O']\n",
    "filtered_ner = df[~df[1].isin(exclude)]"
   ]
  },
  {
   "cell_type": "code",
   "execution_count": 35,
   "id": "ecdd3152",
   "metadata": {},
   "outputs": [
    {
     "data": {
      "text/plain": [
       "<AxesSubplot: xlabel='1'>"
      ]
     },
     "execution_count": 35,
     "metadata": {},
     "output_type": "execute_result"
    },
    {
     "data": {
      "image/png": "[encoded data removed]",
      "text/plain": [
       "<Figure size 640x480 with 1 Axes>"
      ]
     },
     "metadata": {},
     "output_type": "display_data"
    }
   ],
   "source": [
    "filtered_ner[1].value_counts().plot.bar()"
   ]
  },
  {
   "cell_type": "markdown",
   "id": "52da09ac",
   "metadata": {},
   "source": [
    "#### Data aligment"
   ]
  },
  {
   "cell_type": "code",
   "execution_count": 36,
   "id": "72583f90",
   "metadata": {},
   "outputs": [],
   "source": [
    "def parse_conllu(file_path):\n",
    "    \" This function create a usable dataset of the sparse .conllu file with the NER tags and cultural refferences\"\n",
    "    sentences = []\n",
    "    tags = []\n",
    "    cultural_references = []\n",
    "    \n",
    "    with open(file_path, \"r\",encoding=\"utf-8\") as file:\n",
    "        tokens = []\n",
    "        ner_tags = []\n",
    "        cultural_ref = []\n",
    "        \n",
    "        for line in file:\n",
    "            line = line.strip()\n",
    "                       \n",
    "            if not line:\n",
    "                if tokens:  \n",
    "                    sentences.append(tokens)\n",
    "                    tags.append(ner_tags)\n",
    "                    cultural_references.append(cultural_ref)\n",
    "              \n",
    "                tokens = []\n",
    "                ner_tags = []\n",
    "                cultural_ref = []\n",
    "                continue\n",
    "\n",
    "            parts = line.split(\"\\t\")\n",
    "            \n",
    "            if len(parts) >= 3:\n",
    "                token = parts[0]  \n",
    "                ner_tag = parts[1] \n",
    "                cultural_ref_val = parts[2]\n",
    "                \n",
    "                tokens.append(token)\n",
    "                ner_tags.append(ner_tag)\n",
    "                cultural_ref.append(cultural_ref_val)\n",
    "        \n",
    "       \n",
    "        if tokens:\n",
    "            sentences.append(tokens)\n",
    "            tags.append(ner_tags)\n",
    "            cultural_references.append(cultural_ref)\n",
    "    \n",
    "    return sentences, tags, cultural_references"
   ]
  },
  {
   "cell_type": "code",
   "execution_count": 37,
   "id": "38b9264c",
   "metadata": {},
   "outputs": [],
   "source": [
    "sentences, tags, cultural_refs = parse_conllu(cultural_train)\n",
    "train_data = [{\"tokens\": s, \"ner_tags\": t, \"cultural_ref\": c} for s, t, c in zip(sentences, tags, cultural_refs)]\n",
    "dataset_train = Dataset.from_list(train_data)"
   ]
  },
  {
   "cell_type": "code",
   "execution_count": 38,
   "id": "eb89cc85",
   "metadata": {},
   "outputs": [],
   "source": [
    "#load test data for later use:\n",
    "sentences_test, tags_test, cultural_refs_test = parse_conllu(cultural_test)\n",
    "test_data = [{\"tokens\": s, \"ner_tags\": t, \"cultural_ref\": c} for s, t, c in zip(sentences_test, tags_test, cultural_refs_test)]\n",
    "dataset_test = Dataset.from_list(test_data)"
   ]
  },
  {
   "cell_type": "code",
   "execution_count": 39,
   "id": "df64caa5",
   "metadata": {},
   "outputs": [],
   "source": [
    "dataset = dataset_train.train_test_split(test_size=0.1, seed=42)\n",
    "train_dataset = dataset[\"train\"]\n",
    "val_dataset = dataset[\"test\"]"
   ]
  },
  {
   "cell_type": "code",
   "execution_count": 40,
   "id": "aba4b1f9",
   "metadata": {},
   "outputs": [
    {
     "data": {
      "text/plain": [
       "Dataset({\n",
       "    features: ['tokens', 'ner_tags', 'cultural_ref'],\n",
       "    num_rows: 4803\n",
       "})"
      ]
     },
     "execution_count": 40,
     "metadata": {},
     "output_type": "execute_result"
    }
   ],
   "source": [
    "train_dataset"
   ]
  },
  {
   "cell_type": "code",
   "execution_count": 41,
   "id": "a2a4b475",
   "metadata": {},
   "outputs": [],
   "source": [
    "def tokenize_and_align_labels_with_cultural(example):\n",
    "    tokenized = tokenizer(\n",
    "        example['tokens'], \n",
    "        truncation=True, \n",
    "        padding=True,\n",
    "        is_split_into_words=True\n",
    "    )\n",
    "\n",
    "    labels = []\n",
    "    cultural_ref = []\n",
    "\n",
    "    for i, word in enumerate(example['tokens']):\n",
    "        if example['ner_tags'][i] != \"O\":\n",
    "            \n",
    "            labels.append(tag2id_ner.get(example['ner_tags'][i], -100))\n",
    "            \n",
    "            cultural_ref.append(tag2id_cultural.get(example['cultural_ref'][i], -100))\n",
    "        else:\n",
    "            labels.append(-100)\n",
    "            cultural_ref.append(-100)\n",
    "\n",
    "    tokenized['labels'] = labels\n",
    "    tokenized['cultural_ref'] = cultural_ref\n",
    "    return tokenized\n"
   ]
  },
  {
   "cell_type": "code",
   "execution_count": 42,
   "id": "cacadc6b",
   "metadata": {},
   "outputs": [
    {
     "name": "stderr",
     "output_type": "stream",
     "text": [
      "                                                                 \r"
     ]
    }
   ],
   "source": [
    "tokenized_cultural_train = train_dataset.map(tokenize_and_align_labels_with_cultural)\n",
    "tokenized_cultural_val = val_dataset.map(tokenize_and_align_labels_with_cultural)\n"
   ]
  },
  {
   "cell_type": "code",
   "execution_count": 43,
   "id": "bd16f1a2",
   "metadata": {},
   "outputs": [
    {
     "name": "stderr",
     "output_type": "stream",
     "text": [
      "                                                                 \r"
     ]
    }
   ],
   "source": [
    "tokenized_cultural_test = dataset_test.map(tokenize_and_align_labels_with_cultural)"
   ]
  },
  {
   "cell_type": "code",
   "execution_count": 44,
   "id": "d7736518",
   "metadata": {},
   "outputs": [
    {
     "name": "stdout",
     "output_type": "stream",
     "text": [
      "[0, 84415, 41537, 26, 7, 40960, 152, 45327, 6, 4, 23040, 6, 4, 87, 3444, 935, 14361, 6, 4, 87, 3444, 935, 14361, 6, 4, 242, 22304, 111, 450, 6957, 4998, 26, 19780, 20751, 6, 5, 45327, 6, 4, 23040, 6, 4, 87, 3444, 935, 14361, 6, 4, 87, 3444, 935, 14361, 6, 4, 242, 22304, 111, 450, 6957, 4998, 26, 19780, 20751, 2]\n",
      "[3, -100, -100, -100, -100, -100, -100, -100, -100, -100, -100, -100, -100, -100, -100, -100, -100, -100, -100, -100, -100, -100, -100, -100, -100, -100, -100, -100, -100, -100, -100, -100, -100, -100, -100, -100, -100, -100, -100, -100, -100, -100, -100, -100, -100, -100, -100, -100]\n"
     ]
    }
   ],
   "source": [
    "print(tokenized_cultural_train[7]['input_ids'])\n",
    "print(tokenized_cultural_train[7]['labels'])\n"
   ]
  },
  {
   "cell_type": "code",
   "execution_count": 45,
   "id": "d47d39c2",
   "metadata": {},
   "outputs": [
    {
     "data": {
      "text/plain": [
       "{'tokens': ['Kendrick’s',\n",
       "  'Dad',\n",
       "  ':',\n",
       "  'Girl',\n",
       "  ',',\n",
       "  'girl',\n",
       "  ',',\n",
       "  'I',\n",
       "  'want',\n",
       "  'your',\n",
       "  'body',\n",
       "  ',',\n",
       "  'I',\n",
       "  'want',\n",
       "  'your',\n",
       "  'body',\n",
       "  ',',\n",
       "  \"'\",\n",
       "  'cause',\n",
       "  'of',\n",
       "  'that',\n",
       "  'big',\n",
       "  'ol’',\n",
       "  'fat',\n",
       "  'ass',\n",
       "  '.',\n",
       "  'Girl',\n",
       "  ',',\n",
       "  'girl',\n",
       "  ',',\n",
       "  'I',\n",
       "  'want',\n",
       "  'your',\n",
       "  'body',\n",
       "  ',',\n",
       "  'I',\n",
       "  'want',\n",
       "  'your',\n",
       "  'body',\n",
       "  ',',\n",
       "  \"'\",\n",
       "  'cause',\n",
       "  'of',\n",
       "  'that',\n",
       "  'big',\n",
       "  'ol’',\n",
       "  'fat',\n",
       "  'ass'],\n",
       " 'ner_tags': ['B-PER',\n",
       "  'O',\n",
       "  'O',\n",
       "  'O',\n",
       "  'O',\n",
       "  'O',\n",
       "  'O',\n",
       "  'O',\n",
       "  'O',\n",
       "  'O',\n",
       "  'O',\n",
       "  'O',\n",
       "  'O',\n",
       "  'O',\n",
       "  'O',\n",
       "  'O',\n",
       "  'O',\n",
       "  'O',\n",
       "  'O',\n",
       "  'O',\n",
       "  'O',\n",
       "  'O',\n",
       "  'O',\n",
       "  'O',\n",
       "  'O',\n",
       "  'O',\n",
       "  'O',\n",
       "  'O',\n",
       "  'O',\n",
       "  'O',\n",
       "  'O',\n",
       "  'O',\n",
       "  'O',\n",
       "  'O',\n",
       "  'O',\n",
       "  'O',\n",
       "  'O',\n",
       "  'O',\n",
       "  'O',\n",
       "  'O',\n",
       "  'O',\n",
       "  'O',\n",
       "  'O',\n",
       "  'O',\n",
       "  'O',\n",
       "  'O',\n",
       "  'O',\n",
       "  'O'],\n",
       " 'cultural_ref': [8,\n",
       "  -100,\n",
       "  -100,\n",
       "  -100,\n",
       "  -100,\n",
       "  -100,\n",
       "  -100,\n",
       "  -100,\n",
       "  -100,\n",
       "  -100,\n",
       "  -100,\n",
       "  -100,\n",
       "  -100,\n",
       "  -100,\n",
       "  -100,\n",
       "  -100,\n",
       "  -100,\n",
       "  -100,\n",
       "  -100,\n",
       "  -100,\n",
       "  -100,\n",
       "  -100,\n",
       "  -100,\n",
       "  -100,\n",
       "  -100,\n",
       "  -100,\n",
       "  -100,\n",
       "  -100,\n",
       "  -100,\n",
       "  -100,\n",
       "  -100,\n",
       "  -100,\n",
       "  -100,\n",
       "  -100,\n",
       "  -100,\n",
       "  -100,\n",
       "  -100,\n",
       "  -100,\n",
       "  -100,\n",
       "  -100,\n",
       "  -100,\n",
       "  -100,\n",
       "  -100,\n",
       "  -100,\n",
       "  -100,\n",
       "  -100,\n",
       "  -100,\n",
       "  -100],\n",
       " 'input_ids': [0,\n",
       "  84415,\n",
       "  41537,\n",
       "  26,\n",
       "  7,\n",
       "  40960,\n",
       "  152,\n",
       "  45327,\n",
       "  6,\n",
       "  4,\n",
       "  23040,\n",
       "  6,\n",
       "  4,\n",
       "  87,\n",
       "  3444,\n",
       "  935,\n",
       "  14361,\n",
       "  6,\n",
       "  4,\n",
       "  87,\n",
       "  3444,\n",
       "  935,\n",
       "  14361,\n",
       "  6,\n",
       "  4,\n",
       "  242,\n",
       "  22304,\n",
       "  111,\n",
       "  450,\n",
       "  6957,\n",
       "  4998,\n",
       "  26,\n",
       "  19780,\n",
       "  20751,\n",
       "  6,\n",
       "  5,\n",
       "  45327,\n",
       "  6,\n",
       "  4,\n",
       "  23040,\n",
       "  6,\n",
       "  4,\n",
       "  87,\n",
       "  3444,\n",
       "  935,\n",
       "  14361,\n",
       "  6,\n",
       "  4,\n",
       "  87,\n",
       "  3444,\n",
       "  935,\n",
       "  14361,\n",
       "  6,\n",
       "  4,\n",
       "  242,\n",
       "  22304,\n",
       "  111,\n",
       "  450,\n",
       "  6957,\n",
       "  4998,\n",
       "  26,\n",
       "  19780,\n",
       "  20751,\n",
       "  2],\n",
       " 'attention_mask': [1,\n",
       "  1,\n",
       "  1,\n",
       "  1,\n",
       "  1,\n",
       "  1,\n",
       "  1,\n",
       "  1,\n",
       "  1,\n",
       "  1,\n",
       "  1,\n",
       "  1,\n",
       "  1,\n",
       "  1,\n",
       "  1,\n",
       "  1,\n",
       "  1,\n",
       "  1,\n",
       "  1,\n",
       "  1,\n",
       "  1,\n",
       "  1,\n",
       "  1,\n",
       "  1,\n",
       "  1,\n",
       "  1,\n",
       "  1,\n",
       "  1,\n",
       "  1,\n",
       "  1,\n",
       "  1,\n",
       "  1,\n",
       "  1,\n",
       "  1,\n",
       "  1,\n",
       "  1,\n",
       "  1,\n",
       "  1,\n",
       "  1,\n",
       "  1,\n",
       "  1,\n",
       "  1,\n",
       "  1,\n",
       "  1,\n",
       "  1,\n",
       "  1,\n",
       "  1,\n",
       "  1,\n",
       "  1,\n",
       "  1,\n",
       "  1,\n",
       "  1,\n",
       "  1,\n",
       "  1,\n",
       "  1,\n",
       "  1,\n",
       "  1,\n",
       "  1,\n",
       "  1,\n",
       "  1,\n",
       "  1,\n",
       "  1,\n",
       "  1,\n",
       "  1],\n",
       " 'labels': [3,\n",
       "  -100,\n",
       "  -100,\n",
       "  -100,\n",
       "  -100,\n",
       "  -100,\n",
       "  -100,\n",
       "  -100,\n",
       "  -100,\n",
       "  -100,\n",
       "  -100,\n",
       "  -100,\n",
       "  -100,\n",
       "  -100,\n",
       "  -100,\n",
       "  -100,\n",
       "  -100,\n",
       "  -100,\n",
       "  -100,\n",
       "  -100,\n",
       "  -100,\n",
       "  -100,\n",
       "  -100,\n",
       "  -100,\n",
       "  -100,\n",
       "  -100,\n",
       "  -100,\n",
       "  -100,\n",
       "  -100,\n",
       "  -100,\n",
       "  -100,\n",
       "  -100,\n",
       "  -100,\n",
       "  -100,\n",
       "  -100,\n",
       "  -100,\n",
       "  -100,\n",
       "  -100,\n",
       "  -100,\n",
       "  -100,\n",
       "  -100,\n",
       "  -100,\n",
       "  -100,\n",
       "  -100,\n",
       "  -100,\n",
       "  -100,\n",
       "  -100,\n",
       "  -100]}"
      ]
     },
     "execution_count": 45,
     "metadata": {},
     "output_type": "execute_result"
    }
   ],
   "source": [
    "tokenized_cultural_train[7]"
   ]
  },
  {
   "cell_type": "code",
   "execution_count": 46,
   "id": "109a1138",
   "metadata": {},
   "outputs": [
    {
     "name": "stdout",
     "output_type": "stream",
     "text": [
      "[('<s>', 'IGN'), ('▁When', 'IGN'), ('▁I', 'IGN'), ('▁want', 'IGN'), ('▁you', 'IGN'), ('▁in', 'IGN'), ('▁my', 'IGN')]\n",
      "[('<s>', 'IGN'), ('▁I', 'IGN'), ('▁got', 'IGN'), ('▁the', 'IGN'), ('▁love', 'IGN'), ('▁bir', 'IGN'), ('ds', 'IGN'), ('▁chi', 'IGN'), ('r', 'IGN')]\n",
      "[('<s>', 'IGN'), ('▁Cuando', 'IGN'), ('▁te', 'IGN'), ('▁lo', 'IGN'), ('▁qui', 'IGN'), ('to', 'IGN'), ('▁des', 'IGN'), ('pu', 'IGN')]\n"
     ]
    }
   ],
   "source": [
    "for i in range(3):\n",
    "    tokens = tokenizer.convert_ids_to_tokens(tokenized_cultural_train[i]['input_ids'])\n",
    "    labels = [id2tag_cultural.get(id, \"IGN\") for id in tokenized_cultural_train[i]['labels']]\n",
    "    print(list(zip(tokens, labels)))"
   ]
  },
  {
   "cell_type": "markdown",
   "id": "f8368810",
   "metadata": {},
   "source": [
    "#### Model set up"
   ]
  },
  {
   "cell_type": "code",
   "execution_count": 47,
   "id": "b0b60dec",
   "metadata": {},
   "outputs": [],
   "source": [
    "data_collator = DataCollatorForTokenClassification(tokenizer)"
   ]
  },
  {
   "cell_type": "code",
   "execution_count": 48,
   "id": "1f379f7d",
   "metadata": {},
   "outputs": [],
   "source": [
    "def compute_metrics(p):\n",
    "    predictions, labels = p\n",
    "    predictions = np.argmax(predictions, axis=2)\n",
    "\n",
    "    true_predictions = [\n",
    "        [id2tag_cultural[p] for (p, l) in zip(pred, label) if l != -100]\n",
    "        for pred, label in zip(predictions, labels)\n",
    "    ]\n",
    "    true_labels = [\n",
    "        [id2tag_cultural[l] for (p, l) in zip(pred, label) if l != -100]\n",
    "        for pred, label in zip(predictions, labels)\n",
    "    ]\n",
    "\n",
    "    return {\n",
    "        \"precision\": precision_score(true_labels, true_predictions),\n",
    "        \"recall\": recall_score(true_labels, true_predictions),\n",
    "        \"f1\": f1_score(true_labels, true_predictions),\n",
    "    }"
   ]
  },
  {
   "cell_type": "markdown",
   "id": "4fef72b5",
   "metadata": {},
   "source": [
    "##### Model version 1"
   ]
  },
  {
   "cell_type": "code",
   "execution_count": 49,
   "id": "783380cf",
   "metadata": {},
   "outputs": [],
   "source": [
    "#addign class weights\n",
    "all_labels = [\n",
    "    label for seq in tokenized_cultural_train['labels']\n",
    "    for label in seq if label != -100]\n",
    "\n",
    "train_labels_present = np.unique(all_labels)\n",
    "\n",
    "class_weights_raw = compute_class_weight(class_weight=\"balanced\", classes=train_labels_present, y=all_labels)\n",
    "\n",
    "full_class_weights = torch.ones(len(id2tag_cultural), dtype=torch.float)\n",
    "\n",
    "# Add all class weights, as some of them are not present in the training set\n",
    "for i, label in enumerate(train_labels_present):\n",
    "    full_class_weights[label] = class_weights_raw[i]\n"
   ]
  },
  {
   "cell_type": "markdown",
   "id": "6507ff07",
   "metadata": {},
   "source": [
    "##### Model 1."
   ]
  },
  {
   "cell_type": "code",
   "execution_count": 50,
   "id": "fb72e7c3",
   "metadata": {},
   "outputs": [],
   "source": [
    "# culture_model = XLMRCultureClassifier(num_labels_culture,class_weights=full_class_weights)\n",
    "# optimizer = AdamW(culture_model.parameters(), lr=5e-5)"
   ]
  },
  {
   "cell_type": "code",
   "execution_count": 51,
   "id": "7cb9aecc",
   "metadata": {},
   "outputs": [],
   "source": [
    "# #cult model 1\n",
    "# training_args = TrainingArguments(\n",
    "#     output_dir=\"./xlmr-cultural-model\",\n",
    "#     save_strategy=\"steps\",\n",
    "#     save_steps=50,\n",
    "#     evaluation_strategy=\"steps\",\n",
    "#     eval_steps=25,\n",
    "#     load_best_model_at_end=True,\n",
    "#     metric_for_best_model=\"eval_loss\",\n",
    "#     greater_is_better=False,\n",
    "#     logging_dir=\"./logs\",\n",
    "#     logging_steps=10,\n",
    "#     learning_rate=3e-5,\n",
    "#     per_device_train_batch_size=64,\n",
    "#     per_device_eval_batch_size=64,\n",
    "#     num_train_epochs=10,\n",
    "#     weight_decay=0.01,\n",
    "#     max_grad_norm=1.0,\n",
    "#     save_total_limit=2,\n",
    "#     remove_unused_columns=True,\n",
    "#     fp16=False,\n",
    "# )\n",
    "\n",
    "# trainer = Trainer(\n",
    "#     model=culture_model,\n",
    "#     args=training_args,\n",
    "#     train_dataset=tokenized_cultural_train,\n",
    "#     eval_dataset=tokenized_cultural_val,\n",
    "#     tokenizer=tokenizer,\n",
    "#     compute_metrics=compute_metrics,\n",
    "#     data_collator=data_collator,\n",
    "#     callbacks=[EarlyStoppingCallback(early_stopping_patience=3)],\n",
    "# )\n"
   ]
  },
  {
   "cell_type": "markdown",
   "id": "7f9cd2e5",
   "metadata": {},
   "source": [
    "##### Model version 2"
   ]
  },
  {
   "cell_type": "code",
   "execution_count": 52,
   "id": "b6070c62",
   "metadata": {},
   "outputs": [],
   "source": [
    "# culture_model_2 = XLMRCultureClassifier_2(num_labels_culture,class_weights=full_class_weights)\n",
    "# optimizer = AdamW(culture_model_2.parameters(), lr=5e-5)"
   ]
  },
  {
   "cell_type": "code",
   "execution_count": 53,
   "id": "594ddc47",
   "metadata": {},
   "outputs": [],
   "source": [
    "# #Alternative classifier\n",
    "# training_args_2 = TrainingArguments(\n",
    "#     output_dir=\"./xlmr-cultural-model_2\",\n",
    "#     save_strategy=\"steps\",\n",
    "#     save_steps=50,\n",
    "#     evaluation_strategy=\"steps\",\n",
    "#     eval_steps=25,\n",
    "#     load_best_model_at_end=True,\n",
    "#     metric_for_best_model=\"eval_loss\",\n",
    "#     greater_is_better=False,\n",
    "#     logging_dir=\"./logs\",\n",
    "#     logging_steps=10,\n",
    "#     learning_rate=3e-5,\n",
    "#     per_device_train_batch_size=64,\n",
    "#     per_device_eval_batch_size=64,\n",
    "#     num_train_epochs=10,\n",
    "#     weight_decay=0.01,\n",
    "#     max_grad_norm=1.0,\n",
    "#     save_total_limit=2,\n",
    "#     remove_unused_columns=True,\n",
    "#     fp16=False,\n",
    "# )\n",
    "\n",
    "# trainer_2 = Trainer(\n",
    "#     model=culture_model_2,\n",
    "#     args=training_args_2,\n",
    "#     train_dataset=tokenized_cultural_train,\n",
    "#     eval_dataset=tokenized_cultural_val,\n",
    "#     tokenizer=tokenizer,\n",
    "#     compute_metrics=compute_metrics,\n",
    "#     data_collator=data_collator,\n",
    "#     callbacks=[EarlyStoppingCallback(early_stopping_patience=3)],)"
   ]
  },
  {
   "cell_type": "markdown",
   "id": "ce0f3258",
   "metadata": {},
   "source": [
    "##### Final model (ver3.)"
   ]
  },
  {
   "cell_type": "code",
   "execution_count": 54,
   "id": "ac77259e",
   "metadata": {},
   "outputs": [
    {
     "name": "stderr",
     "output_type": "stream",
     "text": [
      "Some weights of the model checkpoint at xlm-roberta-base were not used when initializing XLMRobertaForTokenClassification: ['lm_head.layer_norm.weight', 'lm_head.dense.weight', 'lm_head.dense.bias', 'lm_head.layer_norm.bias', 'lm_head.bias']\n",
      "- This IS expected if you are initializing XLMRobertaForTokenClassification from the checkpoint of a model trained on another task or with another architecture (e.g. initializing a BertForSequenceClassification model from a BertForPreTraining model).\n",
      "- This IS NOT expected if you are initializing XLMRobertaForTokenClassification from the checkpoint of a model that you expect to be exactly identical (initializing a BertForSequenceClassification model from a BertForSequenceClassification model).\n",
      "Some weights of XLMRobertaForTokenClassification were not initialized from the model checkpoint at xlm-roberta-base and are newly initialized: ['classifier.bias', 'classifier.weight']\n",
      "You should probably TRAIN this model on a down-stream task to be able to use it for predictions and inference.\n"
     ]
    }
   ],
   "source": [
    "model_funziez = XLMRobertaForTokenClassification.from_pretrained(\n",
    "    \"xlm-roberta-base\",\n",
    "    num_labels=num_labels_culture,\n",
    "    id2label=id2tag_cultural,\n",
    "    label2id=tag2id_cultural)\n",
    "\n",
    "optimizer = AdamW(model_funziez.parameters(), lr=5e-5)"
   ]
  },
  {
   "cell_type": "code",
   "execution_count": 55,
   "id": "804ea887",
   "metadata": {},
   "outputs": [],
   "source": [
    "training_args_fun = TrainingArguments(\n",
    "    output_dir=\"./xlmr-cultural-funziez\",\n",
    "    save_strategy=\"steps\",\n",
    "    save_steps=100,\n",
    "    evaluation_strategy=\"steps\",\n",
    "    eval_steps=50,\n",
    "    load_best_model_at_end=True,\n",
    "    metric_for_best_model=\"eval_loss\",\n",
    "    greater_is_better=False,\n",
    "    logging_dir=\"./logs\",\n",
    "    logging_steps=100,\n",
    "    learning_rate=3e-5,\n",
    "    per_device_train_batch_size=64,\n",
    "    per_device_eval_batch_size=64,\n",
    "    num_train_epochs=10,\n",
    "    weight_decay=0.01,\n",
    "    max_grad_norm=1.0,\n",
    "    save_total_limit=2,\n",
    "    remove_unused_columns=True,\n",
    "    fp16=False,\n",
    ")\n",
    "\n",
    "trainer_fun = Trainer(\n",
    "    model=model_funziez,\n",
    "    args=training_args_fun,\n",
    "    train_dataset=tokenized_cultural_train,\n",
    "    eval_dataset=tokenized_cultural_val,\n",
    "    tokenizer=tokenizer,\n",
    "    compute_metrics=compute_metrics,\n",
    "    data_collator=data_collator,\n",
    "    callbacks=[EarlyStoppingCallback(early_stopping_patience=3)],)"
   ]
  },
  {
   "cell_type": "markdown",
   "id": "5953b56e",
   "metadata": {},
   "source": [
    "##### Model training and evaluation"
   ]
  },
  {
   "cell_type": "markdown",
   "id": "5e56d4f5",
   "metadata": {},
   "source": [
    "##### 1."
   ]
  },
  {
   "cell_type": "code",
   "execution_count": 56,
   "id": "dcfa50a8",
   "metadata": {},
   "outputs": [],
   "source": [
    "# trainer.train()"
   ]
  },
  {
   "cell_type": "code",
   "execution_count": 57,
   "id": "ab6846a0",
   "metadata": {},
   "outputs": [],
   "source": [
    "# # # model 1\n",
    "# outputs = trainer.predict(tokenized_cultural_test)\n",
    "\n",
    "# preds = np.argmax(outputs.predictions, axis=2)\n",
    "# labels = outputs.label_ids"
   ]
  },
  {
   "cell_type": "code",
   "execution_count": 58,
   "id": "34b80793",
   "metadata": {},
   "outputs": [],
   "source": [
    "# eval_results = trainer.evaluate()\n",
    "\n",
    "# print(eval_results)"
   ]
  },
  {
   "cell_type": "code",
   "execution_count": 59,
   "id": "18abae1b",
   "metadata": {},
   "outputs": [],
   "source": [
    "# trainer.evaluate(tokenized_cultural_test)"
   ]
  },
  {
   "cell_type": "markdown",
   "id": "d1dd9df9",
   "metadata": {},
   "source": [
    "##### 2."
   ]
  },
  {
   "cell_type": "code",
   "execution_count": 60,
   "id": "7fcd036e",
   "metadata": {},
   "outputs": [],
   "source": [
    "# trainer_2.train()"
   ]
  },
  {
   "cell_type": "code",
   "execution_count": 61,
   "id": "d14af159",
   "metadata": {},
   "outputs": [],
   "source": [
    "# #model 2\n",
    "# outputs_2 = trainer_2.predict(tokenized_cultural_test)\n",
    "\n",
    "# preds_2 = np.argmax(outputs_2.predictions, axis=2)\n",
    "# labels_2 = outputs_2.label_ids"
   ]
  },
  {
   "cell_type": "code",
   "execution_count": 62,
   "id": "359acc76",
   "metadata": {},
   "outputs": [],
   "source": [
    "# eval_results_2 = trainer_2.evaluate()\n",
    "\n",
    "# print(eval_results_2)"
   ]
  },
  {
   "cell_type": "code",
   "execution_count": 63,
   "id": "1d12d058",
   "metadata": {},
   "outputs": [],
   "source": [
    "# trainer_2.evaluate(tokenized_cultural_test)"
   ]
  },
  {
   "cell_type": "markdown",
   "id": "8cc41ff4",
   "metadata": {},
   "source": [
    "##### 3."
   ]
  },
  {
   "cell_type": "code",
   "execution_count": 64,
   "id": "1445ec73",
   "metadata": {},
   "outputs": [
    {
     "name": "stderr",
     "output_type": "stream",
     "text": [
      "  0%|          | 0/760 [00:00<?, ?it/s]You're using a XLMRobertaTokenizerFast tokenizer. Please note that with a fast tokenizer, using the `__call__` method is faster than using a method to encode the text followed by a call to the `pad` method to get a padded encoding.\n",
      "                                                  \n",
      "  7%|▋         | 50/760 [07:01<1:58:53, 10.05s/it]"
     ]
    },
    {
     "name": "stdout",
     "output_type": "stream",
     "text": [
      "{'eval_loss': 1.8412132263183594, 'eval_precision': 0.2986111111111111, 'eval_recall': 0.22872340425531915, 'eval_f1': 0.25903614457831325, 'eval_runtime': 14.5102, 'eval_samples_per_second': 36.802, 'eval_steps_per_second': 0.62, 'epoch': 0.66}\n"
     ]
    },
    {
     "name": "stderr",
     "output_type": "stream",
     "text": [
      " 13%|█▎        | 100/760 [14:10<2:34:55, 14.08s/it]"
     ]
    },
    {
     "name": "stdout",
     "output_type": "stream",
     "text": [
      "{'loss': 1.7967, 'learning_rate': 2.605263157894737e-05, 'epoch': 1.32}\n"
     ]
    },
    {
     "name": "stderr",
     "output_type": "stream",
     "text": [
      "                                                   \n",
      " 13%|█▎        | 100/760 [14:25<2:34:55, 14.08s/it]"
     ]
    },
    {
     "name": "stdout",
     "output_type": "stream",
     "text": [
      "{'eval_loss': 1.5997200012207031, 'eval_precision': 0.3785310734463277, 'eval_recall': 0.35638297872340424, 'eval_f1': 0.36712328767123287, 'eval_runtime': 15.2616, 'eval_samples_per_second': 34.99, 'eval_steps_per_second': 0.59, 'epoch': 1.32}\n"
     ]
    },
    {
     "name": "stderr",
     "output_type": "stream",
     "text": [
      "                                                   \n",
      " 20%|█▉        | 150/760 [21:21<1:27:01,  8.56s/it]"
     ]
    },
    {
     "name": "stdout",
     "output_type": "stream",
     "text": [
      "{'eval_loss': 1.292229413986206, 'eval_precision': 0.4502923976608187, 'eval_recall': 0.4095744680851064, 'eval_f1': 0.42896935933147634, 'eval_runtime': 14.4849, 'eval_samples_per_second': 36.866, 'eval_steps_per_second': 0.621, 'epoch': 1.97}\n"
     ]
    },
    {
     "name": "stderr",
     "output_type": "stream",
     "text": [
      " 26%|██▋       | 200/760 [28:07<1:27:52,  9.41s/it]"
     ]
    },
    {
     "name": "stdout",
     "output_type": "stream",
     "text": [
      "{'loss': 1.3035, 'learning_rate': 2.2105263157894736e-05, 'epoch': 2.63}\n"
     ]
    },
    {
     "name": "stderr",
     "output_type": "stream",
     "text": [
      "                                                   \n",
      " 26%|██▋       | 200/760 [28:22<1:27:52,  9.41s/it]"
     ]
    },
    {
     "name": "stdout",
     "output_type": "stream",
     "text": [
      "{'eval_loss': 1.152498483657837, 'eval_precision': 0.54, 'eval_recall': 0.4308510638297872, 'eval_f1': 0.47928994082840237, 'eval_runtime': 14.1416, 'eval_samples_per_second': 37.761, 'eval_steps_per_second': 0.636, 'epoch': 2.63}\n"
     ]
    },
    {
     "name": "stderr",
     "output_type": "stream",
     "text": [
      "                                                   \n",
      " 33%|███▎      | 250/760 [35:38<1:32:17, 10.86s/it]"
     ]
    },
    {
     "name": "stdout",
     "output_type": "stream",
     "text": [
      "{'eval_loss': 1.1154882907867432, 'eval_precision': 0.5730337078651685, 'eval_recall': 0.5425531914893617, 'eval_f1': 0.5573770491803278, 'eval_runtime': 13.8957, 'eval_samples_per_second': 38.429, 'eval_steps_per_second': 0.648, 'epoch': 3.29}\n"
     ]
    },
    {
     "name": "stderr",
     "output_type": "stream",
     "text": [
      " 39%|███▉      | 300/760 [42:13<1:03:01,  8.22s/it]"
     ]
    },
    {
     "name": "stdout",
     "output_type": "stream",
     "text": [
      "{'loss': 0.974, 'learning_rate': 1.8157894736842107e-05, 'epoch': 3.95}\n"
     ]
    },
    {
     "name": "stderr",
     "output_type": "stream",
     "text": [
      "                                                   \n",
      " 39%|███▉      | 300/760 [42:28<1:03:01,  8.22s/it]"
     ]
    },
    {
     "name": "stdout",
     "output_type": "stream",
     "text": [
      "{'eval_loss': 1.000067949295044, 'eval_precision': 0.5865921787709497, 'eval_recall': 0.5585106382978723, 'eval_f1': 0.5722070844686648, 'eval_runtime': 15.528, 'eval_samples_per_second': 34.389, 'eval_steps_per_second': 0.58, 'epoch': 3.95}\n"
     ]
    },
    {
     "name": "stderr",
     "output_type": "stream",
     "text": [
      "                                                   \n",
      " 46%|████▌     | 350/760 [49:53<59:06,  8.65s/it]"
     ]
    },
    {
     "name": "stdout",
     "output_type": "stream",
     "text": [
      "{'eval_loss': 1.0019837617874146, 'eval_precision': 0.6491228070175439, 'eval_recall': 0.5904255319148937, 'eval_f1': 0.6183844011142061, 'eval_runtime': 14.2826, 'eval_samples_per_second': 37.388, 'eval_steps_per_second': 0.63, 'epoch': 4.61}\n"
     ]
    },
    {
     "name": "stderr",
     "output_type": "stream",
     "text": [
      " 53%|█████▎    | 400/760 [56:30<48:33,  8.09s/it]  "
     ]
    },
    {
     "name": "stdout",
     "output_type": "stream",
     "text": [
      "{'loss': 0.7146, 'learning_rate': 1.4210526315789473e-05, 'epoch': 5.26}\n"
     ]
    },
    {
     "name": "stderr",
     "output_type": "stream",
     "text": [
      "                                                 \n",
      " 53%|█████▎    | 400/760 [56:44<48:33,  8.09s/it]"
     ]
    },
    {
     "name": "stdout",
     "output_type": "stream",
     "text": [
      "{'eval_loss': 1.0237900018692017, 'eval_precision': 0.6569767441860465, 'eval_recall': 0.601063829787234, 'eval_f1': 0.6277777777777778, 'eval_runtime': 14.3196, 'eval_samples_per_second': 37.291, 'eval_steps_per_second': 0.629, 'epoch': 5.26}\n"
     ]
    },
    {
     "name": "stderr",
     "output_type": "stream",
     "text": [
      "                                                     \n",
      " 59%|█████▉    | 450/760 [1:04:17<41:39,  8.06s/it]"
     ]
    },
    {
     "name": "stdout",
     "output_type": "stream",
     "text": [
      "{'eval_loss': 0.9894027709960938, 'eval_precision': 0.6557377049180327, 'eval_recall': 0.6382978723404256, 'eval_f1': 0.6469002695417789, 'eval_runtime': 15.4391, 'eval_samples_per_second': 34.587, 'eval_steps_per_second': 0.583, 'epoch': 5.92}\n"
     ]
    },
    {
     "name": "stderr",
     "output_type": "stream",
     "text": [
      " 66%|██████▌   | 500/760 [1:10:51<41:05,  9.48s/it]  "
     ]
    },
    {
     "name": "stdout",
     "output_type": "stream",
     "text": [
      "{'loss': 0.5033, 'learning_rate': 1.0263157894736843e-05, 'epoch': 6.58}\n"
     ]
    },
    {
     "name": "stderr",
     "output_type": "stream",
     "text": [
      "                                                   \n",
      " 66%|██████▌   | 500/760 [1:11:06<41:05,  9.48s/it]"
     ]
    },
    {
     "name": "stdout",
     "output_type": "stream",
     "text": [
      "{'eval_loss': 1.0294759273529053, 'eval_precision': 0.644808743169399, 'eval_recall': 0.6276595744680851, 'eval_f1': 0.6361185983827493, 'eval_runtime': 14.823, 'eval_samples_per_second': 36.025, 'eval_steps_per_second': 0.607, 'epoch': 6.58}\n"
     ]
    },
    {
     "name": "stderr",
     "output_type": "stream",
     "text": [
      "                                                     \n",
      " 72%|███████▏  | 550/760 [1:18:38<29:41,  8.48s/it]"
     ]
    },
    {
     "name": "stdout",
     "output_type": "stream",
     "text": [
      "{'eval_loss': 1.073079228401184, 'eval_precision': 0.644808743169399, 'eval_recall': 0.6276595744680851, 'eval_f1': 0.6361185983827493, 'eval_runtime': 14.0725, 'eval_samples_per_second': 37.946, 'eval_steps_per_second': 0.64, 'epoch': 7.24}\n"
     ]
    },
    {
     "name": "stderr",
     "output_type": "stream",
     "text": [
      " 79%|███████▉  | 600/760 [1:25:27<21:34,  8.09s/it]"
     ]
    },
    {
     "name": "stdout",
     "output_type": "stream",
     "text": [
      "{'loss': 0.4123, 'learning_rate': 6.31578947368421e-06, 'epoch': 7.89}\n"
     ]
    },
    {
     "name": "stderr",
     "output_type": "stream",
     "text": [
      "                                                   \n",
      " 79%|███████▉  | 600/760 [1:25:42<21:34,  8.09s/it]"
     ]
    },
    {
     "name": "stdout",
     "output_type": "stream",
     "text": [
      "{'eval_loss': 1.0488567352294922, 'eval_precision': 0.6594594594594595, 'eval_recall': 0.648936170212766, 'eval_f1': 0.6541554959785523, 'eval_runtime': 14.4758, 'eval_samples_per_second': 36.889, 'eval_steps_per_second': 0.622, 'epoch': 7.89}\n"
     ]
    },
    {
     "name": "stderr",
     "output_type": "stream",
     "text": [
      " 79%|███████▉  | 600/760 [1:25:54<22:54,  8.59s/it]"
     ]
    },
    {
     "name": "stdout",
     "output_type": "stream",
     "text": [
      "{'train_runtime': 5154.2064, 'train_samples_per_second': 9.319, 'train_steps_per_second': 0.147, 'train_loss': 0.9507281557718913, 'epoch': 7.89}\n"
     ]
    },
    {
     "name": "stderr",
     "output_type": "stream",
     "text": [
      "\n"
     ]
    },
    {
     "data": {
      "text/plain": [
       "TrainOutput(global_step=600, training_loss=0.9507281557718913, metrics={'train_runtime': 5154.2064, 'train_samples_per_second': 9.319, 'train_steps_per_second': 0.147, 'train_loss': 0.9507281557718913, 'epoch': 7.89})"
      ]
     },
     "execution_count": 64,
     "metadata": {},
     "output_type": "execute_result"
    }
   ],
   "source": [
    "trainer_fun.train()"
   ]
  },
  {
   "cell_type": "code",
   "execution_count": 65,
   "id": "2cc01dab",
   "metadata": {},
   "outputs": [
    {
     "name": "stderr",
     "output_type": "stream",
     "text": [
      "100%|██████████| 47/47 [01:14<00:00,  1.59s/it]\n"
     ]
    }
   ],
   "source": [
    "# model funziez\n",
    "outputs_fun = trainer_fun.predict(tokenized_cultural_test)\n",
    "\n",
    "preds_fun = np.argmax(outputs_fun.predictions, axis=2)\n",
    "labels_fun = outputs_fun.label_ids"
   ]
  },
  {
   "cell_type": "code",
   "execution_count": 66,
   "id": "2f881381",
   "metadata": {},
   "outputs": [
    {
     "name": "stderr",
     "output_type": "stream",
     "text": [
      "100%|██████████| 9/9 [00:14<00:00,  1.56s/it]"
     ]
    },
    {
     "name": "stdout",
     "output_type": "stream",
     "text": [
      "{'eval_loss': 1.000067949295044, 'eval_precision': 0.5865921787709497, 'eval_recall': 0.5585106382978723, 'eval_f1': 0.5722070844686648, 'eval_runtime': 16.4103, 'eval_samples_per_second': 32.54, 'eval_steps_per_second': 0.548, 'epoch': 7.89}\n"
     ]
    },
    {
     "name": "stderr",
     "output_type": "stream",
     "text": [
      "\n"
     ]
    }
   ],
   "source": [
    "eval_results_fun = trainer_fun.evaluate()\n",
    "\n",
    "print(eval_results_fun)"
   ]
  },
  {
   "cell_type": "code",
   "execution_count": 67,
   "id": "52168276",
   "metadata": {},
   "outputs": [
    {
     "name": "stderr",
     "output_type": "stream",
     "text": [
      "100%|██████████| 47/47 [01:09<00:00,  1.47s/it]\n"
     ]
    },
    {
     "data": {
      "text/plain": [
       "{'eval_loss': nan,\n",
       " 'eval_precision': 0.46078431372549017,\n",
       " 'eval_recall': 0.42451612903225805,\n",
       " 'eval_f1': 0.44190732034922764,\n",
       " 'eval_runtime': 71.5515,\n",
       " 'eval_samples_per_second': 41.257,\n",
       " 'eval_steps_per_second': 0.657,\n",
       " 'epoch': 7.89}"
      ]
     },
     "execution_count": 67,
     "metadata": {},
     "output_type": "execute_result"
    }
   ],
   "source": [
    "trainer_fun.evaluate(tokenized_cultural_test)"
   ]
  },
  {
   "cell_type": "markdown",
   "id": "ece3e6f3",
   "metadata": {},
   "source": [
    "#### Training loss and learning rate"
   ]
  },
  {
   "cell_type": "markdown",
   "id": "943bec8e",
   "metadata": {},
   "source": [
    "##### 1."
   ]
  },
  {
   "cell_type": "code",
   "execution_count": 68,
   "id": "9d39191d",
   "metadata": {},
   "outputs": [],
   "source": [
    "# #add path for model's LATEST checkpoint trainer_state.json\n",
    "# trainer_state_path = \"xlmr-cultural-model/checkpoint-300/trainer_state.json\""
   ]
  },
  {
   "cell_type": "code",
   "execution_count": 69,
   "id": "e1044474",
   "metadata": {},
   "outputs": [],
   "source": [
    "# trainer_state_path_2 = \"xlmr-cultural-model_2/checkpoint-350/trainer_state.json\""
   ]
  },
  {
   "cell_type": "code",
   "execution_count": 70,
   "id": "214eeb81",
   "metadata": {},
   "outputs": [],
   "source": [
    "def plot_training_logs(logs):\n",
    "\n",
    "    steps = [log[\"step\"] for log in logs if \"loss\" in log]\n",
    "    train_loss = [log[\"loss\"] for log in logs if \"loss\" in log]\n",
    "    lr = [log[\"learning_rate\"] for log in logs if \"loss\" in log]\n",
    "\n",
    "    fig, axs = plt.subplots(2, 1, figsize=(10, 8), sharex=True)\n",
    "\n",
    "    axs[0].plot(steps, train_loss, color='blue', label='Training Loss')\n",
    "    axs[0].set_ylabel(\"Loss\")\n",
    "    axs[0].legend()\n",
    "    axs[0].grid(True)\n",
    "\n",
    "    axs[1].plot(steps, lr, color='green', linestyle='--', label='Learning Rate')\n",
    "    axs[1].set_xlabel(\"Step\")\n",
    "    axs[1].set_ylabel(\"LR\")\n",
    "    axs[1].legend()\n",
    "    axs[1].grid(True)\n",
    "\n",
    "    plt.tight_layout()\n",
    "    plt.show()"
   ]
  },
  {
   "cell_type": "code",
   "execution_count": 71,
   "id": "5235afbf",
   "metadata": {},
   "outputs": [],
   "source": [
    "# with open(trainer_state_path, \"r\") as f:\n",
    "#     state = json.load(f)\n",
    "\n",
    "# # Pass only the log history to the plotting function\n",
    "# plot_training_logs(state[\"log_history\"])\n",
    "# # "
   ]
  },
  {
   "cell_type": "markdown",
   "id": "82d746ba",
   "metadata": {},
   "source": [
    "##### 2. "
   ]
  },
  {
   "cell_type": "code",
   "execution_count": 72,
   "id": "f1eff61c",
   "metadata": {},
   "outputs": [],
   "source": [
    "# with open(trainer_state_path_2, \"r\") as f:\n",
    "#     state_2 = json.load(f)\n",
    "\n",
    "# # Pass only the log history to the plotting function\n",
    "# plot_training_logs(state_2[\"log_history\"])\n"
   ]
  },
  {
   "cell_type": "markdown",
   "id": "57856f66",
   "metadata": {},
   "source": [
    "##### 3."
   ]
  },
  {
   "cell_type": "code",
   "execution_count": 78,
   "id": "237a0290",
   "metadata": {},
   "outputs": [],
   "source": [
    "trainer_state_path_3 = \"xlmr-cultural-funziez/checkpoint-600/trainer_state.json\""
   ]
  },
  {
   "cell_type": "code",
   "execution_count": 80,
   "id": "887fdb38",
   "metadata": {},
   "outputs": [],
   "source": [
    "trainer_state_path_before_3 = \"xlmr-cultural-funziez/checkpoint-300/trainer_state.json\""
   ]
  },
  {
   "cell_type": "code",
   "execution_count": 79,
   "id": "b4bba4cb",
   "metadata": {},
   "outputs": [
    {
     "data": {
      "image/png": "[encoded data removed]",
      "text/plain": [
       "<Figure size 1000x800 with 2 Axes>"
      ]
     },
     "metadata": {},
     "output_type": "display_data"
    }
   ],
   "source": [
    "with open(trainer_state_path_3, \"r\") as f:\n",
    "    state_2 = json.load(f)\n",
    "\n",
    "# Pass only the log history to the plotting function\n",
    "plot_training_logs(state_2[\"log_history\"])\n"
   ]
  },
  {
   "cell_type": "code",
   "execution_count": 81,
   "id": "265e998d",
   "metadata": {},
   "outputs": [
    {
     "data": {
      "image/png": "[encoded data removed]",
      "text/plain": [
       "<Figure size 1000x800 with 2 Axes>"
      ]
     },
     "metadata": {},
     "output_type": "display_data"
    }
   ],
   "source": [
    "with open(trainer_state_path_before_3, \"r\") as f:\n",
    "    state_3 = json.load(f)\n",
    "\n",
    "# Pass only the log history to the plotting function\n",
    "plot_training_logs(state_3[\"log_history\"])\n"
   ]
  },
  {
   "cell_type": "markdown",
   "id": "1c424e77",
   "metadata": {},
   "source": [
    "#### Confusion matrix"
   ]
  },
  {
   "cell_type": "markdown",
   "id": "60811af1",
   "metadata": {},
   "source": [
    "##### 1."
   ]
  },
  {
   "cell_type": "code",
   "execution_count": 75,
   "id": "3ce35a9e",
   "metadata": {},
   "outputs": [],
   "source": [
    "# filtered = [(p, l) for pred, label in zip(preds_2, labels_2) for p, l in zip(pred, label) if l != -100]\n",
    "# pred_labels, true_labels = zip(*filtered)\n",
    "# pred_labels = list(pred_labels)\n",
    "# true_labels = list(true_labels)\n",
    "\n",
    "\n",
    "# # Confusion Matrix Calculation\n",
    "# cm = confusion_matrix(true_labels, pred_labels, labels=list(range(len(id2tag_cultural))))\n",
    "\n",
    "# # Mapping labels\n",
    "# all_labels = list(id2tag_cultural.values())\n",
    "\n",
    "# # Plotting the confusion matrix\n",
    "# disp = ConfusionMatrixDisplay(confusion_matrix=cm, display_labels=all_labels)\n",
    "# disp.plot(cmap=\"Blues\")\n",
    "# plt.title(\"Confusion Matrix - Token Classification\")\n",
    "# plt.xticks(fontsize=8, rotation=90)\n",
    "# plt.yticks(fontsize=8)\n",
    "# plt.show()"
   ]
  },
  {
   "cell_type": "markdown",
   "id": "1c28f88c",
   "metadata": {},
   "source": [
    "##### 2."
   ]
  },
  {
   "cell_type": "code",
   "execution_count": 76,
   "id": "8190c33e",
   "metadata": {},
   "outputs": [],
   "source": [
    "# # Use list comprehension for better performance\n",
    "# true_labels = [l for pred, label in zip(preds, labels) for p, l in zip(pred, label) if l != -100]\n",
    "# pred_labels = [p for pred, label in zip(preds, labels) for p, l in zip(pred, label) if l != -100]\n",
    "\n",
    "# # Confusion Matrix Calculation\n",
    "# cm = confusion_matrix(true_labels, pred_labels, labels=list(range(len(id2tag_cultural))))\n",
    "\n",
    "# # Mapping labels\n",
    "# all_labels = list(id2tag_cultural.values())\n",
    "\n",
    "# # Plotting the confusion matrix\n",
    "# disp = ConfusionMatrixDisplay(confusion_matrix=cm, display_labels=all_labels)\n",
    "# disp.plot(cmap=\"Blues\")\n",
    "# plt.title(\"Confusion Matrix - Token Classification\")\n",
    "# plt.xticks(fontsize=8, rotation=90)\n",
    "# plt.yticks(fontsize=8)\n",
    "# plt.show()"
   ]
  },
  {
   "cell_type": "markdown",
   "id": "01831827",
   "metadata": {},
   "source": [
    "##### 3. "
   ]
  },
  {
   "cell_type": "code",
   "execution_count": 82,
   "id": "60be62b7",
   "metadata": {},
   "outputs": [
    {
     "data": {
      "image/png": "[encoded data removed]",
      "text/plain": [
       "<Figure size 640x480 with 2 Axes>"
      ]
     },
     "metadata": {},
     "output_type": "display_data"
    }
   ],
   "source": [
    "# Use list comprehension for better performance\n",
    "true_labels = [l for pred, label in zip(preds_fun, labels_fun) for p, l in zip(pred, label) if l != -100]\n",
    "pred_labels = [p for pred, label in zip(preds_fun, labels_fun) for p, l in zip(pred, label) if l != -100]\n",
    "\n",
    "# Confusion Matrix Calculation\n",
    "cm = confusion_matrix(true_labels, pred_labels, labels=list(range(len(id2tag_cultural))))\n",
    "\n",
    "# Mapping labels\n",
    "all_labels = list(id2tag_cultural.values())\n",
    "\n",
    "# Plotting the confusion matrix\n",
    "disp = ConfusionMatrixDisplay(confusion_matrix=cm, display_labels=all_labels)\n",
    "disp.plot(cmap=\"Blues\")\n",
    "plt.title(\"Confusion Matrix - Token Classification\")\n",
    "plt.xticks(fontsize=8, rotation=90)\n",
    "plt.yticks(fontsize=8)\n",
    "plt.show()"
   ]
  }
 ],
 "metadata": {
  "kernelspec": {
   "display_name": ".venv",
   "language": "python",
   "name": "python3"
  },
  "language_info": {
   "codemirror_mode": {
    "name": "ipython",
    "version": 3
   },
   "file_extension": ".py",
   "mimetype": "text/x-python",
   "name": "python",
   "nbconvert_exporter": "python",
   "pygments_lexer": "ipython3",
   "version": "3.10.11"
  }
 },
 "nbformat": 4,
 "nbformat_minor": 5
}
