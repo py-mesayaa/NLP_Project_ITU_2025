{
 "cells": [
  {
   "cell_type": "code",
   "execution_count": 1,
   "id": "01c6ac9b",
   "metadata": {},
   "outputs": [
    {
     "name": "stderr",
     "output_type": "stream",
     "text": [
      "c:\\coding\\.venv\\lib\\site-packages\\tqdm\\auto.py:22: TqdmWarning: IProgress not found. Please update jupyter and ipywidgets. See https://ipywidgets.readthedocs.io/en/stable/user_install.html\n",
      "  from .autonotebook import tqdm as notebook_tqdm\n"
     ]
    }
   ],
   "source": [
    "import warnings\n",
    "import csv\n",
    "import pandas as pd\n",
    "import numpy as np\n",
    "import matplotlib.pyplot as plt\n",
    "import json\n",
    "import torch\n",
    "from xlmr_culture_classification import XLMRCultureClassifier, XLMRCultureClassifier_2\n",
    "from datasets import Dataset\n",
    "from transformers import AdamW, XLMRobertaTokenizerFast, XLMRobertaForTokenClassification, DataCollatorForTokenClassification, Trainer, TrainingArguments, EarlyStoppingCallback\n",
    "from seqeval.metrics import precision_score, recall_score, f1_score\n",
    "from sklearn.metrics import confusion_matrix, ConfusionMatrixDisplay\n",
    "from sklearn.utils.class_weight import compute_class_weight"
   ]
  },
  {
   "cell_type": "code",
   "execution_count": 2,
   "id": "95dd1b48",
   "metadata": {},
   "outputs": [],
   "source": [
    "warnings.filterwarnings(\"ignore\")"
   ]
  },
  {
   "cell_type": "markdown",
   "id": "a266fb55",
   "metadata": {},
   "source": [
    "##### General set up"
   ]
  },
  {
   "cell_type": "code",
   "execution_count": 3,
   "id": "e95a121a",
   "metadata": {},
   "outputs": [],
   "source": [
    "tokenizer = XLMRobertaTokenizerFast.from_pretrained(\"xlm-roberta-base\")"
   ]
  },
  {
   "cell_type": "code",
   "execution_count": 4,
   "id": "a22e0dd6",
   "metadata": {},
   "outputs": [],
   "source": [
    "cultural_train = \"data/train_merged_output_cultural.conll\"\n",
    "# cultural_train = \"annotation/test/fully_annotated_span_test_lyrics.conll\"\n",
    "cultural_test = \"data/test_merged_output.conll\"\n",
    "# cultural_test = \"annotation/train/fully_annotated_lyrics_span.conll\""
   ]
  },
  {
   "cell_type": "code",
   "execution_count": 5,
   "id": "15423a61",
   "metadata": {},
   "outputs": [],
   "source": [
    "def extract_refs(json_path):\n",
    "    cultural_refs_tag = []\n",
    "    cultural_refs_IDs = {}\n",
    "\n",
    "    with open(json_path, \"r\") as f:\n",
    "        cultural_data = json.load(f)\n",
    "        cultural_refs_tag.extend([entry['tag'] for entry in cultural_data])\n",
    "        cultural_refs_IDs.update({entry['tag']: entry['id'] for entry in cultural_data})\n",
    "\n",
    "    return cultural_refs_tag, cultural_refs_IDs\n",
    "\n",
    "ner_tags_path = \"data/ner_tags.json\"\n",
    "cultural_ref_tags_path = \"data/cultural_tags.json\"\n",
    "\n",
    "ner_tags, tag2id_ner = extract_refs(ner_tags_path)\n",
    "cultural_tags, tag2id_cultural = extract_refs(cultural_ref_tags_path)\n",
    "\n",
    "num_labels_culture = len(tag2id_cultural)\n",
    "num_labels_ner = len(tag2id_ner)\n",
    "\n",
    "id2tag_ner = {v: k for k, v in tag2id_ner.items()}\n",
    "id2tag_cultural = {v: k for k, v in tag2id_cultural.items()}"
   ]
  },
  {
   "cell_type": "code",
   "execution_count": 6,
   "id": "c3e8055d",
   "metadata": {},
   "outputs": [],
   "source": [
    "# if torch.cuda.is_available():\n",
    "#     device = torch.device(\"cuda\")    \n",
    "#     print('There are %d GPU(s) available.' % torch.cuda.device_count())\n",
    "#     print('GPU is:', torch.cuda.get_device_name(0))\n",
    "# else:\n",
    "#     print('No GPU available, using the CPU instead.')\n",
    "#     device = torch.device(\"cpu\")"
   ]
  },
  {
   "cell_type": "markdown",
   "id": "70d32a89",
   "metadata": {},
   "source": [
    "##### Vizualizations"
   ]
  },
  {
   "cell_type": "code",
   "execution_count": 7,
   "id": "acb507c5",
   "metadata": {},
   "outputs": [],
   "source": [
    "header = {0:'token', 1:'ner_tag', 2:'cultural_tag'}\n",
    "\n",
    "chunksize = 100000\n",
    "chunks = []  # List to store chunks"
   ]
  },
  {
   "cell_type": "code",
   "execution_count": 8,
   "id": "a78ccd64",
   "metadata": {},
   "outputs": [],
   "source": [
    "chunks = pd.read_csv(cultural_train, encoding='utf-8', sep='\\t', engine='python', on_bad_lines='skip', header=None, low_memory=True,chunksize=chunksize)"
   ]
  },
  {
   "cell_type": "code",
   "execution_count": 9,
   "id": "9eaa4446",
   "metadata": {},
   "outputs": [],
   "source": [
    "chunks = pd.read_csv(\n",
    "    cultural_train,\n",
    "    encoding='utf-8',\n",
    "    sep='\\t',\n",
    "    engine='python',\n",
    "    on_bad_lines='skip',\n",
    "    header=None,\n",
    "    quoting=csv.QUOTE_NONE,\n",
    "    chunksize=100000,\n",
    "    low_memory=True\n",
    ")\n"
   ]
  },
  {
   "cell_type": "code",
   "execution_count": 10,
   "id": "f42e7d3e",
   "metadata": {},
   "outputs": [],
   "source": [
    "df = pd.concat(chunks, ignore_index=True)"
   ]
  },
  {
   "cell_type": "code",
   "execution_count": 11,
   "id": "4cfb967f",
   "metadata": {},
   "outputs": [
    {
     "data": {
      "text/html": [
       "<div>\n",
       "<style scoped>\n",
       "    .dataframe tbody tr th:only-of-type {\n",
       "        vertical-align: middle;\n",
       "    }\n",
       "\n",
       "    .dataframe tbody tr th {\n",
       "        vertical-align: top;\n",
       "    }\n",
       "\n",
       "    .dataframe thead th {\n",
       "        text-align: right;\n",
       "    }\n",
       "</style>\n",
       "<table border=\"1\" class=\"dataframe\">\n",
       "  <thead>\n",
       "    <tr style=\"text-align: right;\">\n",
       "      <th></th>\n",
       "      <th>token</th>\n",
       "      <th>ner_tag</th>\n",
       "      <th>cultural_tag</th>\n",
       "    </tr>\n",
       "  </thead>\n",
       "  <tbody>\n",
       "    <tr>\n",
       "      <th>0</th>\n",
       "      <td>1-6</td>\n",
       "      <td>O</td>\n",
       "      <td>-</td>\n",
       "    </tr>\n",
       "    <tr>\n",
       "      <th>1</th>\n",
       "      <td>-</td>\n",
       "      <td>O</td>\n",
       "      <td>-</td>\n",
       "    </tr>\n",
       "    <tr>\n",
       "      <th>2</th>\n",
       "      <td>6</td>\n",
       "      <td>O</td>\n",
       "      <td>-</td>\n",
       "    </tr>\n",
       "    <tr>\n",
       "      <th>3</th>\n",
       "      <td>Santan</td>\n",
       "      <td>B-PER</td>\n",
       "      <td>European</td>\n",
       "    </tr>\n",
       "    <tr>\n",
       "      <th>4</th>\n",
       "      <td>from</td>\n",
       "      <td>O</td>\n",
       "      <td>-</td>\n",
       "    </tr>\n",
       "    <tr>\n",
       "      <th>...</th>\n",
       "      <td>...</td>\n",
       "      <td>...</td>\n",
       "      <td>...</td>\n",
       "    </tr>\n",
       "    <tr>\n",
       "      <th>47095</th>\n",
       "      <td>subir</td>\n",
       "      <td>O</td>\n",
       "      <td>-</td>\n",
       "    </tr>\n",
       "    <tr>\n",
       "      <th>47096</th>\n",
       "      <td>y</td>\n",
       "      <td>O</td>\n",
       "      <td>-</td>\n",
       "    </tr>\n",
       "    <tr>\n",
       "      <th>47097</th>\n",
       "      <td>bajar</td>\n",
       "      <td>O</td>\n",
       "      <td>-</td>\n",
       "    </tr>\n",
       "    <tr>\n",
       "      <th>47098</th>\n",
       "      <td>,</td>\n",
       "      <td>O</td>\n",
       "      <td>-</td>\n",
       "    </tr>\n",
       "    <tr>\n",
       "      <th>47099</th>\n",
       "      <td>yo</td>\n",
       "      <td>O</td>\n",
       "      <td>-</td>\n",
       "    </tr>\n",
       "  </tbody>\n",
       "</table>\n",
       "<p>47100 rows × 3 columns</p>\n",
       "</div>"
      ],
      "text/plain": [
       "        token ner_tag cultural_tag\n",
       "0         1-6       O            -\n",
       "1           -       O            -\n",
       "2           6       O            -\n",
       "3      Santan   B-PER     European\n",
       "4        from       O            -\n",
       "...       ...     ...          ...\n",
       "47095   subir       O            -\n",
       "47096       y       O            -\n",
       "47097   bajar       O            -\n",
       "47098       ,       O            -\n",
       "47099      yo       O            -\n",
       "\n",
       "[47100 rows x 3 columns]"
      ]
     },
     "execution_count": 11,
     "metadata": {},
     "output_type": "execute_result"
    }
   ],
   "source": [
    "df.rename(columns=header)"
   ]
  },
  {
   "cell_type": "code",
   "execution_count": 12,
   "id": "0e6313dd",
   "metadata": {},
   "outputs": [],
   "source": [
    "exclude = ['-']\n",
    "filtered_cult = df[~df[2].isin(exclude)]"
   ]
  },
  {
   "cell_type": "code",
   "execution_count": 13,
   "id": "052381cb",
   "metadata": {},
   "outputs": [
    {
     "data": {
      "text/html": [
       "<div>\n",
       "<style scoped>\n",
       "    .dataframe tbody tr th:only-of-type {\n",
       "        vertical-align: middle;\n",
       "    }\n",
       "\n",
       "    .dataframe tbody tr th {\n",
       "        vertical-align: top;\n",
       "    }\n",
       "\n",
       "    .dataframe thead th {\n",
       "        text-align: right;\n",
       "    }\n",
       "</style>\n",
       "<table border=\"1\" class=\"dataframe\">\n",
       "  <thead>\n",
       "    <tr style=\"text-align: right;\">\n",
       "      <th></th>\n",
       "      <th>0</th>\n",
       "      <th>1</th>\n",
       "      <th>2</th>\n",
       "    </tr>\n",
       "  </thead>\n",
       "  <tbody>\n",
       "    <tr>\n",
       "      <th>3</th>\n",
       "      <td>Santan</td>\n",
       "      <td>B-PER</td>\n",
       "      <td>European</td>\n",
       "    </tr>\n",
       "    <tr>\n",
       "      <th>6</th>\n",
       "      <td>V-V</td>\n",
       "      <td>B-LOC</td>\n",
       "      <td>European</td>\n",
       "    </tr>\n",
       "    <tr>\n",
       "      <th>8</th>\n",
       "      <td>AJ</td>\n",
       "      <td>B-PER</td>\n",
       "      <td>European</td>\n",
       "    </tr>\n",
       "    <tr>\n",
       "      <th>15</th>\n",
       "      <td>J</td>\n",
       "      <td>B-PER</td>\n",
       "      <td>European</td>\n",
       "    </tr>\n",
       "    <tr>\n",
       "      <th>16</th>\n",
       "      <td>.</td>\n",
       "      <td>I-PER</td>\n",
       "      <td>European</td>\n",
       "    </tr>\n",
       "    <tr>\n",
       "      <th>...</th>\n",
       "      <td>...</td>\n",
       "      <td>...</td>\n",
       "      <td>...</td>\n",
       "    </tr>\n",
       "    <tr>\n",
       "      <th>47044</th>\n",
       "      <td>mancha</td>\n",
       "      <td>I-LOC</td>\n",
       "      <td>European</td>\n",
       "    </tr>\n",
       "    <tr>\n",
       "      <th>47047</th>\n",
       "      <td>Raval</td>\n",
       "      <td>B-LOC</td>\n",
       "      <td>European</td>\n",
       "    </tr>\n",
       "    <tr>\n",
       "      <th>47049</th>\n",
       "      <td>merca</td>\n",
       "      <td>B-MISC</td>\n",
       "      <td>European</td>\n",
       "    </tr>\n",
       "    <tr>\n",
       "      <th>47052</th>\n",
       "      <td>Besós</td>\n",
       "      <td>B-LOC</td>\n",
       "      <td>European</td>\n",
       "    </tr>\n",
       "    <tr>\n",
       "      <th>47053</th>\n",
       "      <td>Mar</td>\n",
       "      <td>I-LOC</td>\n",
       "      <td>European</td>\n",
       "    </tr>\n",
       "  </tbody>\n",
       "</table>\n",
       "<p>1676 rows × 3 columns</p>\n",
       "</div>"
      ],
      "text/plain": [
       "            0       1         2\n",
       "3      Santan   B-PER  European\n",
       "6         V-V   B-LOC  European\n",
       "8          AJ   B-PER  European\n",
       "15          J   B-PER  European\n",
       "16          .   I-PER  European\n",
       "...       ...     ...       ...\n",
       "47044  mancha   I-LOC  European\n",
       "47047   Raval   B-LOC  European\n",
       "47049   merca  B-MISC  European\n",
       "47052   Besós   B-LOC  European\n",
       "47053     Mar   I-LOC  European\n",
       "\n",
       "[1676 rows x 3 columns]"
      ]
     },
     "execution_count": 13,
     "metadata": {},
     "output_type": "execute_result"
    }
   ],
   "source": [
    "filtered_cult"
   ]
  },
  {
   "cell_type": "code",
   "execution_count": 14,
   "id": "1508a0bc",
   "metadata": {},
   "outputs": [
    {
     "data": {
      "text/plain": [
       "<AxesSubplot: xlabel='2'>"
      ]
     },
     "execution_count": 14,
     "metadata": {},
     "output_type": "execute_result"
    },
    {
     "data": {
      "image/png": "[encoded data removed]",
      "text/plain": [
       "<Figure size 640x480 with 1 Axes>"
      ]
     },
     "metadata": {},
     "output_type": "display_data"
    }
   ],
   "source": [
    "filtered_cult[2].value_counts().plot.bar()\n",
    "#imbalanced data for training\n"
   ]
  },
  {
   "cell_type": "code",
   "execution_count": 15,
   "id": "b82f0d5a",
   "metadata": {},
   "outputs": [],
   "source": [
    "exclude = ['O']\n",
    "filtered_ner = df[~df[1].isin(exclude)]"
   ]
  },
  {
   "cell_type": "code",
   "execution_count": 16,
   "id": "ecdd3152",
   "metadata": {},
   "outputs": [
    {
     "data": {
      "text/plain": [
       "<AxesSubplot: xlabel='1'>"
      ]
     },
     "execution_count": 16,
     "metadata": {},
     "output_type": "execute_result"
    },
    {
     "data": {
      "image/png": "[encoded data removed]",
      "text/plain": [
       "<Figure size 640x480 with 1 Axes>"
      ]
     },
     "metadata": {},
     "output_type": "display_data"
    }
   ],
   "source": [
    "filtered_ner[1].value_counts().plot.bar()"
   ]
  },
  {
   "cell_type": "markdown",
   "id": "52da09ac",
   "metadata": {},
   "source": [
    "#### Data aligment"
   ]
  },
  {
   "cell_type": "code",
   "execution_count": 17,
   "id": "72583f90",
   "metadata": {},
   "outputs": [],
   "source": [
    "def parse_conllu(file_path):\n",
    "    \" This function create a usable dataset of the sparse .conllu file with the NER tags and cultural refferences\"\n",
    "    sentences = []\n",
    "    tags = []\n",
    "    cultural_references = []\n",
    "    \n",
    "    with open(file_path, \"r\",encoding=\"utf-8\") as file:\n",
    "        tokens = []\n",
    "        ner_tags = []\n",
    "        cultural_ref = []\n",
    "        \n",
    "        for line in file:\n",
    "            line = line.strip()\n",
    "                       \n",
    "            if not line:\n",
    "                if tokens:  \n",
    "                    sentences.append(tokens)\n",
    "                    tags.append(ner_tags)\n",
    "                    cultural_references.append(cultural_ref)\n",
    "              \n",
    "                tokens = []\n",
    "                ner_tags = []\n",
    "                cultural_ref = []\n",
    "                continue\n",
    "\n",
    "            parts = line.split(\"\\t\")\n",
    "            \n",
    "            if len(parts) >= 3:\n",
    "                token = parts[0]  \n",
    "                ner_tag = parts[1] \n",
    "                cultural_ref_val = parts[2]\n",
    "                \n",
    "                tokens.append(token)\n",
    "                ner_tags.append(ner_tag)\n",
    "                cultural_ref.append(cultural_ref_val)\n",
    "        \n",
    "       \n",
    "        if tokens:\n",
    "            sentences.append(tokens)\n",
    "            tags.append(ner_tags)\n",
    "            cultural_references.append(cultural_ref)\n",
    "    \n",
    "    return sentences, tags, cultural_references"
   ]
  },
  {
   "cell_type": "code",
   "execution_count": 18,
   "id": "38b9264c",
   "metadata": {},
   "outputs": [],
   "source": [
    "sentences, tags, cultural_refs = parse_conllu(cultural_train)\n",
    "train_data = [{\"tokens\": s, \"ner_tags\": t, \"cultural_ref\": c} for s, t, c in zip(sentences, tags, cultural_refs)]\n",
    "dataset_train = Dataset.from_list(train_data)"
   ]
  },
  {
   "cell_type": "code",
   "execution_count": 19,
   "id": "eb89cc85",
   "metadata": {},
   "outputs": [],
   "source": [
    "#load test data for later use:\n",
    "sentences_test, tags_test, cultural_refs_test = parse_conllu(cultural_test)\n",
    "test_data = [{\"tokens\": s, \"ner_tags\": t, \"cultural_ref\": c} for s, t, c in zip(sentences_test, tags_test, cultural_refs_test)]\n",
    "dataset_test = Dataset.from_list(test_data)"
   ]
  },
  {
   "cell_type": "code",
   "execution_count": 20,
   "id": "df64caa5",
   "metadata": {},
   "outputs": [],
   "source": [
    "dataset = dataset_train.train_test_split(test_size=0.1, seed=42)\n",
    "train_dataset = dataset[\"train\"]\n",
    "val_dataset = dataset[\"test\"]"
   ]
  },
  {
   "cell_type": "code",
   "execution_count": 21,
   "id": "aba4b1f9",
   "metadata": {},
   "outputs": [
    {
     "data": {
      "text/plain": [
       "Dataset({\n",
       "    features: ['tokens', 'ner_tags', 'cultural_ref'],\n",
       "    num_rows: 4803\n",
       "})"
      ]
     },
     "execution_count": 21,
     "metadata": {},
     "output_type": "execute_result"
    }
   ],
   "source": [
    "train_dataset"
   ]
  },
  {
   "cell_type": "code",
   "execution_count": 22,
   "id": "a2a4b475",
   "metadata": {},
   "outputs": [],
   "source": [
    "def tokenize_and_align_labels_with_cultural(example):\n",
    "    tokenized = tokenizer(\n",
    "        example['tokens'], \n",
    "        truncation=True, \n",
    "        padding=True,\n",
    "        is_split_into_words=True\n",
    "    )\n",
    "\n",
    "    labels = []\n",
    "    cultural_ref = []\n",
    "\n",
    "    for i, word in enumerate(example['tokens']):\n",
    "        if example['ner_tags'][i] != \"O\":\n",
    "            \n",
    "            labels.append(tag2id_ner.get(example['ner_tags'][i], -100))\n",
    "            \n",
    "            cultural_ref.append(tag2id_cultural.get(example['cultural_ref'][i], -100))\n",
    "        else:\n",
    "            labels.append(-100)\n",
    "            cultural_ref.append(-100)\n",
    "\n",
    "    tokenized['labels'] = labels\n",
    "    tokenized['cultural_ref'] = cultural_ref\n",
    "    return tokenized\n"
   ]
  },
  {
   "cell_type": "code",
   "execution_count": 23,
   "id": "cacadc6b",
   "metadata": {},
   "outputs": [
    {
     "name": "stderr",
     "output_type": "stream",
     "text": [
      "Map:   0%|          | 0/4803 [00:00<?, ? examples/s]"
     ]
    },
    {
     "name": "stderr",
     "output_type": "stream",
     "text": [
      "                                                                 \r"
     ]
    }
   ],
   "source": [
    "tokenized_cultural_train = train_dataset.map(tokenize_and_align_labels_with_cultural)\n",
    "tokenized_cultural_val = val_dataset.map(tokenize_and_align_labels_with_cultural)\n"
   ]
  },
  {
   "cell_type": "code",
   "execution_count": 24,
   "id": "bd16f1a2",
   "metadata": {},
   "outputs": [
    {
     "name": "stderr",
     "output_type": "stream",
     "text": [
      "Map:   0%|          | 0/2952 [00:00<?, ? examples/s]"
     ]
    },
    {
     "name": "stderr",
     "output_type": "stream",
     "text": [
      "                                                                 \r"
     ]
    }
   ],
   "source": [
    "tokenized_cultural_test = dataset_test.map(tokenize_and_align_labels_with_cultural)"
   ]
  },
  {
   "cell_type": "code",
   "execution_count": 25,
   "id": "d7736518",
   "metadata": {},
   "outputs": [
    {
     "name": "stdout",
     "output_type": "stream",
     "text": [
      "[0, 84415, 41537, 26, 7, 40960, 152, 45327, 6, 4, 23040, 6, 4, 87, 3444, 935, 14361, 6, 4, 87, 3444, 935, 14361, 6, 4, 242, 22304, 111, 450, 6957, 4998, 26, 19780, 20751, 6, 5, 45327, 6, 4, 23040, 6, 4, 87, 3444, 935, 14361, 6, 4, 87, 3444, 935, 14361, 6, 4, 242, 22304, 111, 450, 6957, 4998, 26, 19780, 20751, 2]\n",
      "[3, -100, -100, -100, -100, -100, -100, -100, -100, -100, -100, -100, -100, -100, -100, -100, -100, -100, -100, -100, -100, -100, -100, -100, -100, -100, -100, -100, -100, -100, -100, -100, -100, -100, -100, -100, -100, -100, -100, -100, -100, -100, -100, -100, -100, -100, -100, -100]\n"
     ]
    }
   ],
   "source": [
    "print(tokenized_cultural_train[7]['input_ids'])\n",
    "print(tokenized_cultural_train[7]['labels'])\n"
   ]
  },
  {
   "cell_type": "code",
   "execution_count": 26,
   "id": "d47d39c2",
   "metadata": {},
   "outputs": [],
   "source": [
    "# tokenized_cultural_train[7]"
   ]
  },
  {
   "cell_type": "code",
   "execution_count": 27,
   "id": "109a1138",
   "metadata": {},
   "outputs": [
    {
     "name": "stdout",
     "output_type": "stream",
     "text": [
      "[('<s>', 'IGN'), ('▁When', 'IGN'), ('▁I', 'IGN'), ('▁want', 'IGN'), ('▁you', 'IGN'), ('▁in', 'IGN'), ('▁my', 'IGN')]\n",
      "[('<s>', 'IGN'), ('▁I', 'IGN'), ('▁got', 'IGN'), ('▁the', 'IGN'), ('▁love', 'IGN'), ('▁bir', 'IGN'), ('ds', 'IGN'), ('▁chi', 'IGN'), ('r', 'IGN')]\n",
      "[('<s>', 'IGN'), ('▁Cuando', 'IGN'), ('▁te', 'IGN'), ('▁lo', 'IGN'), ('▁qui', 'IGN'), ('to', 'IGN'), ('▁des', 'IGN'), ('pu', 'IGN')]\n"
     ]
    }
   ],
   "source": [
    "for i in range(3):\n",
    "    tokens = tokenizer.convert_ids_to_tokens(tokenized_cultural_train[i]['input_ids'])\n",
    "    labels = [id2tag_cultural.get(id, \"IGN\") for id in tokenized_cultural_train[i]['labels']]\n",
    "    print(list(zip(tokens, labels)))"
   ]
  },
  {
   "cell_type": "markdown",
   "id": "f8368810",
   "metadata": {},
   "source": [
    "#### Model set up"
   ]
  },
  {
   "cell_type": "code",
   "execution_count": 28,
   "id": "b0b60dec",
   "metadata": {},
   "outputs": [],
   "source": [
    "data_collator = DataCollatorForTokenClassification(tokenizer)"
   ]
  },
  {
   "cell_type": "code",
   "execution_count": 29,
   "id": "1f379f7d",
   "metadata": {},
   "outputs": [],
   "source": [
    "def compute_metrics(p):\n",
    "    predictions, labels = p\n",
    "    predictions = np.argmax(predictions, axis=2)\n",
    "\n",
    "    true_predictions = [\n",
    "        [id2tag_cultural[p] for (p, l) in zip(pred, label) if l != -100]\n",
    "        for pred, label in zip(predictions, labels)\n",
    "    ]\n",
    "    true_labels = [\n",
    "        [id2tag_cultural[l] for (p, l) in zip(pred, label) if l != -100]\n",
    "        for pred, label in zip(predictions, labels)\n",
    "    ]\n",
    "\n",
    "    return {\n",
    "        \"precision\": precision_score(true_labels, true_predictions),\n",
    "        \"recall\": recall_score(true_labels, true_predictions),\n",
    "        \"f1\": f1_score(true_labels, true_predictions),\n",
    "    }"
   ]
  },
  {
   "cell_type": "markdown",
   "id": "4fef72b5",
   "metadata": {},
   "source": [
    "##### Model version 1"
   ]
  },
  {
   "cell_type": "code",
   "execution_count": 30,
   "id": "783380cf",
   "metadata": {},
   "outputs": [],
   "source": [
    "#addign class weights\n",
    "all_labels = [\n",
    "    label for seq in tokenized_cultural_train['labels']\n",
    "    for label in seq if label != -100]\n",
    "\n",
    "train_labels_present = np.unique(all_labels)\n",
    "\n",
    "class_weights_raw = compute_class_weight(class_weight=\"balanced\", classes=train_labels_present, y=all_labels)\n",
    "\n",
    "full_class_weights = torch.ones(len(id2tag_cultural), dtype=torch.float)\n",
    "\n",
    "# Add all class weights, as some of them are not present in the training set\n",
    "for i, label in enumerate(train_labels_present):\n",
    "    full_class_weights[label] = class_weights_raw[i]\n"
   ]
  },
  {
   "cell_type": "markdown",
   "id": "6507ff07",
   "metadata": {},
   "source": [
    "##### Model 1."
   ]
  },
  {
   "cell_type": "code",
   "execution_count": 31,
   "id": "fb72e7c3",
   "metadata": {},
   "outputs": [],
   "source": [
    "# culture_model = XLMRCultureClassifier(num_labels_culture,class_weights=full_class_weights)\n",
    "# optimizer = AdamW(culture_model.parameters(), lr=5e-5)"
   ]
  },
  {
   "cell_type": "code",
   "execution_count": 32,
   "id": "7cb9aecc",
   "metadata": {},
   "outputs": [],
   "source": [
    "# #cult model 1\n",
    "# training_args = TrainingArguments(\n",
    "#     output_dir=\"./xlmr-cultural-model\",\n",
    "#     save_strategy=\"steps\",\n",
    "#     save_steps=50,\n",
    "#     evaluation_strategy=\"steps\",\n",
    "#     eval_steps=25,\n",
    "#     load_best_model_at_end=True,\n",
    "#     metric_for_best_model=\"eval_loss\",\n",
    "#     greater_is_better=False,\n",
    "#     logging_dir=\"./logs\",\n",
    "#     logging_steps=10,\n",
    "#     learning_rate=3e-5,\n",
    "#     per_device_train_batch_size=64,\n",
    "#     per_device_eval_batch_size=64,\n",
    "#     num_train_epochs=10,\n",
    "#     weight_decay=0.01,\n",
    "#     max_grad_norm=1.0,\n",
    "#     save_total_limit=2,\n",
    "#     remove_unused_columns=True,\n",
    "#     fp16=False,\n",
    "# )\n",
    "\n",
    "# trainer = Trainer(\n",
    "#     model=culture_model,\n",
    "#     args=training_args,\n",
    "#     train_dataset=tokenized_cultural_train,\n",
    "#     eval_dataset=tokenized_cultural_val,\n",
    "#     tokenizer=tokenizer,\n",
    "#     compute_metrics=compute_metrics,\n",
    "#     data_collator=data_collator,\n",
    "#     callbacks=[EarlyStoppingCallback(early_stopping_patience=3)],\n",
    "# )\n"
   ]
  },
  {
   "cell_type": "markdown",
   "id": "7f9cd2e5",
   "metadata": {},
   "source": [
    "##### Model version 2"
   ]
  },
  {
   "cell_type": "code",
   "execution_count": 33,
   "id": "b6070c62",
   "metadata": {},
   "outputs": [],
   "source": [
    "# culture_model_2 = XLMRCultureClassifier_2(num_labels_culture,class_weights=full_class_weights)\n",
    "# optimizer = AdamW(culture_model_2.parameters(), lr=5e-5)"
   ]
  },
  {
   "cell_type": "code",
   "execution_count": 34,
   "id": "594ddc47",
   "metadata": {},
   "outputs": [],
   "source": [
    "# #Alternative classifier\n",
    "# training_args_2 = TrainingArguments(\n",
    "#     output_dir=\"./xlmr-cultural-model_2\",\n",
    "#     save_strategy=\"steps\",\n",
    "#     save_steps=50,\n",
    "#     evaluation_strategy=\"steps\",\n",
    "#     eval_steps=25,\n",
    "#     load_best_model_at_end=True,\n",
    "#     metric_for_best_model=\"eval_loss\",\n",
    "#     greater_is_better=False,\n",
    "#     logging_dir=\"./logs\",\n",
    "#     logging_steps=10,\n",
    "#     learning_rate=3e-5,\n",
    "#     per_device_train_batch_size=64,\n",
    "#     per_device_eval_batch_size=64,\n",
    "#     num_train_epochs=10,\n",
    "#     weight_decay=0.01,\n",
    "#     max_grad_norm=1.0,\n",
    "#     save_total_limit=2,\n",
    "#     remove_unused_columns=True,\n",
    "#     fp16=False,\n",
    "# )\n",
    "\n",
    "# trainer_2 = Trainer(\n",
    "#     model=culture_model_2,\n",
    "#     args=training_args_2,\n",
    "#     train_dataset=tokenized_cultural_train,\n",
    "#     eval_dataset=tokenized_cultural_val,\n",
    "#     tokenizer=tokenizer,\n",
    "#     compute_metrics=compute_metrics,\n",
    "#     data_collator=data_collator,\n",
    "#     callbacks=[EarlyStoppingCallback(early_stopping_patience=3)],)"
   ]
  },
  {
   "cell_type": "markdown",
   "id": "ce0f3258",
   "metadata": {},
   "source": [
    "##### Final model (ver3.)"
   ]
  },
  {
   "cell_type": "code",
   "execution_count": 35,
   "id": "ac77259e",
   "metadata": {},
   "outputs": [
    {
     "name": "stderr",
     "output_type": "stream",
     "text": [
      "Some weights of the model checkpoint at xlm-roberta-base were not used when initializing XLMRobertaForTokenClassification: ['lm_head.bias', 'lm_head.layer_norm.weight', 'lm_head.layer_norm.bias', 'lm_head.dense.weight', 'lm_head.dense.bias']\n",
      "- This IS expected if you are initializing XLMRobertaForTokenClassification from the checkpoint of a model trained on another task or with another architecture (e.g. initializing a BertForSequenceClassification model from a BertForPreTraining model).\n",
      "- This IS NOT expected if you are initializing XLMRobertaForTokenClassification from the checkpoint of a model that you expect to be exactly identical (initializing a BertForSequenceClassification model from a BertForSequenceClassification model).\n",
      "Some weights of XLMRobertaForTokenClassification were not initialized from the model checkpoint at xlm-roberta-base and are newly initialized: ['classifier.bias', 'classifier.weight']\n",
      "You should probably TRAIN this model on a down-stream task to be able to use it for predictions and inference.\n"
     ]
    }
   ],
   "source": [
    "model_funziez = XLMRobertaForTokenClassification.from_pretrained(\n",
    "    \"xlm-roberta-base\",\n",
    "    num_labels=num_labels_culture,\n",
    "    id2label=id2tag_cultural,\n",
    "    label2id=tag2id_cultural)\n",
    "\n",
    "optimizer = AdamW(model_funziez.parameters(), lr=5e-5)"
   ]
  },
  {
   "cell_type": "code",
   "execution_count": 36,
   "id": "804ea887",
   "metadata": {},
   "outputs": [],
   "source": [
    "training_args_fun = TrainingArguments(\n",
    "    output_dir=\"./xlmr-cultural-funziez\",\n",
    "    save_strategy=\"steps\",\n",
    "    save_steps=100,\n",
    "    evaluation_strategy=\"steps\",\n",
    "    eval_steps=50,\n",
    "    load_best_model_at_end=True,\n",
    "    metric_for_best_model=\"eval_loss\",\n",
    "    greater_is_better=False,\n",
    "    logging_dir=\"./logs\",\n",
    "    logging_steps=100,\n",
    "    learning_rate=3e-5,\n",
    "    per_device_train_batch_size=64,\n",
    "    per_device_eval_batch_size=64,\n",
    "    num_train_epochs=5,\n",
    "    weight_decay=0.01,\n",
    "    max_grad_norm=1.0,\n",
    "    save_total_limit=2,\n",
    "    remove_unused_columns=True,\n",
    "    fp16=False,\n",
    ")\n",
    "\n",
    "trainer_fun = Trainer(\n",
    "    model=model_funziez,\n",
    "    args=training_args_fun,\n",
    "    train_dataset=tokenized_cultural_train,\n",
    "    eval_dataset=tokenized_cultural_val,\n",
    "    tokenizer=tokenizer,\n",
    "    compute_metrics=compute_metrics,\n",
    "    data_collator=data_collator,\n",
    "    callbacks=[EarlyStoppingCallback(early_stopping_patience=3)],)"
   ]
  },
  {
   "cell_type": "markdown",
   "id": "5953b56e",
   "metadata": {},
   "source": [
    "##### Model training and evaluation"
   ]
  },
  {
   "cell_type": "markdown",
   "id": "5e56d4f5",
   "metadata": {},
   "source": [
    "##### 1."
   ]
  },
  {
   "cell_type": "code",
   "execution_count": 37,
   "id": "dcfa50a8",
   "metadata": {},
   "outputs": [],
   "source": [
    "# trainer.train()"
   ]
  },
  {
   "cell_type": "code",
   "execution_count": 38,
   "id": "ab6846a0",
   "metadata": {},
   "outputs": [],
   "source": [
    "# # # model 1\n",
    "# outputs = trainer.predict(tokenized_cultural_test)\n",
    "\n",
    "# preds = np.argmax(outputs.predictions, axis=2)\n",
    "# labels = outputs.label_ids"
   ]
  },
  {
   "cell_type": "code",
   "execution_count": 39,
   "id": "34b80793",
   "metadata": {},
   "outputs": [],
   "source": [
    "# eval_results = trainer.evaluate()\n",
    "\n",
    "# print(eval_results)"
   ]
  },
  {
   "cell_type": "code",
   "execution_count": 40,
   "id": "18abae1b",
   "metadata": {},
   "outputs": [],
   "source": [
    "# trainer.evaluate(tokenized_cultural_test)"
   ]
  },
  {
   "cell_type": "markdown",
   "id": "d1dd9df9",
   "metadata": {},
   "source": [
    "##### 2."
   ]
  },
  {
   "cell_type": "code",
   "execution_count": 41,
   "id": "7fcd036e",
   "metadata": {},
   "outputs": [],
   "source": [
    "# trainer_2.train()"
   ]
  },
  {
   "cell_type": "code",
   "execution_count": 42,
   "id": "d14af159",
   "metadata": {},
   "outputs": [],
   "source": [
    "# #model 2\n",
    "# outputs_2 = trainer_2.predict(tokenized_cultural_test)\n",
    "\n",
    "# preds_2 = np.argmax(outputs_2.predictions, axis=2)\n",
    "# labels_2 = outputs_2.label_ids"
   ]
  },
  {
   "cell_type": "code",
   "execution_count": 43,
   "id": "359acc76",
   "metadata": {},
   "outputs": [],
   "source": [
    "# eval_results_2 = trainer_2.evaluate()\n",
    "\n",
    "# print(eval_results_2)"
   ]
  },
  {
   "cell_type": "code",
   "execution_count": 44,
   "id": "1d12d058",
   "metadata": {},
   "outputs": [],
   "source": [
    "# trainer_2.evaluate(tokenized_cultural_test)"
   ]
  },
  {
   "cell_type": "markdown",
   "id": "8cc41ff4",
   "metadata": {},
   "source": [
    "##### 3."
   ]
  },
  {
   "cell_type": "code",
   "execution_count": 45,
   "id": "1445ec73",
   "metadata": {},
   "outputs": [
    {
     "name": "stderr",
     "output_type": "stream",
     "text": [
      "  0%|          | 0/380 [00:00<?, ?it/s]You're using a XLMRobertaTokenizerFast tokenizer. Please note that with a fast tokenizer, using the `__call__` method is faster than using a method to encode the text followed by a call to the `pad` method to get a padded encoding.\n",
      "                                                 \n",
      " 13%|█▎        | 50/380 [06:32<52:05,  9.47s/it]"
     ]
    },
    {
     "name": "stdout",
     "output_type": "stream",
     "text": [
      "{'eval_loss': 1.870858073234558, 'eval_precision': 0.324468085106383, 'eval_recall': 0.324468085106383, 'eval_f1': 0.324468085106383, 'eval_runtime': 12.9829, 'eval_samples_per_second': 41.131, 'eval_steps_per_second': 0.693, 'epoch': 0.66}\n"
     ]
    },
    {
     "name": "stderr",
     "output_type": "stream",
     "text": [
      " 26%|██▋       | 100/380 [13:20<1:04:15, 13.77s/it]"
     ]
    },
    {
     "name": "stdout",
     "output_type": "stream",
     "text": [
      "{'loss': 1.8124, 'learning_rate': 2.2105263157894736e-05, 'epoch': 1.32}\n"
     ]
    },
    {
     "name": "stderr",
     "output_type": "stream",
     "text": [
      "                                                   \n",
      " 26%|██▋       | 100/380 [13:33<1:04:15, 13.77s/it]"
     ]
    },
    {
     "name": "stdout",
     "output_type": "stream",
     "text": [
      "{'eval_loss': 1.5823993682861328, 'eval_precision': 0.3879781420765027, 'eval_recall': 0.3776595744680851, 'eval_f1': 0.3827493261455526, 'eval_runtime': 13.2138, 'eval_samples_per_second': 40.412, 'eval_steps_per_second': 0.681, 'epoch': 1.32}\n"
     ]
    },
    {
     "name": "stderr",
     "output_type": "stream",
     "text": [
      "                                                   \n",
      " 39%|███▉      | 150/380 [20:10<30:44,  8.02s/it]"
     ]
    },
    {
     "name": "stdout",
     "output_type": "stream",
     "text": [
      "{'eval_loss': 1.3624930381774902, 'eval_precision': 0.5089820359281437, 'eval_recall': 0.4521276595744681, 'eval_f1': 0.47887323943661975, 'eval_runtime': 13.3088, 'eval_samples_per_second': 40.124, 'eval_steps_per_second': 0.676, 'epoch': 1.97}\n"
     ]
    },
    {
     "name": "stderr",
     "output_type": "stream",
     "text": [
      " 53%|█████▎    | 200/380 [26:38<26:17,  8.77s/it]"
     ]
    },
    {
     "name": "stdout",
     "output_type": "stream",
     "text": [
      "{'loss': 1.2372, 'learning_rate': 1.4210526315789473e-05, 'epoch': 2.63}\n"
     ]
    },
    {
     "name": "stderr",
     "output_type": "stream",
     "text": [
      "                                                 \n",
      " 53%|█████▎    | 200/380 [26:52<26:17,  8.77s/it]"
     ]
    },
    {
     "name": "stdout",
     "output_type": "stream",
     "text": [
      "{'eval_loss': 1.2286182641983032, 'eval_precision': 0.5329341317365269, 'eval_recall': 0.4734042553191489, 'eval_f1': 0.5014084507042254, 'eval_runtime': 13.3192, 'eval_samples_per_second': 40.093, 'eval_steps_per_second': 0.676, 'epoch': 2.63}\n"
     ]
    },
    {
     "name": "stderr",
     "output_type": "stream",
     "text": [
      "                                                 \n",
      " 66%|██████▌   | 250/380 [33:40<19:51,  9.16s/it]"
     ]
    },
    {
     "name": "stdout",
     "output_type": "stream",
     "text": [
      "{'eval_loss': 1.1771070957183838, 'eval_precision': 0.5952380952380952, 'eval_recall': 0.5319148936170213, 'eval_f1': 0.5617977528089887, 'eval_runtime': 13.2056, 'eval_samples_per_second': 40.437, 'eval_steps_per_second': 0.682, 'epoch': 3.29}\n"
     ]
    },
    {
     "name": "stderr",
     "output_type": "stream",
     "text": [
      " 79%|███████▉  | 300/380 [39:48<10:15,  7.70s/it]"
     ]
    },
    {
     "name": "stdout",
     "output_type": "stream",
     "text": [
      "{'loss': 0.908, 'learning_rate': 6.31578947368421e-06, 'epoch': 3.95}\n"
     ]
    },
    {
     "name": "stderr",
     "output_type": "stream",
     "text": [
      "                                                 \n",
      " 79%|███████▉  | 300/380 [40:01<10:15,  7.70s/it]"
     ]
    },
    {
     "name": "stdout",
     "output_type": "stream",
     "text": [
      "{'eval_loss': 1.0896555185317993, 'eval_precision': 0.6568047337278107, 'eval_recall': 0.5904255319148937, 'eval_f1': 0.6218487394957983, 'eval_runtime': 13.3503, 'eval_samples_per_second': 39.999, 'eval_steps_per_second': 0.674, 'epoch': 3.95}\n"
     ]
    },
    {
     "name": "stderr",
     "output_type": "stream",
     "text": [
      "                                                 \n",
      " 92%|█████████▏| 350/380 [46:51<03:51,  7.72s/it]"
     ]
    },
    {
     "name": "stdout",
     "output_type": "stream",
     "text": [
      "{'eval_loss': 1.0558536052703857, 'eval_precision': 0.6666666666666666, 'eval_recall': 0.5851063829787234, 'eval_f1': 0.623229461756374, 'eval_runtime': 13.8507, 'eval_samples_per_second': 38.554, 'eval_steps_per_second': 0.65, 'epoch': 4.61}\n"
     ]
    },
    {
     "name": "stderr",
     "output_type": "stream",
     "text": [
      "100%|██████████| 380/380 [50:21<00:00,  7.95s/it]"
     ]
    },
    {
     "name": "stdout",
     "output_type": "stream",
     "text": [
      "{'train_runtime': 3021.1845, 'train_samples_per_second': 7.949, 'train_steps_per_second': 0.126, 'train_loss': 1.196218450445878, 'epoch': 5.0}\n"
     ]
    },
    {
     "name": "stderr",
     "output_type": "stream",
     "text": [
      "\n"
     ]
    },
    {
     "data": {
      "text/plain": [
       "TrainOutput(global_step=380, training_loss=1.196218450445878, metrics={'train_runtime': 3021.1845, 'train_samples_per_second': 7.949, 'train_steps_per_second': 0.126, 'train_loss': 1.196218450445878, 'epoch': 5.0})"
      ]
     },
     "execution_count": 45,
     "metadata": {},
     "output_type": "execute_result"
    }
   ],
   "source": [
    "trainer_fun.train()"
   ]
  },
  {
   "cell_type": "code",
   "execution_count": 46,
   "id": "2cc01dab",
   "metadata": {},
   "outputs": [
    {
     "name": "stderr",
     "output_type": "stream",
     "text": [
      "100%|██████████| 47/47 [01:02<00:00,  1.33s/it]\n"
     ]
    }
   ],
   "source": [
    "# model funziez\n",
    "outputs_fun = trainer_fun.predict(tokenized_cultural_test)\n",
    "\n",
    "preds_fun = np.argmax(outputs_fun.predictions, axis=2)\n",
    "labels_fun = outputs_fun.label_ids"
   ]
  },
  {
   "cell_type": "code",
   "execution_count": 47,
   "id": "2f881381",
   "metadata": {},
   "outputs": [
    {
     "name": "stderr",
     "output_type": "stream",
     "text": [
      "100%|██████████| 9/9 [00:10<00:00,  1.21s/it]"
     ]
    },
    {
     "name": "stdout",
     "output_type": "stream",
     "text": [
      "{'eval_loss': 1.0896555185317993, 'eval_precision': 0.6568047337278107, 'eval_recall': 0.5904255319148937, 'eval_f1': 0.6218487394957983, 'eval_runtime': 12.7899, 'eval_samples_per_second': 41.752, 'eval_steps_per_second': 0.704, 'epoch': 5.0}\n"
     ]
    },
    {
     "name": "stderr",
     "output_type": "stream",
     "text": [
      "\n"
     ]
    }
   ],
   "source": [
    "eval_results_fun = trainer_fun.evaluate()\n",
    "\n",
    "print(eval_results_fun)"
   ]
  },
  {
   "cell_type": "code",
   "execution_count": 56,
   "id": "52168276",
   "metadata": {},
   "outputs": [
    {
     "name": "stderr",
     "output_type": "stream",
     "text": [
      "100%|██████████| 47/47 [01:11<00:00,  1.52s/it]\n"
     ]
    },
    {
     "data": {
      "text/plain": [
       "{'eval_loss': nan,\n",
       " 'eval_precision': 0.45953360768175583,\n",
       " 'eval_recall': 0.432258064516129,\n",
       " 'eval_f1': 0.4454787234042553,\n",
       " 'eval_runtime': 73.3158,\n",
       " 'eval_samples_per_second': 40.264,\n",
       " 'eval_steps_per_second': 0.641,\n",
       " 'epoch': 5.0}"
      ]
     },
     "execution_count": 56,
     "metadata": {},
     "output_type": "execute_result"
    }
   ],
   "source": [
    "trainer_fun.evaluate(tokenized_cultural_test)"
   ]
  },
  {
   "cell_type": "markdown",
   "id": "ece3e6f3",
   "metadata": {},
   "source": [
    "#### Training loss and learning rate"
   ]
  },
  {
   "cell_type": "markdown",
   "id": "943bec8e",
   "metadata": {},
   "source": [
    "##### 1."
   ]
  },
  {
   "cell_type": "code",
   "execution_count": 49,
   "id": "9d39191d",
   "metadata": {},
   "outputs": [],
   "source": [
    "# #add path for model's LATEST checkpoint trainer_state.json\n",
    "# trainer_state_path = \"xlmr-cultural-model/checkpoint-300/trainer_state.json\""
   ]
  },
  {
   "cell_type": "code",
   "execution_count": 50,
   "id": "e1044474",
   "metadata": {},
   "outputs": [],
   "source": [
    "# trainer_state_path_2 = \"xlmr-cultural-model_2/checkpoint-350/trainer_state.json\""
   ]
  },
  {
   "cell_type": "code",
   "execution_count": 51,
   "id": "214eeb81",
   "metadata": {},
   "outputs": [],
   "source": [
    "def plot_training_logs(logs):\n",
    "\n",
    "    steps = [log[\"step\"] for log in logs if \"loss\" in log]\n",
    "    train_loss = [log[\"loss\"] for log in logs if \"loss\" in log]\n",
    "    lr = [log[\"learning_rate\"] for log in logs if \"loss\" in log]\n",
    "\n",
    "    fig, axs = plt.subplots(2, 1, figsize=(10, 8), sharex=True)\n",
    "\n",
    "    axs[0].plot(steps, train_loss, color='blue', label='Training Loss')\n",
    "    axs[0].set_ylabel(\"Loss\")\n",
    "    axs[0].legend()\n",
    "    axs[0].grid(True)\n",
    "\n",
    "    axs[1].plot(steps, lr, color='green', linestyle='--', label='Learning Rate')\n",
    "    axs[1].set_xlabel(\"Step\")\n",
    "    axs[1].set_ylabel(\"LR\")\n",
    "    axs[1].legend()\n",
    "    axs[1].grid(True)\n",
    "\n",
    "    plt.tight_layout()\n",
    "    plt.show()"
   ]
  },
  {
   "cell_type": "code",
   "execution_count": 52,
   "id": "5235afbf",
   "metadata": {},
   "outputs": [],
   "source": [
    "# with open(trainer_state_path, \"r\") as f:\n",
    "#     state = json.load(f)\n",
    "\n",
    "# # Pass only the log history to the plotting function\n",
    "# plot_training_logs(state[\"log_history\"])\n",
    "# # "
   ]
  },
  {
   "cell_type": "markdown",
   "id": "82d746ba",
   "metadata": {},
   "source": [
    "##### 2. "
   ]
  },
  {
   "cell_type": "code",
   "execution_count": 53,
   "id": "f1eff61c",
   "metadata": {},
   "outputs": [],
   "source": [
    "# with open(trainer_state_path_2, \"r\") as f:\n",
    "#     state_2 = json.load(f)\n",
    "\n",
    "# # Pass only the log history to the plotting function\n",
    "# plot_training_logs(state_2[\"log_history\"])\n"
   ]
  },
  {
   "cell_type": "markdown",
   "id": "57856f66",
   "metadata": {},
   "source": [
    "##### 3."
   ]
  },
  {
   "cell_type": "code",
   "execution_count": 57,
   "id": "237a0290",
   "metadata": {},
   "outputs": [],
   "source": [
    "trainer_state_path_3 = \"xlmr-cultural-funziez/checkpoint-300/trainer_state.json\""
   ]
  },
  {
   "cell_type": "code",
   "execution_count": 58,
   "id": "b4bba4cb",
   "metadata": {},
   "outputs": [
    {
     "data": {
      "image/png": "[encoded data removed]",
      "text/plain": [
       "<Figure size 1000x800 with 2 Axes>"
      ]
     },
     "metadata": {},
     "output_type": "display_data"
    }
   ],
   "source": [
    "with open(trainer_state_path_3, \"r\") as f:\n",
    "    state_2 = json.load(f)\n",
    "\n",
    "# Pass only the log history to the plotting function\n",
    "plot_training_logs(state_2[\"log_history\"])\n"
   ]
  },
  {
   "cell_type": "markdown",
   "id": "1c424e77",
   "metadata": {},
   "source": [
    "#### Confusion matrix"
   ]
  },
  {
   "cell_type": "markdown",
   "id": "60811af1",
   "metadata": {},
   "source": [
    "##### 1."
   ]
  },
  {
   "cell_type": "code",
   "execution_count": null,
   "id": "3ce35a9e",
   "metadata": {},
   "outputs": [
    {
     "data": {
      "image/png": "[encoded data removed]",
      "text/plain": [
       "<Figure size 640x480 with 2 Axes>"
      ]
     },
     "metadata": {},
     "output_type": "display_data"
    }
   ],
   "source": [
    "# filtered = [(p, l) for pred, label in zip(preds_2, labels_2) for p, l in zip(pred, label) if l != -100]\n",
    "# pred_labels, true_labels = zip(*filtered)\n",
    "# pred_labels = list(pred_labels)\n",
    "# true_labels = list(true_labels)\n",
    "\n",
    "\n",
    "# # Confusion Matrix Calculation\n",
    "# cm = confusion_matrix(true_labels, pred_labels, labels=list(range(len(id2tag_cultural))))\n",
    "\n",
    "# # Mapping labels\n",
    "# all_labels = list(id2tag_cultural.values())\n",
    "\n",
    "# # Plotting the confusion matrix\n",
    "# disp = ConfusionMatrixDisplay(confusion_matrix=cm, display_labels=all_labels)\n",
    "# disp.plot(cmap=\"Blues\")\n",
    "# plt.title(\"Confusion Matrix - Token Classification\")\n",
    "# plt.xticks(fontsize=8, rotation=90)\n",
    "# plt.yticks(fontsize=8)\n",
    "# plt.show()"
   ]
  },
  {
   "cell_type": "markdown",
   "id": "1c28f88c",
   "metadata": {},
   "source": [
    "##### 2."
   ]
  },
  {
   "cell_type": "code",
   "execution_count": null,
   "id": "8190c33e",
   "metadata": {},
   "outputs": [
    {
     "data": {
      "image/png": "[encoded data removed]",
      "text/plain": [
       "<Figure size 640x480 with 2 Axes>"
      ]
     },
     "metadata": {},
     "output_type": "display_data"
    }
   ],
   "source": [
    "# # Use list comprehension for better performance\n",
    "# true_labels = [l for pred, label in zip(preds, labels) for p, l in zip(pred, label) if l != -100]\n",
    "# pred_labels = [p for pred, label in zip(preds, labels) for p, l in zip(pred, label) if l != -100]\n",
    "\n",
    "# # Confusion Matrix Calculation\n",
    "# cm = confusion_matrix(true_labels, pred_labels, labels=list(range(len(id2tag_cultural))))\n",
    "\n",
    "# # Mapping labels\n",
    "# all_labels = list(id2tag_cultural.values())\n",
    "\n",
    "# # Plotting the confusion matrix\n",
    "# disp = ConfusionMatrixDisplay(confusion_matrix=cm, display_labels=all_labels)\n",
    "# disp.plot(cmap=\"Blues\")\n",
    "# plt.title(\"Confusion Matrix - Token Classification\")\n",
    "# plt.xticks(fontsize=8, rotation=90)\n",
    "# plt.yticks(fontsize=8)\n",
    "# plt.show()"
   ]
  },
  {
   "cell_type": "markdown",
   "id": "01831827",
   "metadata": {},
   "source": [
    "##### 3. "
   ]
  },
  {
   "cell_type": "code",
   "execution_count": 59,
   "id": "60be62b7",
   "metadata": {},
   "outputs": [
    {
     "data": {
      "image/png": "[encoded data removed]",
      "text/plain": [
       "<Figure size 640x480 with 2 Axes>"
      ]
     },
     "metadata": {},
     "output_type": "display_data"
    }
   ],
   "source": [
    "# Use list comprehension for better performance\n",
    "true_labels = [l for pred, label in zip(preds_fun, labels_fun) for p, l in zip(pred, label) if l != -100]\n",
    "pred_labels = [p for pred, label in zip(preds_fun, labels_fun) for p, l in zip(pred, label) if l != -100]\n",
    "\n",
    "# Confusion Matrix Calculation\n",
    "cm = confusion_matrix(true_labels, pred_labels, labels=list(range(len(id2tag_cultural))))\n",
    "\n",
    "# Mapping labels\n",
    "all_labels = list(id2tag_cultural.values())\n",
    "\n",
    "# Plotting the confusion matrix\n",
    "disp = ConfusionMatrixDisplay(confusion_matrix=cm, display_labels=all_labels)\n",
    "disp.plot(cmap=\"Blues\")\n",
    "plt.title(\"Confusion Matrix - Token Classification\")\n",
    "plt.xticks(fontsize=8, rotation=90)\n",
    "plt.yticks(fontsize=8)\n",
    "plt.show()"
   ]
  }
 ],
 "metadata": {
  "kernelspec": {
   "display_name": ".venv",
   "language": "python",
   "name": "python3"
  },
  "language_info": {
   "codemirror_mode": {
    "name": "ipython",
    "version": 3
   },
   "file_extension": ".py",
   "mimetype": "text/x-python",
   "name": "python",
   "nbconvert_exporter": "python",
   "pygments_lexer": "ipython3",
   "version": "3.10.11"
  }
 },
 "nbformat": 4,
 "nbformat_minor": 5
}
