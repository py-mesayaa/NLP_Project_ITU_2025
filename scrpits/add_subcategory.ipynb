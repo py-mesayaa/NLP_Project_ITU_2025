{
 "cells": [
  {
   "cell_type": "code",
   "execution_count": 1,
   "id": "cac6a6af",
   "metadata": {},
   "outputs": [],
   "source": [
    "inputFile = \"./NER_annotated/inter_anns_asap_ner.conll\"\n",
    "outputFile = \"./fully_annotated/simon_inter_anns_full.conll\""
   ]
  },
  {
   "cell_type": "code",
   "execution_count": 2,
   "id": "c64ed06b",
   "metadata": {},
   "outputs": [],
   "source": [
    "with open(inputFile, \"r\") as inF: \n",
    "    lines = inF.readlines()\n",
    "\n",
    "with open(outputFile, \"w\") as outF:\n",
    "    knownSubcategories = {}\n",
    "\n",
    "    for line in lines:\n",
    "        components = line.strip().split()\n",
    "\n",
    "        if len(components) == 0:\n",
    "            outF.write(line)\n",
    "        elif components[0] == \"#\": \n",
    "            continue \n",
    "        elif components[1] == \"O\":\n",
    "            line = line.strip() + \"\\t-\\n\"\n",
    "            outF.write(line)\n",
    "        else: \n",
    "            if components[0] in knownSubcategories.keys():\n",
    "                line = line.strip() + f\"\\t{knownSubcategories[components[0]]}\\n\"\n",
    "            else: \n",
    "                subcategory = str(input(f\"\"\"Type a subcategory for [{components[0]}] among the following: African, \n",
    "                                        Eastern Asian, European, Latin, Middle Asian, Middle Eastern, North American,\n",
    "                                        Non-cultural, Oceanian\"\"\"))\n",
    "                \n",
    "                knownSubcategories[components[0]] = subcategory\n",
    "\n",
    "                line = line.strip() + f\"\\t{subcategory}\\n\"\n",
    "\n",
    "            outF.write(line)"
   ]
  }
 ],
 "metadata": {
  "kernelspec": {
   "display_name": "itu-wsl",
   "language": "python",
   "name": "python3"
  },
  "language_info": {
   "codemirror_mode": {
    "name": "ipython",
    "version": 3
   },
   "file_extension": ".py",
   "mimetype": "text/x-python",
   "name": "python",
   "nbconvert_exporter": "python",
   "pygments_lexer": "ipython3",
   "version": "3.10.12"
  }
 },
 "nbformat": 4,
 "nbformat_minor": 5
}
