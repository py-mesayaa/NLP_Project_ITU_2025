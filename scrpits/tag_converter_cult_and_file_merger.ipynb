{
 "cells": [
  {
   "cell_type": "code",
   "execution_count": 1,
   "id": "095dbd67",
   "metadata": {},
   "outputs": [],
   "source": [
    "import json\n",
    "import os\n",
    "import glob"
   ]
  },
  {
   "cell_type": "markdown",
   "id": "4ae7f8eb",
   "metadata": {},
   "source": [
    "This notebook contains all the data preprcessing functions we used"
   ]
  },
  {
   "cell_type": "code",
   "execution_count": 11,
   "id": "6359f566",
   "metadata": {},
   "outputs": [],
   "source": [
    "#file paths\n",
    "ewt_path = \"just_train/ewt.conll\""
   ]
  },
  {
   "cell_type": "markdown",
   "id": "05c097d1",
   "metadata": {},
   "source": [
    "Tag json file creaters"
   ]
  },
  {
   "cell_type": "code",
   "execution_count": null,
   "id": "2901f54a",
   "metadata": {},
   "outputs": [],
   "source": [
    "cultural_tags = sorted([\n",
    "    \"-\", \"African\", \"North American\", \"Eastern Asian\", \"European\", \n",
    "    \"Latin\", \"Middle Asian\", \"Middle Eastern\", \"Oceanian\", \"Non cultural\"\n",
    "])\n",
    "#i'm not sure if tag \"-\" is needed or not\n",
    " \n",
    "cultural_json = [{\"id\": idx, \"tag\": tag} for idx, tag in enumerate(cultural_tags)]\n",
    "\n",
    "json_data = json.dumps(cultural_json, indent=4)\n",
    "\n",
    "with open(\"cultural_tags.json\", \"w\") as f:\n",
    "    f.write(json_data)\n"
   ]
  },
  {
   "cell_type": "code",
   "execution_count": 3,
   "id": "2f8cc1dd",
   "metadata": {},
   "outputs": [],
   "source": [
    "ner_tags = [\"B-LOC\",\"B-MISC\", \"B-ORG\",\"B-PER\", \"I-LOC\",\"I-MISC\", \"I-ORG\", \"I-PER\", \"O\"]\n",
    "#i'm not sure if tag \"O\" is needed or not\n",
    "ner_json = [{\"id\": idx, \"tag\": tag} for idx, tag in enumerate(ner_tags)]\n",
    "\n",
    "json_data = json.dumps(ner_json, indent=4)\n",
    "\n",
    "with open(\"ner_tags.json\", \"w\") as f:\n",
    "    f.write(json_data)\n"
   ]
  },
  {
   "cell_type": "markdown",
   "id": "b46d4ce0",
   "metadata": {},
   "source": [
    "Exchange spaces to tabs in all files"
   ]
  },
  {
   "cell_type": "code",
   "execution_count": 34,
   "id": "1b557e49",
   "metadata": {},
   "outputs": [],
   "source": [
    "ewt_path_en = \"../data/ewt_cleaned.conll\"\n",
    "ewt_path_es = \"../data/spanish.conll\""
   ]
  },
  {
   "cell_type": "code",
   "execution_count": 36,
   "id": "94852aa2",
   "metadata": {},
   "outputs": [],
   "source": [
    "def convert_spaces_to_tabs(input_file, output_file):\n",
    "    with open(input_file, 'r', encoding='utf-8') as infile, \\\n",
    "         open(output_file, 'w', encoding='utf-8') as outfile:\n",
    "        for line in infile:\n",
    "            if line.strip():  # Only process non-empty lines\n",
    "                parts = line.strip().split()\n",
    "                outfile.write('\\t'.join(parts) + '\\n')\n",
    "            else:\n",
    "                outfile.write('\\n')\n",
    "\n",
    "convert_spaces_to_tabs(ewt_path_en, '../annotation/train/ewt_en.conll')\n",
    "convert_spaces_to_tabs(ewt_path_es, '../annotation/train/ewt_es.conll')\n"
   ]
  },
  {
   "cell_type": "markdown",
   "id": "59894dc0",
   "metadata": {},
   "source": [
    "Merging datasets:"
   ]
  },
  {
   "cell_type": "code",
   "execution_count": 4,
   "id": "1c2c3e24",
   "metadata": {},
   "outputs": [],
   "source": [
    "training_path = '../annotation/train'\n",
    "test_path = '../annotation/test'\n",
    "\n",
    "output_path = '../data'"
   ]
  },
  {
   "cell_type": "code",
   "execution_count": null,
   "id": "338c0955",
   "metadata": {},
   "outputs": [],
   "source": [
    "# def merge_and_clean_conll_files(output_path, folder_path=None, file_types='test', *filepaths):\n",
    "#     conll_type = 'train' if file_types == 'train' else 'test'\n",
    "#     output = os.path.join(output_path, f\"{conll_type}_merged_output.conll\")\n",
    "\n",
    "#     files_to_merge = []\n",
    "\n",
    "#     if folder_path:\n",
    "#         files_to_merge.extend(glob.glob(os.path.join(folder_path, \"*.conll\")))\n",
    "#     if filepaths:\n",
    "#         files_to_merge.extend(filepaths)\n",
    "\n",
    "#     with open(output, 'w', encoding='utf-8') as outfile:\n",
    "#         for file_path in files_to_merge:\n",
    "#             with open(file_path, 'r', encoding='utf-8') as infile:\n",
    "#                 for line in infile:\n",
    "#                     line = line.strip()\n",
    "#                     if not line:\n",
    "#                         outfile.write(\"\\n\")\n",
    "#                         continue\n",
    "\n",
    "#                     parts = line.split()\n",
    "#                     if len(parts) < 2:\n",
    "#                         continue\n",
    "\n",
    "#                     word = parts[0]\n",
    "#                     tag = parts[1]\n",
    "#                     cult_tag = parts[2] if len(parts) > 2 else \"-\"\n",
    "\n",
    "#                     outfile.write(f\"{word}\\t{tag}\\t{cult_tag}\\n\")\n",
    "\n",
    "#                 outfile.write(\"\\n\")\n",
    "\n",
    "#     print(f\"Merged {len(files_to_merge)} files into {output}\")\n"
   ]
  },
  {
   "cell_type": "code",
   "execution_count": null,
   "id": "2a758773",
   "metadata": {},
   "outputs": [],
   "source": [
    "def merge_and_clean_conll_files(output_path, folder_path=None, file_types='test', *filepaths):\n",
    "    conll_type = 'train' if file_types == 'train' else 'test'\n",
    "    output = os.path.join(output_path, f\"{conll_type}_merged_output_cultural.conll\")\n",
    "\n",
    "    files_to_merge = []\n",
    "\n",
    "    if folder_path:\n",
    "        files_to_merge.extend(glob.glob(os.path.join(folder_path, \"*.conll\")))\n",
    "    if filepaths:\n",
    "        files_to_merge.extend(filepaths)\n",
    "\n",
    "    with open(output, 'w', encoding='utf-8') as outfile:\n",
    "        for file_path in files_to_merge:\n",
    "            with open(file_path, 'r', encoding='utf-8') as infile:\n",
    "                for line in infile:\n",
    "                    line = line.strip()\n",
    "                    if not line:\n",
    "                        outfile.write(\"\\n\")\n",
    "                        continue\n",
    "\n",
    "                    parts = line.split()\n",
    "                    if len(parts) < 2:\n",
    "                        continue\n",
    "\n",
    "                    word = parts[0]\n",
    "                    tag = parts[1]\n",
    "\n",
    "                    if len(parts) > 3 and parts[3] is not None:\n",
    "                        cult_tag = f\"{parts[2]} {parts[3]}\"\n",
    "                    else:\n",
    "                        cult_tag = parts[2] if len(parts) > 2 else \"-\"\n",
    "\n",
    "                    outfile.write(f\"{word}\\t{tag}\\t{cult_tag}\\n\")\n",
    "\n",
    "                outfile.write(\"\\n\")\n",
    "\n",
    "    print(f\"Merged {len(files_to_merge)} files into {output}\")\n"
   ]
  },
  {
   "cell_type": "code",
   "execution_count": 8,
   "id": "33880eea",
   "metadata": {},
   "outputs": [
    {
     "name": "stdout",
     "output_type": "stream",
     "text": [
      "Merged 6 files into ../data\\train_merged_output_cultural1.conll\n",
      "Merged 6 files into ../data\\test_merged_output_cultural1.conll\n"
     ]
    }
   ],
   "source": [
    "merge_and_clean_conll_files(output_path, folder_path=training_path, file_types='train')\n",
    "merge_and_clean_conll_files(output_path, folder_path=test_path, file_types='test')"
   ]
  }
 ],
 "metadata": {
  "kernelspec": {
   "display_name": ".venv",
   "language": "python",
   "name": "python3"
  },
  "language_info": {
   "codemirror_mode": {
    "name": "ipython",
    "version": 3
   },
   "file_extension": ".py",
   "mimetype": "text/x-python",
   "name": "python",
   "nbconvert_exporter": "python",
   "pygments_lexer": "ipython3",
   "version": "3.10.11"
  }
 },
 "nbformat": 4,
 "nbformat_minor": 5
}
